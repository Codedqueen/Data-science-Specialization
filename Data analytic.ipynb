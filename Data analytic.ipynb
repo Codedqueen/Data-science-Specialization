{
 "cells": [
  {
   "cell_type": "markdown",
   "id": "3bfe8f94-61eb-4842-8e5d-ae3f54f042b5",
   "metadata": {},
   "source": [
    "#### Logisic Regression Daa "
   ]
  },
  {
   "cell_type": "markdown",
   "id": "a4287eaf-587b-4ab7-8a2b-24a94a062745",
   "metadata": {},
   "source": [
    "###  Build a simple logistic regression model using g Python 3"
   ]
  },
  {
   "cell_type": "code",
   "execution_count": 1,
   "id": "862eba83-30e3-4e18-a894-5191013b3abf",
   "metadata": {},
   "outputs": [],
   "source": [
    "import numpy as np\n",
    "from sklearn.linear_model import LogisticRegression"
   ]
  },
  {
   "cell_type": "code",
   "execution_count": 2,
   "id": "1b611298-3c4a-42a3-b4bd-02bb2e18112d",
   "metadata": {},
   "outputs": [],
   "source": [
    "input_data = np.array([\n",
    "[0, 0],\n",
    "[0.25, 0.25],\n",
    "[0.5, 0.5],\n",
    "[1, 1],])"
   ]
  },
  {
   "cell_type": "code",
   "execution_count": 3,
   "id": "5f783e8a-8e3f-4c9e-b3ef-5a87f24b219b",
   "metadata": {},
   "outputs": [
    {
     "data": {
      "text/plain": [
       "array([[0.  , 0.  ],\n",
       "       [0.25, 0.25],\n",
       "       [0.5 , 0.5 ],\n",
       "       [1.  , 1.  ]])"
      ]
     },
     "execution_count": 3,
     "metadata": {},
     "output_type": "execute_result"
    }
   ],
   "source": [
    "input_data"
   ]
  },
  {
   "cell_type": "code",
   "execution_count": 4,
   "id": "5ab709fc-5378-433b-bc90-44ba2d1aa372",
   "metadata": {},
   "outputs": [],
   "source": [
    "output_data = [\n",
    "0,\n",
    "0,\n",
    "1,\n",
    "1\n",
    "]"
   ]
  },
  {
   "cell_type": "code",
   "execution_count": 5,
   "id": "4579d3f9-5717-40d7-8428-720481bb28a1",
   "metadata": {},
   "outputs": [
    {
     "data": {
      "text/plain": [
       "[0, 0, 1, 1]"
      ]
     },
     "execution_count": 5,
     "metadata": {},
     "output_type": "execute_result"
    }
   ],
   "source": [
    "output_data"
   ]
  },
  {
   "cell_type": "code",
   "execution_count": 6,
   "id": "df5828f4-6f90-4ae7-8382-d088ac2f82fd",
   "metadata": {},
   "outputs": [],
   "source": [
    "# train a logistic regression model"
   ]
  },
  {
   "cell_type": "code",
   "execution_count": 7,
   "id": "4d69638d-7908-451c-871b-32008c84cffb",
   "metadata": {},
   "outputs": [
    {
     "data": {
      "text/plain": [
       "LogisticRegression()"
      ]
     },
     "execution_count": 7,
     "metadata": {},
     "output_type": "execute_result"
    }
   ],
   "source": [
    "logit_model = LogisticRegression()\n",
    "logit_model.fit(input_data, output_data)"
   ]
  },
  {
   "cell_type": "code",
   "execution_count": 8,
   "id": "6aa3c395-746e-4a5b-8036-e239934ed76f",
   "metadata": {},
   "outputs": [
    {
     "data": {
      "text/plain": [
       "array([[0.49290987, 0.49290987]])"
      ]
     },
     "execution_count": 8,
     "metadata": {},
     "output_type": "execute_result"
    }
   ],
   "source": [
    "logit_model.coef_ # output: array([[0.43001235, 0.43001235]])\n"
   ]
  },
  {
   "cell_type": "code",
   "execution_count": 9,
   "id": "48684baf-28ae-42d1-9b02-26792319535e",
   "metadata": {},
   "outputs": [
    {
     "data": {
      "text/plain": [
       "array([-0.42954641])"
      ]
     },
     "execution_count": 9,
     "metadata": {},
     "output_type": "execute_result"
    }
   ],
   "source": [
    "logit_model.intercept_ # output: array([-0.18498028])"
   ]
  },
  {
   "cell_type": "code",
   "execution_count": 10,
   "id": "1a9df411-4e3b-496b-9c07-e1fe0022451b",
   "metadata": {},
   "outputs": [],
   "source": [
    "# use the predict function\n",
    "# of the logistic regression model object, logit_model."
   ]
  },
  {
   "cell_type": "code",
   "execution_count": 11,
   "id": "b9112ca7-3918-4535-958c-fb7febe051ec",
   "metadata": {},
   "outputs": [],
   "source": [
    "# In order to make predictions on the new data, you can use the predict function\n",
    "# of the logistic regression model object, logit_model. This function will return\n",
    "# the predicted output class for each input. The code looks like the following:\n"
   ]
  },
  {
   "cell_type": "code",
   "execution_count": 12,
   "id": "af2e1919-5686-415c-acb6-44cc13f10550",
   "metadata": {},
   "outputs": [],
   "source": [
    "predicted_output = logit_model.predict(input_data)"
   ]
  },
  {
   "cell_type": "code",
   "execution_count": 13,
   "id": "54b3678b-30db-4db2-87d6-07fbb8bc0784",
   "metadata": {},
   "outputs": [],
   "source": [
    "#So far, we have experimented with how to use the numpy and scikit-learn\n",
    "# packages for building a machine learning model. Let's familiarize ourselves\n",
    "# with one more package for data visualization. Throughout this book's\n",
    "# chapters, we will be heavily utilizing the matplotlib library to visualize any\n",
    "# data analysis results. For more information, you can visit this page: https://mat\n",
    "# plotlib.org/."
   ]
  },
  {
   "cell_type": "code",
   "execution_count": 14,
   "id": "67e97e82-3472-460c-9069-002a5420bc17",
   "metadata": {},
   "outputs": [],
   "source": [
    "# Using matplotlib library to visualize any\n",
    "#data analysis results."
   ]
  },
  {
   "cell_type": "code",
   "execution_count": 15,
   "id": "2382471e-13a7-4493-9ed3-c8bce5da61b9",
   "metadata": {},
   "outputs": [],
   "source": [
    "%matplotlib inline"
   ]
  },
  {
   "cell_type": "code",
   "execution_count": 16,
   "id": "19a87003-bffc-4d00-a301-e0726df58400",
   "metadata": {},
   "outputs": [
    {
     "data": {
      "image/png": "[encoded data removed]",
      "text/plain": [
       "<Figure size 432x288 with 1 Axes>"
      ]
     },
     "metadata": {
      "needs_background": "light"
     },
     "output_type": "display_data"
    }
   ],
   "source": [
    "import matplotlib.pyplot as plt\n",
    "plt.scatter(\n",
    "x=input_data[:,0],\n",
    "y=input_data[:,1],\n",
    "color=[('red' if x == 1 else 'blue') for x in output_data]\n",
    ")\n",
    "plt.xlabel('X')\n",
    "plt.ylabel('Y')\n",
    "plt.title('Actual')\n",
    "plt.grid()\n",
    "plt.show()\n"
   ]
  },
  {
   "cell_type": "markdown",
   "id": "c91cffba-f012-4e41-9825-b7d2507f4bea",
   "metadata": {},
   "source": [
    " As you can see from this code snippet, you can easily import the matplotlib\n",
    "package as in the first line of this code. In order to build a scatterplot, we are\n",
    "using the scatter function, which takes x and y values, as well as the color of\n",
    "each point. You can use the xlabel function to change the label of the x-axis and\n",
    "the ylabel function to change the label of the y-axis. Using the title function,\n",
    "you can change the title of the chart. The grid function will show grids within\n",
    "the plot and you will need to call the show function to actually display the plot"
   ]
  },
  {
   "cell_type": "code",
   "execution_count": 17,
   "id": "c906113c-4c84-4d98-b86a-c87d23610c4e",
   "metadata": {},
   "outputs": [],
   "source": [
    "%matplotlib inline"
   ]
  },
  {
   "cell_type": "markdown",
   "id": "4aa50f0e-afdd-4647-b2de-6d17ad2bf7cd",
   "metadata": {},
   "source": [
    "This is required to display the plots within the web applications. Without this\n",
    "line of code, the plots will not be shown in the web UI. In order to compare\n",
    "the actual output against the model's predictions, we built another scatterplot\n",
    "with the predicted values."
   ]
  },
  {
   "cell_type": "code",
   "execution_count": 18,
   "id": "5807f894-07e6-4496-97b7-6a6e2cad9ad4",
   "metadata": {},
   "outputs": [
    {
     "data": {
      "image/png": "[encoded data removed]",
      "text/plain": [
       "<Figure size 432x288 with 1 Axes>"
      ]
     },
     "metadata": {
      "needs_background": "light"
     },
     "output_type": "display_data"
    }
   ],
   "source": [
    "import matplotlib.pyplot as plt\n",
    "plt.scatter(\n",
    "x=input_data[:,0],\n",
    "y=input_data[:,1],\n",
    "color=[('red' if x == 1 else 'blue') for x in predicted_output]\n",
    ")\n",
    "plt.xlabel('X')\n",
    "plt.ylabel('Y')\n",
    "plt.title('predicted')\n",
    "plt.grid()\n",
    "plt.show()"
   ]
  },
  {
   "cell_type": "code",
   "execution_count": 19,
   "id": "a2c7f4a1-c108-49c2-943e-e42436c1c520",
   "metadata": {},
   "outputs": [],
   "source": [
    "# If you compare this chart with the previous one, you can see that the model\n",
    "# predicted the output"
   ]
  },
  {
   "cell_type": "code",
   "execution_count": 20,
   "id": "7ead0301-781f-4aa5-a1b7-1dd7ea89dc38",
   "metadata": {},
   "outputs": [],
   "source": [
    "#### Setting up the R environment"
   ]
  },
  {
   "cell_type": "code",
   "execution_count": 21,
   "id": "7b363085-688b-4c98-be3e-8ab90df3ce5c",
   "metadata": {},
   "outputs": [],
   "source": [
    "#k: https://www.r-project.org/."
   ]
  },
  {
   "cell_type": "markdown",
   "id": "b0424791-90ec-4a3c-a6ac-9eba13483ea0",
   "metadata": {},
   "source": [
    ": https://www.rstudio.com/products/rstudio/download/.\n",
    "\n",
    "\n",
    "e UCI's Bank\n",
    "Marketing Data Set, which can be found at this link: https://archive.ics.uci.ed\n",
    "u/ml/datasets/bank+marketing. You can follow this link and download the data by"
   ]
  },
  {
   "cell_type": "code",
   "execution_count": 22,
   "id": "c48308de-fc55-4327-8955-f1c95cd379a0",
   "metadata": {},
   "outputs": [],
   "source": [
    "import pandas as pd"
   ]
  },
  {
   "cell_type": "code",
   "execution_count": 23,
   "id": "a606527d-f267-4dbc-ab6f-9076888b6062",
   "metadata": {},
   "outputs": [],
   "source": [
    "# df = pd.read_csv(r\"C:\\Users\\user\\Desktop\\bank-additional.csv\")"
   ]
  },
  {
   "cell_type": "markdown",
   "id": "fc90e6d8-99c7-4849-b395-67ed32b0c713",
   "metadata": {},
   "source": [
    "If you look at the field description in the data download page (https://archive.i\n",
    "cs.uci.edu/ml/datasets/bank+marketing), the output variable, y, which has\n",
    "information on whether a client has subscribed to a term deposit, is encoded\n",
    "as 'yes' or 'no'. In order to simplify our conversion rate computations, we will encode this variable as 1 for 'yes' and 0 for 'no'. You can use the following\n",
    "code for this encoding:"
   ]
  },
  {
   "cell_type": "markdown",
   "id": "f7f1406f-2a61-43c1-8864-f8509124c0cf",
   "metadata": {},
   "source": [
    "As you can see from this code snippet, we are using the apply function to\n",
    "encode 'yes' as 1 and 'no' as 0 for the variable, y, and then adding this encoded\n",
    "data as a new column, conversion. The code and the loaded data in our Jupyter\n",
    "Notebook will look like the following:"
   ]
  },
  {
   "cell_type": "code",
   "execution_count": 24,
   "id": "358bf99d-5f10-4ba0-8076-b5c06176b185",
   "metadata": {},
   "outputs": [],
   "source": [
    "df = pd.read_csv('C:\\\\Users\\\\user\\\\Downloads\\\\bank-additional-full.csv', sep=';')\n",
    "                                 "
   ]
  },
  {
   "cell_type": "code",
   "execution_count": 25,
   "id": "29b59b26-716f-4770-8312-a0db5a6ab423",
   "metadata": {},
   "outputs": [],
   "source": [
    "df['conversion'] = df['y'].apply(lambda x: 1 if x == 'yes' else 0)"
   ]
  },
  {
   "cell_type": "code",
   "execution_count": 26,
   "id": "12e1d03f-4346-4b61-a911-382b7f6337b2",
   "metadata": {},
   "outputs": [
    {
     "data": {
      "text/html": [
       "<div>\n",
       "<style scoped>\n",
       "    .dataframe tbody tr th:only-of-type {\n",
       "        vertical-align: middle;\n",
       "    }\n",
       "\n",
       "    .dataframe tbody tr th {\n",
       "        vertical-align: top;\n",
       "    }\n",
       "\n",
       "    .dataframe thead th {\n",
       "        text-align: right;\n",
       "    }\n",
       "</style>\n",
       "<table border=\"1\" class=\"dataframe\">\n",
       "  <thead>\n",
       "    <tr style=\"text-align: right;\">\n",
       "      <th></th>\n",
       "      <th>age</th>\n",
       "      <th>job</th>\n",
       "      <th>marital</th>\n",
       "      <th>education</th>\n",
       "      <th>default</th>\n",
       "      <th>housing</th>\n",
       "      <th>loan</th>\n",
       "      <th>contact</th>\n",
       "      <th>month</th>\n",
       "      <th>day_of_week</th>\n",
       "      <th>...</th>\n",
       "      <th>pdays</th>\n",
       "      <th>previous</th>\n",
       "      <th>poutcome</th>\n",
       "      <th>emp.var.rate</th>\n",
       "      <th>cons.price.idx</th>\n",
       "      <th>cons.conf.idx</th>\n",
       "      <th>euribor3m</th>\n",
       "      <th>nr.employed</th>\n",
       "      <th>y</th>\n",
       "      <th>conversion</th>\n",
       "    </tr>\n",
       "  </thead>\n",
       "  <tbody>\n",
       "    <tr>\n",
       "      <th>0</th>\n",
       "      <td>56</td>\n",
       "      <td>housemaid</td>\n",
       "      <td>married</td>\n",
       "      <td>basic.4y</td>\n",
       "      <td>no</td>\n",
       "      <td>no</td>\n",
       "      <td>no</td>\n",
       "      <td>telephone</td>\n",
       "      <td>may</td>\n",
       "      <td>mon</td>\n",
       "      <td>...</td>\n",
       "      <td>999</td>\n",
       "      <td>0</td>\n",
       "      <td>nonexistent</td>\n",
       "      <td>1.1</td>\n",
       "      <td>93.994</td>\n",
       "      <td>-36.4</td>\n",
       "      <td>4.857</td>\n",
       "      <td>5191.0</td>\n",
       "      <td>no</td>\n",
       "      <td>0</td>\n",
       "    </tr>\n",
       "    <tr>\n",
       "      <th>1</th>\n",
       "      <td>57</td>\n",
       "      <td>services</td>\n",
       "      <td>married</td>\n",
       "      <td>high.school</td>\n",
       "      <td>unknown</td>\n",
       "      <td>no</td>\n",
       "      <td>no</td>\n",
       "      <td>telephone</td>\n",
       "      <td>may</td>\n",
       "      <td>mon</td>\n",
       "      <td>...</td>\n",
       "      <td>999</td>\n",
       "      <td>0</td>\n",
       "      <td>nonexistent</td>\n",
       "      <td>1.1</td>\n",
       "      <td>93.994</td>\n",
       "      <td>-36.4</td>\n",
       "      <td>4.857</td>\n",
       "      <td>5191.0</td>\n",
       "      <td>no</td>\n",
       "      <td>0</td>\n",
       "    </tr>\n",
       "    <tr>\n",
       "      <th>2</th>\n",
       "      <td>37</td>\n",
       "      <td>services</td>\n",
       "      <td>married</td>\n",
       "      <td>high.school</td>\n",
       "      <td>no</td>\n",
       "      <td>yes</td>\n",
       "      <td>no</td>\n",
       "      <td>telephone</td>\n",
       "      <td>may</td>\n",
       "      <td>mon</td>\n",
       "      <td>...</td>\n",
       "      <td>999</td>\n",
       "      <td>0</td>\n",
       "      <td>nonexistent</td>\n",
       "      <td>1.1</td>\n",
       "      <td>93.994</td>\n",
       "      <td>-36.4</td>\n",
       "      <td>4.857</td>\n",
       "      <td>5191.0</td>\n",
       "      <td>no</td>\n",
       "      <td>0</td>\n",
       "    </tr>\n",
       "    <tr>\n",
       "      <th>3</th>\n",
       "      <td>40</td>\n",
       "      <td>admin.</td>\n",
       "      <td>married</td>\n",
       "      <td>basic.6y</td>\n",
       "      <td>no</td>\n",
       "      <td>no</td>\n",
       "      <td>no</td>\n",
       "      <td>telephone</td>\n",
       "      <td>may</td>\n",
       "      <td>mon</td>\n",
       "      <td>...</td>\n",
       "      <td>999</td>\n",
       "      <td>0</td>\n",
       "      <td>nonexistent</td>\n",
       "      <td>1.1</td>\n",
       "      <td>93.994</td>\n",
       "      <td>-36.4</td>\n",
       "      <td>4.857</td>\n",
       "      <td>5191.0</td>\n",
       "      <td>no</td>\n",
       "      <td>0</td>\n",
       "    </tr>\n",
       "    <tr>\n",
       "      <th>4</th>\n",
       "      <td>56</td>\n",
       "      <td>services</td>\n",
       "      <td>married</td>\n",
       "      <td>high.school</td>\n",
       "      <td>no</td>\n",
       "      <td>no</td>\n",
       "      <td>yes</td>\n",
       "      <td>telephone</td>\n",
       "      <td>may</td>\n",
       "      <td>mon</td>\n",
       "      <td>...</td>\n",
       "      <td>999</td>\n",
       "      <td>0</td>\n",
       "      <td>nonexistent</td>\n",
       "      <td>1.1</td>\n",
       "      <td>93.994</td>\n",
       "      <td>-36.4</td>\n",
       "      <td>4.857</td>\n",
       "      <td>5191.0</td>\n",
       "      <td>no</td>\n",
       "      <td>0</td>\n",
       "    </tr>\n",
       "  </tbody>\n",
       "</table>\n",
       "<p>5 rows × 22 columns</p>\n",
       "</div>"
      ],
      "text/plain": [
       "   age        job  marital    education  default housing loan    contact  \\\n",
       "0   56  housemaid  married     basic.4y       no      no   no  telephone   \n",
       "1   57   services  married  high.school  unknown      no   no  telephone   \n",
       "2   37   services  married  high.school       no     yes   no  telephone   \n",
       "3   40     admin.  married     basic.6y       no      no   no  telephone   \n",
       "4   56   services  married  high.school       no      no  yes  telephone   \n",
       "\n",
       "  month day_of_week  ...  pdays  previous     poutcome  emp.var.rate  \\\n",
       "0   may         mon  ...    999         0  nonexistent           1.1   \n",
       "1   may         mon  ...    999         0  nonexistent           1.1   \n",
       "2   may         mon  ...    999         0  nonexistent           1.1   \n",
       "3   may         mon  ...    999         0  nonexistent           1.1   \n",
       "4   may         mon  ...    999         0  nonexistent           1.1   \n",
       "\n",
       "  cons.price.idx  cons.conf.idx  euribor3m  nr.employed   y  conversion  \n",
       "0         93.994          -36.4      4.857       5191.0  no           0  \n",
       "1         93.994          -36.4      4.857       5191.0  no           0  \n",
       "2         93.994          -36.4      4.857       5191.0  no           0  \n",
       "3         93.994          -36.4      4.857       5191.0  no           0  \n",
       "4         93.994          -36.4      4.857       5191.0  no           0  \n",
       "\n",
       "[5 rows x 22 columns]"
      ]
     },
     "execution_count": 26,
     "metadata": {},
     "output_type": "execute_result"
    }
   ],
   "source": [
    "df.head()"
   ]
  },
  {
   "cell_type": "code",
   "execution_count": 27,
   "id": "30ab3b98-5db7-4a8a-8c8b-94f46fef6fd1",
   "metadata": {},
   "outputs": [
    {
     "data": {
      "text/plain": [
       "4640"
      ]
     },
     "execution_count": 27,
     "metadata": {},
     "output_type": "execute_result"
    }
   ],
   "source": [
    "# total number of conversions\n",
    "df.conversion.sum()\n"
   ]
  },
  {
   "cell_type": "code",
   "execution_count": 28,
   "id": "d7f916ad-3a8e-4571-8b8f-09b14c92186a",
   "metadata": {},
   "outputs": [
    {
     "data": {
      "text/plain": [
       "41188"
      ]
     },
     "execution_count": 28,
     "metadata": {},
     "output_type": "execute_result"
    }
   ],
   "source": [
    "# total number of clients in the data (= number of rows in the data)\n",
    "df.shape[0]"
   ]
  },
  {
   "cell_type": "code",
   "execution_count": 29,
   "id": "549345a2-5968-43bc-b8a3-9859166fc544",
   "metadata": {},
   "outputs": [
    {
     "name": "stdout",
     "output_type": "stream",
     "text": [
      "total conversions: 4640 out of 41188\n"
     ]
    }
   ],
   "source": [
    "print('total conversions: %i out of %i' % (df.conversion.sum(), df.shape[0]))"
   ]
  },
  {
   "cell_type": "code",
   "execution_count": 30,
   "id": "02ede43e-3bba-4c45-bbd6-58f76cc13acf",
   "metadata": {},
   "outputs": [
    {
     "name": "stdout",
     "output_type": "stream",
     "text": [
      "conversion rate: 11.27%\n"
     ]
    }
   ],
   "source": [
    "print('conversion rate: %0.2f%%' % (df.conversion.sum() / df.shape[0] * 100.0))"
   ]
  },
  {
   "cell_type": "code",
   "execution_count": 31,
   "id": "4979a73d-8d49-4561-a5c3-e06d09dbd304",
   "metadata": {},
   "outputs": [],
   "source": [
    "# Conversion rates by age"
   ]
  },
  {
   "cell_type": "code",
   "execution_count": 32,
   "id": "8118c647-62ad-4540-888f-e46dc92bf90a",
   "metadata": {},
   "outputs": [],
   "source": [
    "conversions_by_age = df.groupby(\n",
    "by='age'\n",
    ")['conversion'].sum() / df.groupby(\n",
    "by='age'\n",
    ")['conversion'].count() * 100.0"
   ]
  },
  {
   "cell_type": "code",
   "execution_count": 33,
   "id": "cc707d5d-39f5-4cb2-85f1-e79818daf620",
   "metadata": {},
   "outputs": [
    {
     "data": {
      "text/plain": [
       "age\n",
       "17     40.000000\n",
       "18     42.857143\n",
       "19     47.619048\n",
       "20     35.384615\n",
       "21     28.431373\n",
       "         ...    \n",
       "91      0.000000\n",
       "92     75.000000\n",
       "94      0.000000\n",
       "95      0.000000\n",
       "98    100.000000\n",
       "Name: conversion, Length: 78, dtype: float64"
      ]
     },
     "execution_count": 33,
     "metadata": {},
     "output_type": "execute_result"
    }
   ],
   "source": [
    "conversions_by_age"
   ]
  },
  {
   "cell_type": "markdown",
   "id": "d2d61a65-56e9-401f-9672-9e331c4cebaa",
   "metadata": {},
   "source": [
    "The code to visualize conversion rates across different ages looks as follows:"
   ]
  },
  {
   "cell_type": "code",
   "execution_count": 34,
   "id": "f05db895-fc72-40cf-81a8-4d283a5dc86e",
   "metadata": {},
   "outputs": [],
   "source": [
    "import matplotlib.pyplot as plt"
   ]
  },
  {
   "cell_type": "code",
   "execution_count": 35,
   "id": "b9761f32-34ca-496d-b85a-778320c4baa1",
   "metadata": {},
   "outputs": [
    {
     "data": {
      "image/png": "[encoded data removed]",
      "text/plain": [
       "<Figure size 720x504 with 1 Axes>"
      ]
     },
     "metadata": {
      "needs_background": "light"
     },
     "output_type": "display_data"
    }
   ],
   "source": [
    "ax = conversions_by_age.plot(\n",
    "grid=True,\n",
    "figsize=(10, 7),\n",
    "title='Conversion Rates by Age'\n",
    ")\n",
    "ax.set_xlabel('age')\n",
    "ax.set_ylabel('conversion rate (%)')\n",
    "plt.show()"
   ]
  },
  {
   "cell_type": "markdown",
   "id": "ae07ff1c-1b5a-4a15-9880-7d072db97d87",
   "metadata": {},
   "source": [
    "In order to reduce this unwanted noise, we can group multiple ages together.\n",
    "In this exercise, we group bank clients into six different groups, based on their\n",
    "age—between 18 and 30, between 30 and 40, between 40 and 50, between 50 and\n",
    "60, between 60 and 70, and 70 and older. The following code can be used to\n",
    "group the clients into their corresponding groups:"
   ]
  },
  {
   "cell_type": "code",
   "execution_count": 36,
   "id": "35c377d2-ccf2-40fb-83d3-5fbd495fd015",
   "metadata": {},
   "outputs": [],
   "source": [
    "df['age_group'] = df['age'].apply(\n",
    "lambda x: '[18, 30)' if x < 30 else '[30, 40)' if x < 40 \\\n",
    "else '[40, 50)' if x < 50 else '[50, 60)' if x < 60 \\\n",
    "else '[60, 70)' if x < 70 else '70+'\n",
    ")"
   ]
  },
  {
   "cell_type": "code",
   "execution_count": 37,
   "id": "dc31bd50-e938-4cf5-8cd6-e2016656c395",
   "metadata": {},
   "outputs": [
    {
     "data": {
      "text/plain": [
       "0        [50, 60)\n",
       "1        [50, 60)\n",
       "2        [30, 40)\n",
       "3        [40, 50)\n",
       "4        [50, 60)\n",
       "           ...   \n",
       "41183         70+\n",
       "41184    [40, 50)\n",
       "41185    [50, 60)\n",
       "41186    [40, 50)\n",
       "41187         70+\n",
       "Name: age_group, Length: 41188, dtype: object"
      ]
     },
     "execution_count": 37,
     "metadata": {},
     "output_type": "execute_result"
    }
   ],
   "source": [
    "df['age_group'] "
   ]
  },
  {
   "cell_type": "code",
   "execution_count": 38,
   "id": "9f552346-6eb4-4a02-abfc-7678307692ea",
   "metadata": {},
   "outputs": [],
   "source": [
    "conversions_by_age_group = df.groupby(\n",
    "by='age_group'\n",
    ")['conversion'].sum() / df.groupby(\n",
    "by='age_group'\n",
    ")['conversion'].count() * 100.0"
   ]
  },
  {
   "cell_type": "code",
   "execution_count": 39,
   "id": "1ae2ff3f-6e0b-44ce-b385-a14244bdc365",
   "metadata": {},
   "outputs": [
    {
     "data": {
      "text/plain": [
       "age_group\n",
       "70+         47.121535\n",
       "[18, 30)    16.263891\n",
       "[30, 40)    10.125162\n",
       "[40, 50)     7.923238\n",
       "[50, 60)    10.157389\n",
       "[60, 70)    34.668508\n",
       "Name: conversion, dtype: float64"
      ]
     },
     "execution_count": 39,
     "metadata": {},
     "output_type": "execute_result"
    }
   ],
   "source": [
    "conversions_by_age_group"
   ]
  },
  {
   "cell_type": "markdown",
   "id": "09d57c37-52c6-44be-9ffe-c35a10ee12e9",
   "metadata": {},
   "source": [
    "Similar to the previous case, we are using the groupby, sum, and count functions\n",
    "to calculate conversion rates for these six different age groups. The resulting\n",
    "data looks like the following screenshot:"
   ]
  },
  {
   "cell_type": "markdown",
   "id": "6172ac9d-359f-4a52-80a2-be154e8c685b",
   "metadata": {},
   "source": [
    "As you can see from this, the variations by each age group are much smaller\n",
    "than before, especially in old age groups. We can visualize this data using a\n",
    "bar plot, as shown in the following screenshot:"
   ]
  },
  {
   "cell_type": "markdown",
   "id": "5448a541-7d4f-4a7d-b5a9-3d2726eb88dd",
   "metadata": {},
   "source": [
    "The code to build this bar plot looks like the following:"
   ]
  },
  {
   "cell_type": "code",
   "execution_count": 40,
   "id": "8d502fab-80a0-494a-980e-58650edea348",
   "metadata": {
    "tags": []
   },
   "outputs": [
    {
     "data": {
      "image/png": "[encoded data removed]",
      "text/plain": [
       "<Figure size 720x504 with 1 Axes>"
      ]
     },
     "metadata": {
      "needs_background": "light"
     },
     "output_type": "display_data"
    }
   ],
   "source": [
    "# Visualing using a bar plot\n",
    "ax = conversions_by_age_group.loc[\n",
    "['[18, 30)', '[30, 40)', '[40, 50)', '[50, 60)', '[60, 70)', '70+']\n",
    "].plot(\n",
    "kind='bar',\n",
    "color='skyblue',\n",
    "grid=True,\n",
    "figsize=(10, 7),\n",
    "title='Conversion Rates by Age Groups'\n",
    ")\n",
    "ax.set_xlabel('age')\n",
    "ax.set_ylabel('conversion rate (%)')\n",
    "\n",
    "plt.show()"
   ]
  },
  {
   "cell_type": "markdown",
   "id": "3bdbe731-580b-4898-977d-1ff392934abe",
   "metadata": {},
   "source": [
    "As you can see from this code, we are using the same plot function that we\n",
    "used before to build a line plot. The only difference is the kind argument, with\n",
    "which we can define different types of plots we would like to build. Here, we\n",
    "are giving a value of bar to this kind argument to build a bar plot."
   ]
  },
  {
   "cell_type": "markdown",
   "id": "46776dc2-96cc-4ead-9bcf-a1098d3dcd6b",
   "metadata": {},
   "source": [
    "#### Conversions versus non-conversions"
   ]
  },
  {
   "cell_type": "markdown",
   "id": "5dcaeaf5-b116-4e50-888a-03464bf0cd10",
   "metadata": {},
   "source": [
    "We will first count the number of conversions and non-conversions for each\n",
    "marital status. The following code shows how we can compute this using\n",
    "pandas functions:"
   ]
  },
  {
   "cell_type": "code",
   "execution_count": 41,
   "id": "5694b5d5-c7b9-47d9-aed1-b8f5d5001f8e",
   "metadata": {},
   "outputs": [],
   "source": [
    "conversions_by_marital_status_df = pd.pivot_table(df, values='y', index='marital', columns='conversion', aggfunc=len)"
   ]
  },
  {
   "cell_type": "markdown",
   "id": "3cc3bead-4d33-4ea2-95d7-b61c47da9d66",
   "metadata": {},
   "source": [
    "As you can see from this code, we are using the pivot_table function in\n",
    "the pandas library. We are grouping by the columns, marital and conversion, where\n",
    "marital will become the index and conversion will become the column of the\n",
    "new DataFrame. With the aggfunc argument, we can supply the type of aggregation\n",
    "we want to perform. Here, we are using the len function to simply count the\n",
    "number of clients for each group. The resulting data looks like the following\n",
    "screenshot:"
   ]
  },
  {
   "cell_type": "markdown",
   "id": "fccf2d87-5af3-4889-9625-519fb917edf7",
   "metadata": {
    "tags": []
   },
   "source": [
    "##### Another way to represent this data is by using pie charts, as follows:"
   ]
  },
  {
   "cell_type": "markdown",
   "id": "74ae6752-0b34-4717-8e22-416897e74d39",
   "metadata": {},
   "source": [
    "Representing the data using  pie charts:"
   ]
  },
  {
   "cell_type": "code",
   "execution_count": 42,
   "id": "777fd3c9-4d52-4f32-b707-0d5dd6576d25",
   "metadata": {},
   "outputs": [],
   "source": [
    "ax = conversions_by_age_group"
   ]
  },
  {
   "cell_type": "code",
   "execution_count": 43,
   "id": "ced6b36d-4d87-480a-94a9-b9393502b4c8",
   "metadata": {},
   "outputs": [
    {
     "data": {
      "image/png": "[encoded data removed]",
      "text/plain": [
       "<Figure size 1080x504 with 2 Axes>"
      ]
     },
     "metadata": {},
     "output_type": "display_data"
    }
   ],
   "source": [
    "conversions_by_marital_status_df.plot(\n",
    "kind='pie',\n",
    "figsize=(15, 7),\n",
    "startangle=90,\n",
    "subplots=True,\n",
    "autopct=lambda x: '%0.1f%%' % x\n",
    ")\n",
    "plt.show()"
   ]
  },
  {
   "cell_type": "markdown",
   "id": "7b6db18e-4a4a-4848-bae1-bf0af5e363ef",
   "metadata": {},
   "source": [
    "As you can see from this code, we are using the same plot function as before,\n",
    "but using pie as the kind of plot that we would like to build. You can use\n",
    "the autopct argument to format the label for each group in the pie charts.\n",
    "Compared to the tabular format of the data output, pie charts make it much\n",
    "easier to understand the overall distributions of the data. With pie charts, we\n",
    "can easily see that the married group takes up the largest proportions in both\n",
    "conversions and non-conversions groups, while the single group comes as the\n",
    "second. Using pie charts, we can easily visualize the similarities and\n",
    "differences between two groups."
   ]
  },
  {
   "cell_type": "markdown",
   "id": "ac29d479-1ba9-4f8b-acba-14daad37df90",
   "metadata": {},
   "source": [
    "### Conversions by age and marital\n",
    "### status\n"
   ]
  },
  {
   "cell_type": "code",
   "execution_count": 44,
   "id": "ff379968-ecb9-42f9-a1bf-a7ea589a4678",
   "metadata": {},
   "outputs": [],
   "source": [
    "age_marital_df = df.groupby(['age_group', 'marital'])['conversion'].sum().unstack('marital').fillna(0)\n"
   ]
  },
  {
   "cell_type": "code",
   "execution_count": 45,
   "id": "13da374f-db27-44d6-878d-6d6a556955fb",
   "metadata": {},
   "outputs": [
    {
     "data": {
      "text/html": [
       "<div>\n",
       "<style scoped>\n",
       "    .dataframe tbody tr th:only-of-type {\n",
       "        vertical-align: middle;\n",
       "    }\n",
       "\n",
       "    .dataframe tbody tr th {\n",
       "        vertical-align: top;\n",
       "    }\n",
       "\n",
       "    .dataframe thead th {\n",
       "        text-align: right;\n",
       "    }\n",
       "</style>\n",
       "<table border=\"1\" class=\"dataframe\">\n",
       "  <thead>\n",
       "    <tr style=\"text-align: right;\">\n",
       "      <th>marital</th>\n",
       "      <th>divorced</th>\n",
       "      <th>married</th>\n",
       "      <th>single</th>\n",
       "      <th>unknown</th>\n",
       "    </tr>\n",
       "    <tr>\n",
       "      <th>age_group</th>\n",
       "      <th></th>\n",
       "      <th></th>\n",
       "      <th></th>\n",
       "      <th></th>\n",
       "    </tr>\n",
       "  </thead>\n",
       "  <tbody>\n",
       "    <tr>\n",
       "      <th>70+</th>\n",
       "      <td>64.0</td>\n",
       "      <td>151.0</td>\n",
       "      <td>6.0</td>\n",
       "      <td>0.0</td>\n",
       "    </tr>\n",
       "    <tr>\n",
       "      <th>[18, 30)</th>\n",
       "      <td>12.0</td>\n",
       "      <td>158.0</td>\n",
       "      <td>751.0</td>\n",
       "      <td>1.0</td>\n",
       "    </tr>\n",
       "    <tr>\n",
       "      <th>[30, 40)</th>\n",
       "      <td>128.0</td>\n",
       "      <td>897.0</td>\n",
       "      <td>684.0</td>\n",
       "      <td>6.0</td>\n",
       "    </tr>\n",
       "    <tr>\n",
       "      <th>[40, 50)</th>\n",
       "      <td>126.0</td>\n",
       "      <td>575.0</td>\n",
       "      <td>130.0</td>\n",
       "      <td>3.0</td>\n",
       "    </tr>\n",
       "    <tr>\n",
       "      <th>[50, 60)</th>\n",
       "      <td>119.0</td>\n",
       "      <td>533.0</td>\n",
       "      <td>44.0</td>\n",
       "      <td>1.0</td>\n",
       "    </tr>\n",
       "    <tr>\n",
       "      <th>[60, 70)</th>\n",
       "      <td>27.0</td>\n",
       "      <td>218.0</td>\n",
       "      <td>5.0</td>\n",
       "      <td>1.0</td>\n",
       "    </tr>\n",
       "  </tbody>\n",
       "</table>\n",
       "</div>"
      ],
      "text/plain": [
       "marital    divorced  married  single  unknown\n",
       "age_group                                    \n",
       "70+            64.0    151.0     6.0      0.0\n",
       "[18, 30)       12.0    158.0   751.0      1.0\n",
       "[30, 40)      128.0    897.0   684.0      6.0\n",
       "[40, 50)      126.0    575.0   130.0      3.0\n",
       "[50, 60)      119.0    533.0    44.0      1.0\n",
       "[60, 70)       27.0    218.0     5.0      1.0"
      ]
     },
     "execution_count": 45,
     "metadata": {},
     "output_type": "execute_result"
    }
   ],
   "source": [
    "age_marital_df"
   ]
  },
  {
   "cell_type": "code",
   "execution_count": 46,
   "id": "1ef0a837-4ac4-4e06-a631-16203efa4941",
   "metadata": {},
   "outputs": [],
   "source": [
    "age_marital_df = age_marital_df.divide(df.groupby(by='age_group')['conversion'].count(), axis=0)\n",
    "   "
   ]
  },
  {
   "cell_type": "code",
   "execution_count": 47,
   "id": "ad3f9db5-9372-4434-9b8e-fa4402d20729",
   "metadata": {},
   "outputs": [
    {
     "data": {
      "text/html": [
       "<div>\n",
       "<style scoped>\n",
       "    .dataframe tbody tr th:only-of-type {\n",
       "        vertical-align: middle;\n",
       "    }\n",
       "\n",
       "    .dataframe tbody tr th {\n",
       "        vertical-align: top;\n",
       "    }\n",
       "\n",
       "    .dataframe thead th {\n",
       "        text-align: right;\n",
       "    }\n",
       "</style>\n",
       "<table border=\"1\" class=\"dataframe\">\n",
       "  <thead>\n",
       "    <tr style=\"text-align: right;\">\n",
       "      <th>marital</th>\n",
       "      <th>divorced</th>\n",
       "      <th>married</th>\n",
       "      <th>single</th>\n",
       "      <th>unknown</th>\n",
       "    </tr>\n",
       "    <tr>\n",
       "      <th>age_group</th>\n",
       "      <th></th>\n",
       "      <th></th>\n",
       "      <th></th>\n",
       "      <th></th>\n",
       "    </tr>\n",
       "  </thead>\n",
       "  <tbody>\n",
       "    <tr>\n",
       "      <th>70+</th>\n",
       "      <td>0.136461</td>\n",
       "      <td>0.321962</td>\n",
       "      <td>0.012793</td>\n",
       "      <td>0.000000</td>\n",
       "    </tr>\n",
       "    <tr>\n",
       "      <th>[18, 30)</th>\n",
       "      <td>0.002117</td>\n",
       "      <td>0.027871</td>\n",
       "      <td>0.132475</td>\n",
       "      <td>0.000176</td>\n",
       "    </tr>\n",
       "    <tr>\n",
       "      <th>[30, 40)</th>\n",
       "      <td>0.007557</td>\n",
       "      <td>0.052958</td>\n",
       "      <td>0.040383</td>\n",
       "      <td>0.000354</td>\n",
       "    </tr>\n",
       "    <tr>\n",
       "      <th>[40, 50)</th>\n",
       "      <td>0.011970</td>\n",
       "      <td>0.054627</td>\n",
       "      <td>0.012350</td>\n",
       "      <td>0.000285</td>\n",
       "    </tr>\n",
       "    <tr>\n",
       "      <th>[50, 60)</th>\n",
       "      <td>0.017342</td>\n",
       "      <td>0.077674</td>\n",
       "      <td>0.006412</td>\n",
       "      <td>0.000146</td>\n",
       "    </tr>\n",
       "    <tr>\n",
       "      <th>[60, 70)</th>\n",
       "      <td>0.037293</td>\n",
       "      <td>0.301105</td>\n",
       "      <td>0.006906</td>\n",
       "      <td>0.001381</td>\n",
       "    </tr>\n",
       "  </tbody>\n",
       "</table>\n",
       "</div>"
      ],
      "text/plain": [
       "marital    divorced   married    single   unknown\n",
       "age_group                                        \n",
       "70+        0.136461  0.321962  0.012793  0.000000\n",
       "[18, 30)   0.002117  0.027871  0.132475  0.000176\n",
       "[30, 40)   0.007557  0.052958  0.040383  0.000354\n",
       "[40, 50)   0.011970  0.054627  0.012350  0.000285\n",
       "[50, 60)   0.017342  0.077674  0.006412  0.000146\n",
       "[60, 70)   0.037293  0.301105  0.006906  0.001381"
      ]
     },
     "execution_count": 47,
     "metadata": {},
     "output_type": "execute_result"
    }
   ],
   "source": [
    "age_marital_df"
   ]
  },
  {
   "cell_type": "markdown",
   "id": "f9b09e82-8c7e-4718-8903-1e3e8374cc2b",
   "metadata": {},
   "source": [
    "As you can see from this code, we are grouping our data by the two columns,\n",
    "age_group and marital, and summing the number of conversions. Then, we divide\n",
    "this by the total number of clients in each group. The resulting data looks like\n",
    "the following screenshot:"
   ]
  },
  {
   "cell_type": "markdown",
   "id": "7ce38094-34ed-4f51-a2c0-28b5f9b45f09",
   "metadata": {},
   "source": [
    "As you can see from this data, we can now see the distribution of conversion\n",
    "rates based on two criteria, age group and martial status. For example, the\n",
    "conversion rate of clients who are single and between 18 and 30 years old is\n",
    "13.25%, while the conversion rate of clients who are married and between 60\n",
    "and 70 years old is 30.11%. Another way to visualize this data is to use a bar\n",
    "plot that looks like the following:"
   ]
  },
  {
   "cell_type": "markdown",
   "id": "38169985-2607-4a47-ad62-da84fb00222f",
   "metadata": {},
   "source": [
    "In this bar chart, we can easily see the distributions of conversion rates for\n",
    "each of the age and marital status groups. The code we used to build this bar\n",
    "plot looks is shown here:\n"
   ]
  },
  {
   "cell_type": "markdown",
   "id": "f59de422-919a-4010-9eb6-ec44d5ded37c",
   "metadata": {},
   "source": [
    "#### conversion rate by Age and marital Status"
   ]
  },
  {
   "cell_type": "code",
   "execution_count": 48,
   "id": "fc932dd2-d52b-41fc-ba92-244b2be6a57e",
   "metadata": {},
   "outputs": [
    {
     "data": {
      "image/png": "[encoded data removed]",
      "text/plain": [
       "<Figure size 720x504 with 1 Axes>"
      ]
     },
     "metadata": {
      "needs_background": "light"
     },
     "output_type": "display_data"
    }
   ],
   "source": [
    "ax = age_marital_df.loc[\n",
    "['[18, 30)', '[30, 40)', '[40, 50)', '[50, 60)', '[60, 70)', '70+']\n",
    "].plot( \n",
    "    \n",
    "   kind='bar',\n",
    "grid=True,\n",
    "figsize=(10,7)\n",
    ")\n",
    "ax.set_title('Conversion rates by Age & Marital Status')\n",
    "ax.set_xlabel('age group')\n",
    "ax.set_ylabel('conversion rate (%)')\n",
    "plt.show()"
   ]
  },
  {
   "cell_type": "markdown",
   "id": "a03d1611-24d9-4c7a-8e99-386da06b93f5",
   "metadata": {},
   "source": [
    "Similar to previous cases, we are using the plot function of the pandas library\n",
    "and passing bar to the kind argument of the function. Since the DataFrame,\n",
    "age_marital_df, has four columns for each of the marital statuses and is indexed\n",
    "by age groups, the plot function builds a bar plot with four bars for each of the\n",
    "marital statuses for each of the age groups. "
   ]
  },
  {
   "cell_type": "markdown",
   "id": "4d5aca1f-df02-4417-9486-0ee13b748644",
   "metadata": {},
   "source": [
    "If you would like to stack those four bars for each age group, then you can use\n",
    "the following code for a stacked bar plot:"
   ]
  },
  {
   "cell_type": "code",
   "execution_count": 49,
   "id": "fa618f8c-da16-4fbf-9fa9-7d17c4a9d298",
   "metadata": {},
   "outputs": [
    {
     "data": {
      "image/png": "[encoded data removed]",
      "text/plain": [
       "<Figure size 720x504 with 1 Axes>"
      ]
     },
     "metadata": {
      "needs_background": "light"
     },
     "output_type": "display_data"
    }
   ],
   "source": [
    "# conversion by age and marial status\n",
    "ax = age_marital_df.loc[\n",
    "    ['[18, 30)', '[30, 40)', '[40, 50)', '[50, 60)', '[60, 70)', '70+']\n",
    "].plot(\n",
    "   kind='bar',\n",
    "   stacked=True,\n",
    "   grid=True,\n",
    "   figsize=(10,7)\n",
    ")\n",
    "ax.set_title('Conversion rates by Age & Marital Status')\n",
    "ax.set_xlabel('age group')\n",
    "ax.set_ylabel('conversion rate (%)')\n",
    "\n",
    "plt.show()"
   ]
  },
  {
   "cell_type": "markdown",
   "id": "336e9c2c-5cc6-4701-8bfe-a19c766e12d3",
   "metadata": {},
   "source": [
    "As you can see from this code, the only difference is the argument, stacked, that\n",
    "we used in this code. When this argument is set to True, it will build a stacked\n",
    "bar plot, which looks like the following:\n",
    "\n",
    "only easily see the overall trends in conversion rates across different age\n",
    "groups, but also the proportions of converted clients with different marital\n",
    "statuses for each age group. "
   ]
  },
  {
   "cell_type": "code",
   "execution_count": 50,
   "id": "f2f711cc-8609-448e-a1bb-c3287e2e2200",
   "metadata": {},
   "outputs": [],
   "source": [
    "import matplotlib.pyplot as plt\n",
    "import pandas as pd"
   ]
  },
  {
   "cell_type": "code",
   "execution_count": 51,
   "id": "1ee3e872-b904-4c5a-9501-ac2dd4257a43",
   "metadata": {},
   "outputs": [],
   "source": [
    "df = pd.read_csv(r\"C:\\Users\\user\\Desktop\\WA_Fn-UseC_-Marketing-Customer-Value-Analysis.csv\")"
   ]
  },
  {
   "cell_type": "code",
   "execution_count": 52,
   "id": "19ece165-dc02-4d67-b793-090cf4d68568",
   "metadata": {},
   "outputs": [
    {
     "data": {
      "text/plain": [
       "(9134, 24)"
      ]
     },
     "execution_count": 52,
     "metadata": {},
     "output_type": "execute_result"
    }
   ],
   "source": [
    "df.shape"
   ]
  },
  {
   "cell_type": "code",
   "execution_count": 53,
   "id": "8d0f8f61-8e62-47d3-a16b-bfa29cd36dcf",
   "metadata": {},
   "outputs": [
    {
     "data": {
      "text/html": [
       "<div>\n",
       "<style scoped>\n",
       "    .dataframe tbody tr th:only-of-type {\n",
       "        vertical-align: middle;\n",
       "    }\n",
       "\n",
       "    .dataframe tbody tr th {\n",
       "        vertical-align: top;\n",
       "    }\n",
       "\n",
       "    .dataframe thead th {\n",
       "        text-align: right;\n",
       "    }\n",
       "</style>\n",
       "<table border=\"1\" class=\"dataframe\">\n",
       "  <thead>\n",
       "    <tr style=\"text-align: right;\">\n",
       "      <th></th>\n",
       "      <th>Customer</th>\n",
       "      <th>State</th>\n",
       "      <th>Customer Lifetime Value</th>\n",
       "      <th>Response</th>\n",
       "      <th>Coverage</th>\n",
       "      <th>Education</th>\n",
       "      <th>Effective To Date</th>\n",
       "      <th>EmploymentStatus</th>\n",
       "      <th>Gender</th>\n",
       "      <th>Income</th>\n",
       "      <th>...</th>\n",
       "      <th>Months Since Policy Inception</th>\n",
       "      <th>Number of Open Complaints</th>\n",
       "      <th>Number of Policies</th>\n",
       "      <th>Policy Type</th>\n",
       "      <th>Policy</th>\n",
       "      <th>Renew Offer Type</th>\n",
       "      <th>Sales Channel</th>\n",
       "      <th>Total Claim Amount</th>\n",
       "      <th>Vehicle Class</th>\n",
       "      <th>Vehicle Size</th>\n",
       "    </tr>\n",
       "  </thead>\n",
       "  <tbody>\n",
       "    <tr>\n",
       "      <th>0</th>\n",
       "      <td>BU79786</td>\n",
       "      <td>Washington</td>\n",
       "      <td>2763.519279</td>\n",
       "      <td>No</td>\n",
       "      <td>Basic</td>\n",
       "      <td>Bachelor</td>\n",
       "      <td>2/24/11</td>\n",
       "      <td>Employed</td>\n",
       "      <td>F</td>\n",
       "      <td>56274</td>\n",
       "      <td>...</td>\n",
       "      <td>5</td>\n",
       "      <td>0</td>\n",
       "      <td>1</td>\n",
       "      <td>Corporate Auto</td>\n",
       "      <td>Corporate L3</td>\n",
       "      <td>Offer1</td>\n",
       "      <td>Agent</td>\n",
       "      <td>384.811147</td>\n",
       "      <td>Two-Door Car</td>\n",
       "      <td>Medsize</td>\n",
       "    </tr>\n",
       "    <tr>\n",
       "      <th>1</th>\n",
       "      <td>QZ44356</td>\n",
       "      <td>Arizona</td>\n",
       "      <td>6979.535903</td>\n",
       "      <td>No</td>\n",
       "      <td>Extended</td>\n",
       "      <td>Bachelor</td>\n",
       "      <td>1/31/11</td>\n",
       "      <td>Unemployed</td>\n",
       "      <td>F</td>\n",
       "      <td>0</td>\n",
       "      <td>...</td>\n",
       "      <td>42</td>\n",
       "      <td>0</td>\n",
       "      <td>8</td>\n",
       "      <td>Personal Auto</td>\n",
       "      <td>Personal L3</td>\n",
       "      <td>Offer3</td>\n",
       "      <td>Agent</td>\n",
       "      <td>1131.464935</td>\n",
       "      <td>Four-Door Car</td>\n",
       "      <td>Medsize</td>\n",
       "    </tr>\n",
       "    <tr>\n",
       "      <th>2</th>\n",
       "      <td>AI49188</td>\n",
       "      <td>Nevada</td>\n",
       "      <td>12887.431650</td>\n",
       "      <td>No</td>\n",
       "      <td>Premium</td>\n",
       "      <td>Bachelor</td>\n",
       "      <td>2/19/11</td>\n",
       "      <td>Employed</td>\n",
       "      <td>F</td>\n",
       "      <td>48767</td>\n",
       "      <td>...</td>\n",
       "      <td>38</td>\n",
       "      <td>0</td>\n",
       "      <td>2</td>\n",
       "      <td>Personal Auto</td>\n",
       "      <td>Personal L3</td>\n",
       "      <td>Offer1</td>\n",
       "      <td>Agent</td>\n",
       "      <td>566.472247</td>\n",
       "      <td>Two-Door Car</td>\n",
       "      <td>Medsize</td>\n",
       "    </tr>\n",
       "    <tr>\n",
       "      <th>3</th>\n",
       "      <td>WW63253</td>\n",
       "      <td>California</td>\n",
       "      <td>7645.861827</td>\n",
       "      <td>No</td>\n",
       "      <td>Basic</td>\n",
       "      <td>Bachelor</td>\n",
       "      <td>1/20/11</td>\n",
       "      <td>Unemployed</td>\n",
       "      <td>M</td>\n",
       "      <td>0</td>\n",
       "      <td>...</td>\n",
       "      <td>65</td>\n",
       "      <td>0</td>\n",
       "      <td>7</td>\n",
       "      <td>Corporate Auto</td>\n",
       "      <td>Corporate L2</td>\n",
       "      <td>Offer1</td>\n",
       "      <td>Call Center</td>\n",
       "      <td>529.881344</td>\n",
       "      <td>SUV</td>\n",
       "      <td>Medsize</td>\n",
       "    </tr>\n",
       "    <tr>\n",
       "      <th>4</th>\n",
       "      <td>HB64268</td>\n",
       "      <td>Washington</td>\n",
       "      <td>2813.692575</td>\n",
       "      <td>No</td>\n",
       "      <td>Basic</td>\n",
       "      <td>Bachelor</td>\n",
       "      <td>2/3/11</td>\n",
       "      <td>Employed</td>\n",
       "      <td>M</td>\n",
       "      <td>43836</td>\n",
       "      <td>...</td>\n",
       "      <td>44</td>\n",
       "      <td>0</td>\n",
       "      <td>1</td>\n",
       "      <td>Personal Auto</td>\n",
       "      <td>Personal L1</td>\n",
       "      <td>Offer1</td>\n",
       "      <td>Agent</td>\n",
       "      <td>138.130879</td>\n",
       "      <td>Four-Door Car</td>\n",
       "      <td>Medsize</td>\n",
       "    </tr>\n",
       "  </tbody>\n",
       "</table>\n",
       "<p>5 rows × 24 columns</p>\n",
       "</div>"
      ],
      "text/plain": [
       "  Customer       State  Customer Lifetime Value Response  Coverage Education  \\\n",
       "0  BU79786  Washington              2763.519279       No     Basic  Bachelor   \n",
       "1  QZ44356     Arizona              6979.535903       No  Extended  Bachelor   \n",
       "2  AI49188      Nevada             12887.431650       No   Premium  Bachelor   \n",
       "3  WW63253  California              7645.861827       No     Basic  Bachelor   \n",
       "4  HB64268  Washington              2813.692575       No     Basic  Bachelor   \n",
       "\n",
       "  Effective To Date EmploymentStatus Gender  Income  ...  \\\n",
       "0           2/24/11         Employed      F   56274  ...   \n",
       "1           1/31/11       Unemployed      F       0  ...   \n",
       "2           2/19/11         Employed      F   48767  ...   \n",
       "3           1/20/11       Unemployed      M       0  ...   \n",
       "4            2/3/11         Employed      M   43836  ...   \n",
       "\n",
       "  Months Since Policy Inception Number of Open Complaints  Number of Policies  \\\n",
       "0                             5                         0                   1   \n",
       "1                            42                         0                   8   \n",
       "2                            38                         0                   2   \n",
       "3                            65                         0                   7   \n",
       "4                            44                         0                   1   \n",
       "\n",
       "      Policy Type        Policy  Renew Offer Type  Sales Channel  \\\n",
       "0  Corporate Auto  Corporate L3            Offer1          Agent   \n",
       "1   Personal Auto   Personal L3            Offer3          Agent   \n",
       "2   Personal Auto   Personal L3            Offer1          Agent   \n",
       "3  Corporate Auto  Corporate L2            Offer1    Call Center   \n",
       "4   Personal Auto   Personal L1            Offer1          Agent   \n",
       "\n",
       "  Total Claim Amount  Vehicle Class Vehicle Size  \n",
       "0         384.811147   Two-Door Car      Medsize  \n",
       "1        1131.464935  Four-Door Car      Medsize  \n",
       "2         566.472247   Two-Door Car      Medsize  \n",
       "3         529.881344            SUV      Medsize  \n",
       "4         138.130879  Four-Door Car      Medsize  \n",
       "\n",
       "[5 rows x 24 columns]"
      ]
     },
     "execution_count": 53,
     "metadata": {},
     "output_type": "execute_result"
    }
   ],
   "source": [
    "df.head()"
   ]
  },
  {
   "cell_type": "markdown",
   "id": "a1fb9b8d-2e92-47d8-bf3b-d33cca7e4997",
   "metadata": {},
   "source": [
    "### Data analysis and visualizations"
   ]
  },
  {
   "cell_type": "markdown",
   "id": "60220ccd-b496-4e84-9a50-574e507707bf",
   "metadata": {},
   "source": [
    "Before we dive into regression analysis, we will first take a more detailed\n",
    "look at the data, in order to have a better understanding of what data points\n",
    "we have and what patterns we can see in the data. If you look at the data, you\n",
    "will notice a column named Response. It contains information on whether a\n",
    "customer responded to marketing calls. We will use this field as a measure of\n",
    "customer engagement. For future computations, it will be better to encode\n",
    "this field with numerical values. Let's take a look at the following code:"
   ]
  },
  {
   "cell_type": "code",
   "execution_count": 54,
   "id": "487761a2-980b-4c28-8893-7a4c5b2c60ab",
   "metadata": {},
   "outputs": [],
   "source": [
    "df['Engaged'] = df['Response'].apply(lambda x: 0 if x == 'No' else 1)"
   ]
  },
  {
   "cell_type": "markdown",
   "id": "efccd14f-5c27-473a-ab28-ece336a85ef3",
   "metadata": {},
   "source": [
    "As you can see in this code, using the apply function of a pandas DataFrame, we\n",
    "are encoding those who did not respond to marketing calls (No) with a value\n",
    "of 0 and those who did respond (Yes) with a value of 1. We are creating a new\n",
    "field named Engaged with these encoded values."
   ]
  },
  {
   "cell_type": "markdown",
   "id": "bf64790f-083b-41f1-89cf-9e98f7dfdcf0",
   "metadata": {},
   "source": [
    "### Engagement rate"
   ]
  },
  {
   "cell_type": "markdown",
   "id": "5483225b-76f5-44bf-aff7-b54efa6d5ad2",
   "metadata": {},
   "source": [
    "The first thing that we are going to look at is the aggregate engagement rate.\n",
    "This engagement rate is simply the percentage of customers that responded to\n",
    "the marketing calls. Take a look at the following code"
   ]
  },
  {
   "cell_type": "code",
   "execution_count": 55,
   "id": "8d4b8de9-ef25-4c7e-a36f-315b5979e224",
   "metadata": {},
   "outputs": [],
   "source": [
    "engagement_rate_df = pd.DataFrame(\n",
    "df.groupby('Engaged').count()['Response'] / df.shape[0] * 100.0\n",
    ")"
   ]
  },
  {
   "cell_type": "markdown",
   "id": "a7f5aed1-cf84-4d6c-b84e-557371a835e9",
   "metadata": {},
   "source": [
    "As you can see from this code, we are grouping by the newly created field,\n",
    "Engaged, using the groupby function of a pandas DataFrame. Then, we are counting\n",
    "the number of records (or customers) in each Engaged group with the count\n",
    "function. By dividing by the total number of customers in the DataFrame and\n",
    "multiplying by 100.0, we get the engagement rate. The results are as follows:"
   ]
  },
  {
   "cell_type": "code",
   "execution_count": 56,
   "id": "656121ac-2481-4203-9c4f-04358b1bb45e",
   "metadata": {},
   "outputs": [
    {
     "data": {
      "text/html": [
       "<div>\n",
       "<style scoped>\n",
       "    .dataframe tbody tr th:only-of-type {\n",
       "        vertical-align: middle;\n",
       "    }\n",
       "\n",
       "    .dataframe tbody tr th {\n",
       "        vertical-align: top;\n",
       "    }\n",
       "\n",
       "    .dataframe thead th {\n",
       "        text-align: right;\n",
       "    }\n",
       "</style>\n",
       "<table border=\"1\" class=\"dataframe\">\n",
       "  <thead>\n",
       "    <tr style=\"text-align: right;\">\n",
       "      <th></th>\n",
       "      <th>Response</th>\n",
       "    </tr>\n",
       "    <tr>\n",
       "      <th>Engaged</th>\n",
       "      <th></th>\n",
       "    </tr>\n",
       "  </thead>\n",
       "  <tbody>\n",
       "    <tr>\n",
       "      <th>0</th>\n",
       "      <td>85.679877</td>\n",
       "    </tr>\n",
       "    <tr>\n",
       "      <th>1</th>\n",
       "      <td>14.320123</td>\n",
       "    </tr>\n",
       "  </tbody>\n",
       "</table>\n",
       "</div>"
      ],
      "text/plain": [
       "          Response\n",
       "Engaged           \n",
       "0        85.679877\n",
       "1        14.320123"
      ]
     },
     "execution_count": 56,
     "metadata": {},
     "output_type": "execute_result"
    }
   ],
   "source": [
    "engagement_rate_df "
   ]
  },
  {
   "cell_type": "markdown",
   "id": "b1dd6448-1fdc-40e7-844a-46f11027a20d",
   "metadata": {},
   "source": [
    "To make this easier to read, we can transpose the DataFrame, meaning that\n",
    "we can flip the rows and columns in the DataFrame. You can transpose a\n",
    "pandas DataFrame by using the T attribute of a DataFrame. It looks as follows:"
   ]
  },
  {
   "cell_type": "code",
   "execution_count": 57,
   "id": "48ef4c6b-b2d1-4d6c-8f93-7bb502e68871",
   "metadata": {},
   "outputs": [
    {
     "data": {
      "text/html": [
       "<div>\n",
       "<style scoped>\n",
       "    .dataframe tbody tr th:only-of-type {\n",
       "        vertical-align: middle;\n",
       "    }\n",
       "\n",
       "    .dataframe tbody tr th {\n",
       "        vertical-align: top;\n",
       "    }\n",
       "\n",
       "    .dataframe thead th {\n",
       "        text-align: right;\n",
       "    }\n",
       "</style>\n",
       "<table border=\"1\" class=\"dataframe\">\n",
       "  <thead>\n",
       "    <tr style=\"text-align: right;\">\n",
       "      <th>Engaged</th>\n",
       "      <th>0</th>\n",
       "      <th>1</th>\n",
       "    </tr>\n",
       "  </thead>\n",
       "  <tbody>\n",
       "    <tr>\n",
       "      <th>Response</th>\n",
       "      <td>85.679877</td>\n",
       "      <td>14.320123</td>\n",
       "    </tr>\n",
       "  </tbody>\n",
       "</table>\n",
       "</div>"
      ],
      "text/plain": [
       "Engaged           0          1\n",
       "Response  85.679877  14.320123"
      ]
     },
     "execution_count": 57,
     "metadata": {},
     "output_type": "execute_result"
    }
   ],
   "source": [
    "engagement_rate_df.T"
   ]
  },
  {
   "cell_type": "markdown",
   "id": "419f0607-b1b4-4902-bfe6-b0eecfc188fe",
   "metadata": {},
   "source": [
    "As you can see, about 14% of the customers have responded to marketing\n",
    "calls, and the remaining 86% of the customers have not responded."
   ]
  },
  {
   "cell_type": "code",
   "execution_count": 58,
   "id": "32304a59-31b9-457f-b2e7-a16d3958fb66",
   "metadata": {},
   "outputs": [],
   "source": [
    "# Sales channel"
   ]
  },
  {
   "cell_type": "markdown",
   "id": "c0fe1160-1bfa-49a4-8266-acc54c4e0deb",
   "metadata": {},
   "source": [
    "Now, let's see whether we can find any noticeable patterns in the sales\n",
    "channel and engagement. We are going to analyze how the engaged and nonengaged customers are distributed among different sales channels. Let's first\n",
    "look at the following code:"
   ]
  },
  {
   "cell_type": "code",
   "execution_count": 59,
   "id": "7a34bb2b-9947-4cd2-a6f4-b64027056085",
   "metadata": {},
   "outputs": [],
   "source": [
    "engagement_by_sales_channel_df = pd.pivot_table(\n",
    "df, values='Response', index='Sales Channel', columns='Engaged', aggfunc=len\n",
    ").fillna(0.0)\n",
    "engagement_by_sales_channel_df.columns = ['Not Engaged', 'Engaged']"
   ]
  },
  {
   "cell_type": "code",
   "execution_count": 60,
   "id": "4da50d57-8724-40ae-8c45-2fff38aea866",
   "metadata": {},
   "outputs": [
    {
     "data": {
      "text/html": [
       "<div>\n",
       "<style scoped>\n",
       "    .dataframe tbody tr th:only-of-type {\n",
       "        vertical-align: middle;\n",
       "    }\n",
       "\n",
       "    .dataframe tbody tr th {\n",
       "        vertical-align: top;\n",
       "    }\n",
       "\n",
       "    .dataframe thead th {\n",
       "        text-align: right;\n",
       "    }\n",
       "</style>\n",
       "<table border=\"1\" class=\"dataframe\">\n",
       "  <thead>\n",
       "    <tr style=\"text-align: right;\">\n",
       "      <th></th>\n",
       "      <th>Not Engaged</th>\n",
       "      <th>Engaged</th>\n",
       "    </tr>\n",
       "    <tr>\n",
       "      <th>Sales Channel</th>\n",
       "      <th></th>\n",
       "      <th></th>\n",
       "    </tr>\n",
       "  </thead>\n",
       "  <tbody>\n",
       "    <tr>\n",
       "      <th>Agent</th>\n",
       "      <td>2811</td>\n",
       "      <td>666</td>\n",
       "    </tr>\n",
       "    <tr>\n",
       "      <th>Branch</th>\n",
       "      <td>2273</td>\n",
       "      <td>294</td>\n",
       "    </tr>\n",
       "    <tr>\n",
       "      <th>Call Center</th>\n",
       "      <td>1573</td>\n",
       "      <td>192</td>\n",
       "    </tr>\n",
       "    <tr>\n",
       "      <th>Web</th>\n",
       "      <td>1169</td>\n",
       "      <td>156</td>\n",
       "    </tr>\n",
       "  </tbody>\n",
       "</table>\n",
       "</div>"
      ],
      "text/plain": [
       "               Not Engaged  Engaged\n",
       "Sales Channel                      \n",
       "Agent                 2811      666\n",
       "Branch                2273      294\n",
       "Call Center           1573      192\n",
       "Web                   1169      156"
      ]
     },
     "execution_count": 60,
     "metadata": {},
     "output_type": "execute_result"
    }
   ],
   "source": [
    "engagement_by_sales_channel_df"
   ]
  },
  {
   "cell_type": "markdown",
   "id": "8e0176e0-2cdd-439e-a69c-b4fecb506782",
   "metadata": {},
   "source": [
    "As you can see in this code snippet, we are using the pivot_table function in the\n",
    "pandas library to group by the Sales Channel and Response variables. Once you run\n",
    "this code, engagement_by_sales_channel_df will have the following data:"
   ]
  },
  {
   "cell_type": "markdown",
   "id": "2e50a7eb-d9bd-4f90-b317-e6a1c57cf51c",
   "metadata": {},
   "source": [
    "As you will have noticed in the previous section, there are significantly more\n",
    "customers that are not engaged with the marketing efforts, so it is quite\n",
    "difficult to look at the differences in the sales channel distributions between\n",
    "the engaged and non-engaged customers from raw numbers. To make the\n",
    "differences more visually identifiable, we can build pie charts using the\n",
    "following code:\n"
   ]
  },
  {
   "cell_type": "code",
   "execution_count": 61,
   "id": "188eccd1-f056-4510-96dd-f0756bf3890c",
   "metadata": {},
   "outputs": [
    {
     "data": {
      "image/png": "[encoded data removed]",
      "text/plain": [
       "<Figure size 1080x504 with 2 Axes>"
      ]
     },
     "metadata": {},
     "output_type": "display_data"
    }
   ],
   "source": [
    "engagement_by_sales_channel_df.plot(\n",
    "kind='pie',\n",
    "    figsize=(15, 7),\n",
    "startangle=90,\n",
    "subplots=True,\n",
    "autopct=lambda x: '%0.1f%%' % x\n",
    ")\n",
    "plt.show()"
   ]
  },
  {
   "cell_type": "markdown",
   "id": "4df23a16-8288-4940-8a82-463e488ce3c5",
   "metadata": {},
   "source": [
    "Once you run this code, you will see the following pie charts, which show the\n",
    "distributions of engaged and non-engaged customers across different sales\n",
    "channels:\n"
   ]
  },
  {
   "cell_type": "markdown",
   "id": "5bbbba3c-98c6-4fc6-8182-86c949fe7988",
   "metadata": {},
   "source": [
    "Compared to the previous table that shows raw counts of engaged and nonengaged customers in each sales channel, these pie charts help us to visually\n",
    "spot the differences in the distributions more easily. As you can see from these\n",
    "charts, more than half of the engaged customers were from agents, whereas\n",
    "non-engaged customers are more evenly distributed across all four different\n",
    "channels. As you can see from these charts, analyzing and visualizing data can\n",
    "help us to notice interesting patterns in the data, which will further help when\n",
    "we run regression analysis in the later parts of this chapter."
   ]
  },
  {
   "cell_type": "markdown",
   "id": "e471738f-4d32-49d2-a0ba-2cbc69edeb3e",
   "metadata": {},
   "source": [
    "###  Total claim amount"
   ]
  },
  {
   "cell_type": "markdown",
   "id": "62470179-5fe1-466d-93af-d19a7ed86bbb",
   "metadata": {},
   "source": [
    "The last thing that we are going to look at before we dive into the regression\n",
    "analysis are the differences in the distributions of Total Claim Amount between\n",
    "the engaged and non-engaged groups. We are going to visualize this by using\n",
    "box plots. Let's first look at how we can build box plots in Python, as follows:\n"
   ]
  },
  {
   "cell_type": "code",
   "execution_count": 62,
   "id": "566169af-a3d9-4a8d-9a55-90407bd4a185",
   "metadata": {},
   "outputs": [
    {
     "data": {
      "image/png": "[encoded data removed]",
      "text/plain": [
       "<Figure size 504x360 with 1 Axes>"
      ]
     },
     "metadata": {
      "needs_background": "light"
     },
     "output_type": "display_data"
    }
   ],
   "source": [
    "ax = df[['Engaged', 'Total Claim Amount']].boxplot(\n",
    "by='Engaged',\n",
    "showfliers=False,\n",
    "figsize=(7,5)\n",
    ")\n",
    "ax.set_xlabel('Engaged')\n",
    "ax.set_ylabel('Total Claim Amount')\n",
    "ax.set_title('Total Claim Amount Distributions by Engagements')\n",
    "plt.suptitle(\"\")\n",
    "\n",
    "plt.show()"
   ]
  },
  {
   "cell_type": "markdown",
   "id": "6e8758f3-052a-40ec-a2a8-241d1b50ad6c",
   "metadata": {},
   "source": [
    "As you can see in this code, it is quite straightforward to build box plots from\n",
    "a pandas DataFrame. You can simply call the boxplot function. Box plots are a\n",
    "great way to visualize the distributions of continuous variables. They show\n",
    "the min, max, first quartile, median, and third quartile, all in one view. The\n",
    "following box plots show the distributions of the Total Claim Amount between the\n",
    "engaged and non-engaged groups:"
   ]
  },
  {
   "cell_type": "markdown",
   "id": "9ec2169c-507c-4ebe-93a0-700770abdcdd",
   "metadata": {},
   "source": [
    "The central rectangle spans from the first quartile to the third quartile, and the\n",
    "green line shows the median. The lower and upper ends show the minimum\n",
    "and maximum of the distribution, respectively. One thing to note from the\n",
    "previous code is the showfliers=False argument. Let's see what happens when\n",
    "we set that argument to True, using the following code:\n"
   ]
  },
  {
   "cell_type": "code",
   "execution_count": 63,
   "id": "385be424-92e9-48b0-9812-47fee160cb83",
   "metadata": {},
   "outputs": [
    {
     "data": {
      "image/png": "[encoded data removed]",
      "text/plain": [
       "<Figure size 504x360 with 1 Axes>"
      ]
     },
     "metadata": {
      "needs_background": "light"
     },
     "output_type": "display_data"
    }
   ],
   "source": [
    "ax = df[['Engaged', 'Total Claim Amount']].boxplot(\n",
    "by='Engaged',\n",
    "showfliers=True,\n",
    "figsize=(7,5)\n",
    ")\n",
    "ax.set_xlabel('Engaged')\n",
    "ax.set_ylabel('Total Claim Amount')\n",
    "ax.set_title('Total Claim Amount Distributions by Engagements')\n",
    "plt.suptitle(\"\")\n",
    "\n",
    "plt.show()"
   ]
  },
  {
   "cell_type": "markdown",
   "id": "8f5a31d2-6f04-42fe-b944-267a8c48fc17",
   "metadata": {},
   "source": [
    "Using this code and the showfliers=True flag, the resulting box plots now look as\n",
    "follows"
   ]
  },
  {
   "cell_type": "markdown",
   "id": "bd4b723f-031c-4847-8e9f-2027aab5d602",
   "metadata": {},
   "source": [
    "As you notice in these box plots, they plot many dots above the upper\n",
    "boundary lines, which suggested maximum values in the previous box plots.\n",
    "The dots above the upper boundary line show the suspected outliers that are\n",
    "decided based on the Interquartile range (IQR). The IQR is simply the\n",
    "range between the first and third quartiles, and the points that fall 1.5*IQR\n",
    "above the third quartile or 1.5*IQR below the first quartile are suspected\n",
    "outliers and are shown with the dots."
   ]
  },
  {
   "cell_type": "markdown",
   "id": "68387f60-a370-4d42-ab40-fa609a9c7b21",
   "metadata": {},
   "source": [
    "#### Regression analysis"
   ]
  },
  {
   "cell_type": "markdown",
   "id": "91869c11-92ba-4ec8-8c7c-8f72e189d2cb",
   "metadata": {},
   "source": [
    "So far, we have analyzed the types of fields that we have in the data and how\n",
    "the patterns differ between the engaged group and the non-engaged group.\n",
    "Now, we are going to discuss how to conduct and interpret regression\n",
    "analysis in Python by using the statsmodels package. We will first build a\n",
    "logistic regression model with continuous variables, and you'll learn how to\n",
    "interpret the results. Then, we are going to discuss different ways to handle\n",
    "categorical variables when fitting regression models, and what impact those\n",
    "categorical variables have on the fitted logistic regression model."
   ]
  },
  {
   "cell_type": "markdown",
   "id": "4a2e3156-8dbc-4c78-bda5-bd81bdf17b5f",
   "metadata": {},
   "source": [
    "### Continuous variables"
   ]
  },
  {
   "cell_type": "markdown",
   "id": "54e1349d-39ea-49b9-9483-b8f706f31c4d",
   "metadata": {},
   "source": [
    "In linear regression, including logistic regression, it is straightforward to fit a\n",
    "regression model when the feature variables are continuous, as it just needs to\n",
    "find a linear combination of feature variables with numerical values for\n",
    "estimating the output variables. In order to fit a regression model with\n",
    "continuous variables, let's first take a look at how to get the data types of the\n",
    "columns in a pandas DataFrame. Take a look at the following:\n"
   ]
  },
  {
   "cell_type": "code",
   "execution_count": 64,
   "id": "bf148baf-b285-4905-9e28-2a75df827a55",
   "metadata": {},
   "outputs": [
    {
     "data": {
      "text/plain": [
       "dtype('int64')"
      ]
     },
     "execution_count": 64,
     "metadata": {},
     "output_type": "execute_result"
    }
   ],
   "source": [
    "df['Income'].dtype"
   ]
  },
  {
   "cell_type": "code",
   "execution_count": 65,
   "id": "95dd217e-f29c-4778-b6cd-a2afea799791",
   "metadata": {},
   "outputs": [
    {
     "data": {
      "text/plain": [
       "dtype('float64')"
      ]
     },
     "execution_count": 65,
     "metadata": {},
     "output_type": "execute_result"
    }
   ],
   "source": [
    "df['Customer Lifetime Value'].dtype"
   ]
  },
  {
   "cell_type": "code",
   "execution_count": 66,
   "id": "9f174c0a-2cbe-47bd-ab6f-6592f71b4609",
   "metadata": {},
   "outputs": [
    {
     "data": {
      "text/plain": [
       "dtype('int64')"
      ]
     },
     "execution_count": 66,
     "metadata": {},
     "output_type": "execute_result"
    }
   ],
   "source": [
    "df['Income'].dtype"
   ]
  },
  {
   "cell_type": "markdown",
   "id": "3b7738f2-b670-4729-8060-8132d16d10a3",
   "metadata": {},
   "source": [
    "As you can see from this Jupyter Notebook screenshot, the dtype attribute of a\n",
    "pandas Series object tells you what type of data it contains. As you can see from\n",
    "this snapshot, the Income variable has integers and the Customer Lifetime Value\n",
    "feature has floating point numbers. In order to take a quick look at the\n",
    "distributions of variables with numerical values, you can also do the\n",
    "following"
   ]
  },
  {
   "cell_type": "code",
   "execution_count": 67,
   "id": "660cbc8e-4124-4df9-b844-74624f8f87e8",
   "metadata": {},
   "outputs": [
    {
     "data": {
      "text/html": [
       "<div>\n",
       "<style scoped>\n",
       "    .dataframe tbody tr th:only-of-type {\n",
       "        vertical-align: middle;\n",
       "    }\n",
       "\n",
       "    .dataframe tbody tr th {\n",
       "        vertical-align: top;\n",
       "    }\n",
       "\n",
       "    .dataframe thead th {\n",
       "        text-align: right;\n",
       "    }\n",
       "</style>\n",
       "<table border=\"1\" class=\"dataframe\">\n",
       "  <thead>\n",
       "    <tr style=\"text-align: right;\">\n",
       "      <th></th>\n",
       "      <th>Customer Lifetime Value</th>\n",
       "      <th>Income</th>\n",
       "      <th>Monthly Premium Auto</th>\n",
       "      <th>Months Since Last Claim</th>\n",
       "      <th>Months Since Policy Inception</th>\n",
       "      <th>Number of Open Complaints</th>\n",
       "      <th>Number of Policies</th>\n",
       "      <th>Total Claim Amount</th>\n",
       "      <th>Engaged</th>\n",
       "    </tr>\n",
       "  </thead>\n",
       "  <tbody>\n",
       "    <tr>\n",
       "      <th>count</th>\n",
       "      <td>9134.000000</td>\n",
       "      <td>9134.000000</td>\n",
       "      <td>9134.000000</td>\n",
       "      <td>9134.000000</td>\n",
       "      <td>9134.000000</td>\n",
       "      <td>9134.000000</td>\n",
       "      <td>9134.000000</td>\n",
       "      <td>9134.000000</td>\n",
       "      <td>9134.000000</td>\n",
       "    </tr>\n",
       "    <tr>\n",
       "      <th>mean</th>\n",
       "      <td>8004.940475</td>\n",
       "      <td>37657.380009</td>\n",
       "      <td>93.219291</td>\n",
       "      <td>15.097000</td>\n",
       "      <td>48.064594</td>\n",
       "      <td>0.384388</td>\n",
       "      <td>2.966170</td>\n",
       "      <td>434.088794</td>\n",
       "      <td>0.143201</td>\n",
       "    </tr>\n",
       "    <tr>\n",
       "      <th>std</th>\n",
       "      <td>6870.967608</td>\n",
       "      <td>30379.904734</td>\n",
       "      <td>34.407967</td>\n",
       "      <td>10.073257</td>\n",
       "      <td>27.905991</td>\n",
       "      <td>0.910384</td>\n",
       "      <td>2.390182</td>\n",
       "      <td>290.500092</td>\n",
       "      <td>0.350297</td>\n",
       "    </tr>\n",
       "    <tr>\n",
       "      <th>min</th>\n",
       "      <td>1898.007675</td>\n",
       "      <td>0.000000</td>\n",
       "      <td>61.000000</td>\n",
       "      <td>0.000000</td>\n",
       "      <td>0.000000</td>\n",
       "      <td>0.000000</td>\n",
       "      <td>1.000000</td>\n",
       "      <td>0.099007</td>\n",
       "      <td>0.000000</td>\n",
       "    </tr>\n",
       "    <tr>\n",
       "      <th>25%</th>\n",
       "      <td>3994.251794</td>\n",
       "      <td>0.000000</td>\n",
       "      <td>68.000000</td>\n",
       "      <td>6.000000</td>\n",
       "      <td>24.000000</td>\n",
       "      <td>0.000000</td>\n",
       "      <td>1.000000</td>\n",
       "      <td>272.258244</td>\n",
       "      <td>0.000000</td>\n",
       "    </tr>\n",
       "    <tr>\n",
       "      <th>50%</th>\n",
       "      <td>5780.182197</td>\n",
       "      <td>33889.500000</td>\n",
       "      <td>83.000000</td>\n",
       "      <td>14.000000</td>\n",
       "      <td>48.000000</td>\n",
       "      <td>0.000000</td>\n",
       "      <td>2.000000</td>\n",
       "      <td>383.945434</td>\n",
       "      <td>0.000000</td>\n",
       "    </tr>\n",
       "    <tr>\n",
       "      <th>75%</th>\n",
       "      <td>8962.167041</td>\n",
       "      <td>62320.000000</td>\n",
       "      <td>109.000000</td>\n",
       "      <td>23.000000</td>\n",
       "      <td>71.000000</td>\n",
       "      <td>0.000000</td>\n",
       "      <td>4.000000</td>\n",
       "      <td>547.514839</td>\n",
       "      <td>0.000000</td>\n",
       "    </tr>\n",
       "    <tr>\n",
       "      <th>max</th>\n",
       "      <td>83325.381190</td>\n",
       "      <td>99981.000000</td>\n",
       "      <td>298.000000</td>\n",
       "      <td>35.000000</td>\n",
       "      <td>99.000000</td>\n",
       "      <td>5.000000</td>\n",
       "      <td>9.000000</td>\n",
       "      <td>2893.239678</td>\n",
       "      <td>1.000000</td>\n",
       "    </tr>\n",
       "  </tbody>\n",
       "</table>\n",
       "</div>"
      ],
      "text/plain": [
       "       Customer Lifetime Value        Income  Monthly Premium Auto  \\\n",
       "count              9134.000000   9134.000000           9134.000000   \n",
       "mean               8004.940475  37657.380009             93.219291   \n",
       "std                6870.967608  30379.904734             34.407967   \n",
       "min                1898.007675      0.000000             61.000000   \n",
       "25%                3994.251794      0.000000             68.000000   \n",
       "50%                5780.182197  33889.500000             83.000000   \n",
       "75%                8962.167041  62320.000000            109.000000   \n",
       "max               83325.381190  99981.000000            298.000000   \n",
       "\n",
       "       Months Since Last Claim  Months Since Policy Inception  \\\n",
       "count              9134.000000                    9134.000000   \n",
       "mean                 15.097000                      48.064594   \n",
       "std                  10.073257                      27.905991   \n",
       "min                   0.000000                       0.000000   \n",
       "25%                   6.000000                      24.000000   \n",
       "50%                  14.000000                      48.000000   \n",
       "75%                  23.000000                      71.000000   \n",
       "max                  35.000000                      99.000000   \n",
       "\n",
       "       Number of Open Complaints  Number of Policies  Total Claim Amount  \\\n",
       "count                9134.000000         9134.000000         9134.000000   \n",
       "mean                    0.384388            2.966170          434.088794   \n",
       "std                     0.910384            2.390182          290.500092   \n",
       "min                     0.000000            1.000000            0.099007   \n",
       "25%                     0.000000            1.000000          272.258244   \n",
       "50%                     0.000000            2.000000          383.945434   \n",
       "75%                     0.000000            4.000000          547.514839   \n",
       "max                     5.000000            9.000000         2893.239678   \n",
       "\n",
       "           Engaged  \n",
       "count  9134.000000  \n",
       "mean      0.143201  \n",
       "std       0.350297  \n",
       "min       0.000000  \n",
       "25%       0.000000  \n",
       "50%       0.000000  \n",
       "75%       0.000000  \n",
       "max       1.000000  "
      ]
     },
     "execution_count": 67,
     "metadata": {},
     "output_type": "execute_result"
    }
   ],
   "source": [
    "df.describe()"
   ]
  },
  {
   "cell_type": "markdown",
   "id": "6aa5ee4b-153e-484b-9fdf-790121013119",
   "metadata": {},
   "source": [
    "As you can see in this Jupyter Notebook snapshot, the describe function of a\n",
    "pandas DataFrame shows the distributions of all of the columns with numerical\n",
    "values. For example, you can see that there are a total of 9134 records in\n",
    "the Customer Lifetime Value column, with a mean of 8004.94 and ranges from 1898.01\n",
    "to 83325.38."
   ]
  },
  {
   "cell_type": "markdown",
   "id": "e06a99cb-b7aa-4121-a47d-d246dc3e944b",
   "metadata": {},
   "source": [
    "We are going to store this list of the names of continuous variables in a\n",
    "separate variable, named continuous_vars. Take a look at the following code:\n"
   ]
  },
  {
   "cell_type": "code",
   "execution_count": 68,
   "id": "425fdae7-10a2-4541-b678-6d8bf4c4e680",
   "metadata": {},
   "outputs": [],
   "source": [
    "continuous_vars = [\n",
    "'Customer Lifetime Value', 'Income', 'Monthly Premium Auto',\n",
    "'Months Since Last Claim', 'Months Since Policy Inception',\n",
    "'Number of Open Complaints', 'Number of Policies',\n",
    "'Total Claim Amount'\n",
    "]"
   ]
  },
  {
   "cell_type": "markdown",
   "id": "450174ee-97f2-43d8-8452-364605a7ceac",
   "metadata": {},
   "source": [
    "Now that we know which columns are continuous variables, let's start to fit a\n",
    "logistic regression model. In order to do that, we need to first import\n",
    "the statsmodels package, as shown in the following code:"
   ]
  },
  {
   "cell_type": "code",
   "execution_count": 69,
   "id": "9818160c-e2a3-41af-a9b4-d6ad247a63d8",
   "metadata": {},
   "outputs": [],
   "source": [
    "import statsmodels.api as sm"
   ]
  },
  {
   "cell_type": "markdown",
   "id": "6283e7ee-b6b1-4732-a6e5-7edf59910ca0",
   "metadata": {},
   "source": [
    "With the statsmodels package imported, the code to initiate a logistic regression\n",
    "model is quite simple, and looks as follows:\n"
   ]
  },
  {
   "cell_type": "code",
   "execution_count": 70,
   "id": "4f96c672-c93c-4459-8dc5-93337248c441",
   "metadata": {},
   "outputs": [],
   "source": [
    "logit = sm.Logit(\n",
    "df['Engaged'],\n",
    "df[continuous_vars]\n",
    ")"
   ]
  },
  {
   "cell_type": "markdown",
   "id": "686fdcb8-4e2e-41e5-ac80-90ab2b299ee4",
   "metadata": {},
   "source": [
    "As you can see from this code, we are using the Logit function within the\n",
    "statsmodels package. We are supplying the Engaged column as the output variable,\n",
    "which the model will learn to estimate, and the continuous_vars that contain all\n",
    "of the continuous variables as the input variables. Once a logistic regression\n",
    "object is created with the output and input variables defined, we can train or\n",
    "fit this model by using the following code:"
   ]
  },
  {
   "cell_type": "code",
   "execution_count": 71,
   "id": "0953ba21-bbdf-4432-8136-0a77d23d4cde",
   "metadata": {},
   "outputs": [
    {
     "name": "stdout",
     "output_type": "stream",
     "text": [
      "Optimization terminated successfully.\n",
      "         Current function value: 0.421189\n",
      "         Iterations 6\n"
     ]
    }
   ],
   "source": [
    "logit_fit = logit.fit()"
   ]
  },
  {
   "cell_type": "markdown",
   "id": "02c94005-ab1c-4e0e-8994-b9bb151ee4bf",
   "metadata": {},
   "source": [
    "As you can see in this code, we are using the fit function of the logistic\n",
    "regression object, logit, to train a logistic regression model. Once this code is\n",
    "run, the trained model, logit_fit, will have learned the optimal solution that"
   ]
  },
  {
   "cell_type": "markdown",
   "id": "745a3ae6-e1e0-47a6-b729-8d8964f835d1",
   "metadata": {},
   "source": [
    "best estimates the output variable, Engaged, by using the input variables. In\n",
    "order to get a detailed description of the trained model, you can use the\n",
    "following code:"
   ]
  },
  {
   "cell_type": "code",
   "execution_count": 72,
   "id": "93700f23-db2a-4e9e-ba5c-c080bf516c49",
   "metadata": {},
   "outputs": [
    {
     "data": {
      "text/html": [
       "<table class=\"simpletable\">\n",
       "<caption>Logit Regression Results</caption>\n",
       "<tr>\n",
       "  <th>Dep. Variable:</th>        <td>Engaged</td>     <th>  No. Observations:  </th>  <td>  9134</td> \n",
       "</tr>\n",
       "<tr>\n",
       "  <th>Model:</th>                 <td>Logit</td>      <th>  Df Residuals:      </th>  <td>  9126</td> \n",
       "</tr>\n",
       "<tr>\n",
       "  <th>Method:</th>                 <td>MLE</td>       <th>  Df Model:          </th>  <td>     7</td> \n",
       "</tr>\n",
       "<tr>\n",
       "  <th>Date:</th>            <td>Thu, 22 Jun 2023</td> <th>  Pseudo R-squ.:     </th> <td>-0.02546</td>\n",
       "</tr>\n",
       "<tr>\n",
       "  <th>Time:</th>                <td>06:52:30</td>     <th>  Log-Likelihood:    </th> <td> -3847.1</td>\n",
       "</tr>\n",
       "<tr>\n",
       "  <th>converged:</th>             <td>True</td>       <th>  LL-Null:           </th> <td> -3751.6</td>\n",
       "</tr>\n",
       "<tr>\n",
       "  <th>Covariance Type:</th>     <td>nonrobust</td>    <th>  LLR p-value:       </th>  <td> 1.000</td> \n",
       "</tr>\n",
       "</table>\n",
       "<table class=\"simpletable\">\n",
       "<tr>\n",
       "                <td></td>                   <th>coef</th>     <th>std err</th>      <th>z</th>      <th>P>|z|</th>  <th>[0.025</th>    <th>0.975]</th>  \n",
       "</tr>\n",
       "<tr>\n",
       "  <th>Customer Lifetime Value</th>       <td>-6.741e-06</td> <td> 5.04e-06</td> <td>   -1.337</td> <td> 0.181</td> <td>-1.66e-05</td> <td> 3.14e-06</td>\n",
       "</tr>\n",
       "<tr>\n",
       "  <th>Income</th>                        <td>-2.857e-06</td> <td> 1.03e-06</td> <td>   -2.766</td> <td> 0.006</td> <td>-4.88e-06</td> <td>-8.33e-07</td>\n",
       "</tr>\n",
       "<tr>\n",
       "  <th>Monthly Premium Auto</th>          <td>   -0.0084</td> <td>    0.001</td> <td>   -6.889</td> <td> 0.000</td> <td>   -0.011</td> <td>   -0.006</td>\n",
       "</tr>\n",
       "<tr>\n",
       "  <th>Months Since Last Claim</th>       <td>   -0.0202</td> <td>    0.003</td> <td>   -7.238</td> <td> 0.000</td> <td>   -0.026</td> <td>   -0.015</td>\n",
       "</tr>\n",
       "<tr>\n",
       "  <th>Months Since Policy Inception</th> <td>   -0.0060</td> <td>    0.001</td> <td>   -6.148</td> <td> 0.000</td> <td>   -0.008</td> <td>   -0.004</td>\n",
       "</tr>\n",
       "<tr>\n",
       "  <th>Number of Open Complaints</th>     <td>   -0.0829</td> <td>    0.034</td> <td>   -2.424</td> <td> 0.015</td> <td>   -0.150</td> <td>   -0.016</td>\n",
       "</tr>\n",
       "<tr>\n",
       "  <th>Number of Policies</th>            <td>   -0.0810</td> <td>    0.013</td> <td>   -6.356</td> <td> 0.000</td> <td>   -0.106</td> <td>   -0.056</td>\n",
       "</tr>\n",
       "<tr>\n",
       "  <th>Total Claim Amount</th>            <td>    0.0001</td> <td>    0.000</td> <td>    0.711</td> <td> 0.477</td> <td>   -0.000</td> <td>    0.000</td>\n",
       "</tr>\n",
       "</table>"
      ],
      "text/plain": [
       "<class 'statsmodels.iolib.summary.Summary'>\n",
       "\"\"\"\n",
       "                           Logit Regression Results                           \n",
       "==============================================================================\n",
       "Dep. Variable:                Engaged   No. Observations:                 9134\n",
       "Model:                          Logit   Df Residuals:                     9126\n",
       "Method:                           MLE   Df Model:                            7\n",
       "Date:                Thu, 22 Jun 2023   Pseudo R-squ.:                -0.02546\n",
       "Time:                        06:52:30   Log-Likelihood:                -3847.1\n",
       "converged:                       True   LL-Null:                       -3751.6\n",
       "Covariance Type:            nonrobust   LLR p-value:                     1.000\n",
       "=================================================================================================\n",
       "                                    coef    std err          z      P>|z|      [0.025      0.975]\n",
       "-------------------------------------------------------------------------------------------------\n",
       "Customer Lifetime Value       -6.741e-06   5.04e-06     -1.337      0.181   -1.66e-05    3.14e-06\n",
       "Income                        -2.857e-06   1.03e-06     -2.766      0.006   -4.88e-06   -8.33e-07\n",
       "Monthly Premium Auto             -0.0084      0.001     -6.889      0.000      -0.011      -0.006\n",
       "Months Since Last Claim          -0.0202      0.003     -7.238      0.000      -0.026      -0.015\n",
       "Months Since Policy Inception    -0.0060      0.001     -6.148      0.000      -0.008      -0.004\n",
       "Number of Open Complaints        -0.0829      0.034     -2.424      0.015      -0.150      -0.016\n",
       "Number of Policies               -0.0810      0.013     -6.356      0.000      -0.106      -0.056\n",
       "Total Claim Amount                0.0001      0.000      0.711      0.477      -0.000       0.000\n",
       "=================================================================================================\n",
       "\"\"\""
      ]
     },
     "execution_count": 72,
     "metadata": {},
     "output_type": "execute_result"
    }
   ],
   "source": [
    "logit_fit.summary()"
   ]
  },
  {
   "cell_type": "markdown",
   "id": "990c8fb6-d2bb-4770-b5ec-6df8382a2cb9",
   "metadata": {},
   "source": [
    "When you run this code, the summary function will display the following output\n",
    "in the Jupyter Notebook:"
   ]
  },
  {
   "cell_type": "markdown",
   "id": "05c2fde8-9d70-472d-a30b-2b991f9caa02",
   "metadata": {},
   "source": [
    "Let's take a closer look at this model output. coef represents the coefficients\n",
    "for each of the input variables, and z represents the z-score, which is the\n",
    "number of standard deviations from the mean. The P>|z| column represents the\n",
    "p-value, which means how likely it is to observe the relationship between the\n",
    "feature and the output variable by chance. So, the lower the value of P>|z| is,\n",
    "the more likely it is that the relationship between the given feature and the\n",
    "output variable is strong and is not by chance. Typically, 0.05 is a good cut-off\n",
    "point for the p-value, and any value less than 0.05 signifies a strong\n",
    "relationship between the given feature and the output variable.\n",
    "Looking at this model output, we can see that Income, Monthly Premium Auto, Months\n",
    "Since Last Claim, Months Since Policy Inception, and Number of Policies variables have\n",
    "significant relationships with the output variable, Engaged. For example, Number\n",
    "of Policies variable is significant and is negatively correlated with Engaged. This\n",
    "suggests that the more policies that the customers have, the less likely they are\n",
    "to respond to marketing calls. As another example, the Months Since Last Claim\n",
    "variable is significant and is negatively correlated with the output\n",
    "variable, Engaged. This means that the longer it has been since the last claim,\n",
    "the less likely that the customer is going to respond to marketing calls."
   ]
  },
  {
   "cell_type": "markdown",
   "id": "77be85f7-7d03-4a14-9cf2-0e85dd19b3b2",
   "metadata": {},
   "source": [
    "As you can see from these examples, you can interpret the regression analysis\n",
    "results quite easily by looking at the p-values and coefficients of the features\n",
    "from the model output. This is a good way to understand which attributes of\n",
    "customers are significantly and highly correlated with your outcomes of\n",
    "interest."
   ]
  },
  {
   "cell_type": "markdown",
   "id": "a1794163-3369-484a-a420-1f75011c9a57",
   "metadata": {},
   "source": [
    "### Categorical variables"
   ]
  },
  {
   "cell_type": "markdown",
   "id": "add54030-dfaf-41ed-95f2-e7a0173eca54",
   "metadata": {},
   "source": [
    "As you saw in the case of continuous variables in the previous section, it is\n",
    "quite straightforward to understand the relationships between the input and\n",
    "output variables from the coefficients and p-values. However, it becomes not\n",
    "so straightforward when we introduce categorical variables. Categorical\n",
    "variables often do not have any natural order, or they are encoded with nonnumerical values, but in linear regression, we need the input variables to have\n",
    "numerical values that signify the order or magnitudes of the variables. For\n",
    "example, we cannot easily encode the State variable in our dataset with\n",
    "certain orderings or values. That is why we need to handle categorical\n",
    "variables differently from continuous variables when conducting regression\n",
    "analysis. In Python, there are multiple ways to handle categorical variables\n",
    "when using the pandas package. Let's first look at factorizing categorical\n",
    "variables, as shown in the following code:\n"
   ]
  },
  {
   "cell_type": "code",
   "execution_count": 73,
   "id": "7bc93059-e467-466b-b819-43eaecca94ac",
   "metadata": {},
   "outputs": [],
   "source": [
    "# To factorize categorical cariebles\n",
    "gender_values, gender_labels = df['Gender'].factorize()"
   ]
  },
  {
   "cell_type": "markdown",
   "id": "d28a4ceb-b4ae-4186-b5d7-33d1debd36a3",
   "metadata": {},
   "source": [
    " The pandas function, factorize, encodes categorical variables with numerical\n",
    "values by enumerating through the values. Let's take a look at the following\n",
    "output first:\n"
   ]
  },
  {
   "cell_type": "code",
   "execution_count": 74,
   "id": "3de7f71a-cc17-4bc0-a208-959235c54bdd",
   "metadata": {},
   "outputs": [
    {
     "data": {
      "text/plain": [
       "array([0, 0, 0, ..., 1, 1, 1], dtype=int64)"
      ]
     },
     "execution_count": 74,
     "metadata": {},
     "output_type": "execute_result"
    }
   ],
   "source": [
    "gender_values"
   ]
  },
  {
   "cell_type": "code",
   "execution_count": 75,
   "id": "652502b1-16b2-46f6-8197-ceae842c17fa",
   "metadata": {},
   "outputs": [
    {
     "data": {
      "text/plain": [
       "Index(['F', 'M'], dtype='object')"
      ]
     },
     "execution_count": 75,
     "metadata": {},
     "output_type": "execute_result"
    }
   ],
   "source": [
    "gender_labels"
   ]
  },
  {
   "cell_type": "markdown",
   "id": "5fd5999c-4e9b-40ae-a030-bc6991eacde7",
   "metadata": {},
   "source": [
    "As you can see from this output, the values of this Gender variable are encoded\n",
    "with zeros and ones, where 0 symbolizes female (F) and 1 symbolizes male (M).\n",
    "This is a quick way to encode categorical variables with numerical values.\n",
    "However, this function does not work when we want to embed natural"
   ]
  },
  {
   "cell_type": "markdown",
   "id": "99fcac11-3a71-4989-b4cf-a2abe05d609d",
   "metadata": {},
   "source": [
    "orderings into the encoded values. For example, the Education variable in our\n",
    "dataset has five different categories: High School or Below, Bachelor, College, Master,\n",
    "and Doctor. We might want to embed the orderings when encoding different\n",
    "categories within this Education variable. "
   ]
  },
  {
   "cell_type": "code",
   "execution_count": 76,
   "id": "03dba69a-55f0-4d7c-905a-bdcfedd42739",
   "metadata": {},
   "outputs": [],
   "source": [
    "# another way to encode categorical variables with\n",
    "# orderings when using pandas:"
   ]
  },
  {
   "cell_type": "code",
   "execution_count": 77,
   "id": "3b19e1cd-f0a4-495a-aae9-5451a6179435",
   "metadata": {},
   "outputs": [],
   "source": [
    "categories = pd.Categorical(\n",
    "df['Education'],\n",
    "categories=['High School or Below', 'Bachelor', 'College', 'Master', 'Doctor']\n",
    ")"
   ]
  },
  {
   "cell_type": "code",
   "execution_count": 78,
   "id": "846a514a-e728-4a65-8680-aaa286085e0b",
   "metadata": {},
   "outputs": [
    {
     "data": {
      "text/plain": [
       "['Bachelor', 'Bachelor', 'Bachelor', 'Bachelor', 'Bachelor', ..., 'Bachelor', 'College', 'Bachelor', 'College', 'College']\n",
       "Length: 9134\n",
       "Categories (5, object): ['High School or Below', 'Bachelor', 'College', 'Master', 'Doctor']"
      ]
     },
     "execution_count": 78,
     "metadata": {},
     "output_type": "execute_result"
    }
   ],
   "source": [
    "categories"
   ]
  },
  {
   "cell_type": "markdown",
   "id": "749d684e-a130-4ec5-b304-75618f9e4848",
   "metadata": {},
   "source": [
    "As you can see in this code, we are using the pd.Categorical function to encode\n",
    "the values of df['Education']. We can define the orderings that we want with the\n",
    "argument, categories. In our example, we are giving values of 0, 1, 2, 3, and 4 for\n",
    "the High School or Below, Bachelor, College, Master, and Doctor,\n",
    "categories respectively. The output looks as follows:\n"
   ]
  },
  {
   "cell_type": "markdown",
   "id": "afa9b9b1-27cf-4e98-bca3-379c11ff7a84",
   "metadata": {},
   "source": [
    "We will now add these encoded variables to the pandas DataFrame, df, as\n",
    "shown in the following code:\n"
   ]
  },
  {
   "cell_type": "code",
   "execution_count": 79,
   "id": "28fced2e-b47a-49ba-8034-5af14f653b04",
   "metadata": {},
   "outputs": [],
   "source": [
    "df['GenderFactorized'] = gender_values"
   ]
  },
  {
   "cell_type": "code",
   "execution_count": 80,
   "id": "d4237c65-d3e3-43d7-a428-9cd5b971f982",
   "metadata": {},
   "outputs": [
    {
     "data": {
      "text/plain": [
       "0       0\n",
       "1       0\n",
       "2       0\n",
       "3       1\n",
       "4       1\n",
       "       ..\n",
       "9129    1\n",
       "9130    0\n",
       "9131    1\n",
       "9132    1\n",
       "9133    1\n",
       "Name: GenderFactorized, Length: 9134, dtype: int64"
      ]
     },
     "execution_count": 80,
     "metadata": {},
     "output_type": "execute_result"
    }
   ],
   "source": [
    "df['GenderFactorized']"
   ]
  },
  {
   "cell_type": "code",
   "execution_count": 81,
   "id": "0f5d896e-2233-43b5-b846-2c5a173d3cc8",
   "metadata": {},
   "outputs": [],
   "source": [
    "df['EducationFactorized'] = categories.codes"
   ]
  },
  {
   "cell_type": "code",
   "execution_count": 82,
   "id": "b646dd1c-fad5-4f60-961a-c1b4dc802fce",
   "metadata": {},
   "outputs": [
    {
     "data": {
      "text/plain": [
       "0       1\n",
       "1       1\n",
       "2       1\n",
       "3       1\n",
       "4       1\n",
       "       ..\n",
       "9129    1\n",
       "9130    2\n",
       "9131    1\n",
       "9132    2\n",
       "9133    2\n",
       "Name: EducationFactorized, Length: 9134, dtype: int8"
      ]
     },
     "execution_count": 82,
     "metadata": {},
     "output_type": "execute_result"
    }
   ],
   "source": [
    "df['EducationFactorized'] "
   ]
  },
  {
   "cell_type": "markdown",
   "id": "43abdd66-3b0e-42d4-874c-f231c6104cdd",
   "metadata": {},
   "source": [
    "With these encodings for the two categorical variables, Gender and Education, we\n",
    "can now fit a logistic regression model using the following cod"
   ]
  },
  {
   "cell_type": "code",
   "execution_count": 83,
   "id": "0629ffae-307a-4f8a-a5f7-3a666c12e9a2",
   "metadata": {},
   "outputs": [
    {
     "name": "stdout",
     "output_type": "stream",
     "text": [
      "Optimization terminated successfully.\n",
      "         Current function value: 0.493068\n",
      "         Iterations 6\n"
     ]
    }
   ],
   "source": [
    "logit = sm.Logit(\n",
    "df['Engaged'],\n",
    "df[[\n",
    "'GenderFactorized',\n",
    "'EducationFactorized'\n",
    "]]\n",
    ")\n",
    "logit_fit = logit.fit()"
   ]
  },
  {
   "cell_type": "markdown",
   "id": "85188b20-dec5-4d08-8121-f54148840a58",
   "metadata": {},
   "source": [
    "Similar to how we fit a logistic regression model with continuous variables\n",
    "previously, we can fit a logistic regression model with the encoded\n",
    "categorical variables, GenderFactorized and EducationFactorized, by using the Logit\n",
    "function in the statsmodels package. Using the summary function of the fitted\n",
    "logistic regression model object, we will get the following output:"
   ]
  },
  {
   "cell_type": "code",
   "execution_count": 84,
   "id": "66acbfac-a95e-4881-a64d-2aede181af23",
   "metadata": {},
   "outputs": [
    {
     "data": {
      "text/html": [
       "<table class=\"simpletable\">\n",
       "<caption>Logit Regression Results</caption>\n",
       "<tr>\n",
       "  <th>Dep. Variable:</th>        <td>Engaged</td>     <th>  No. Observations:  </th>  <td>  9134</td> \n",
       "</tr>\n",
       "<tr>\n",
       "  <th>Model:</th>                 <td>Logit</td>      <th>  Df Residuals:      </th>  <td>  9132</td> \n",
       "</tr>\n",
       "<tr>\n",
       "  <th>Method:</th>                 <td>MLE</td>       <th>  Df Model:          </th>  <td>     1</td> \n",
       "</tr>\n",
       "<tr>\n",
       "  <th>Date:</th>            <td>Thu, 22 Jun 2023</td> <th>  Pseudo R-squ.:     </th>  <td>-0.2005</td>\n",
       "</tr>\n",
       "<tr>\n",
       "  <th>Time:</th>                <td>06:52:30</td>     <th>  Log-Likelihood:    </th> <td> -4503.7</td>\n",
       "</tr>\n",
       "<tr>\n",
       "  <th>converged:</th>             <td>True</td>       <th>  LL-Null:           </th> <td> -3751.6</td>\n",
       "</tr>\n",
       "<tr>\n",
       "  <th>Covariance Type:</th>     <td>nonrobust</td>    <th>  LLR p-value:       </th>  <td> 1.000</td> \n",
       "</tr>\n",
       "</table>\n",
       "<table class=\"simpletable\">\n",
       "<tr>\n",
       "           <td></td>              <th>coef</th>     <th>std err</th>      <th>z</th>      <th>P>|z|</th>  <th>[0.025</th>    <th>0.975]</th>  \n",
       "</tr>\n",
       "<tr>\n",
       "  <th>GenderFactorized</th>    <td>   -1.1266</td> <td>    0.047</td> <td>  -24.116</td> <td> 0.000</td> <td>   -1.218</td> <td>   -1.035</td>\n",
       "</tr>\n",
       "<tr>\n",
       "  <th>EducationFactorized</th> <td>   -0.6256</td> <td>    0.021</td> <td>  -29.900</td> <td> 0.000</td> <td>   -0.667</td> <td>   -0.585</td>\n",
       "</tr>\n",
       "</table>"
      ],
      "text/plain": [
       "<class 'statsmodels.iolib.summary.Summary'>\n",
       "\"\"\"\n",
       "                           Logit Regression Results                           \n",
       "==============================================================================\n",
       "Dep. Variable:                Engaged   No. Observations:                 9134\n",
       "Model:                          Logit   Df Residuals:                     9132\n",
       "Method:                           MLE   Df Model:                            1\n",
       "Date:                Thu, 22 Jun 2023   Pseudo R-squ.:                 -0.2005\n",
       "Time:                        06:52:30   Log-Likelihood:                -4503.7\n",
       "converged:                       True   LL-Null:                       -3751.6\n",
       "Covariance Type:            nonrobust   LLR p-value:                     1.000\n",
       "=======================================================================================\n",
       "                          coef    std err          z      P>|z|      [0.025      0.975]\n",
       "---------------------------------------------------------------------------------------\n",
       "GenderFactorized       -1.1266      0.047    -24.116      0.000      -1.218      -1.035\n",
       "EducationFactorized    -0.6256      0.021    -29.900      0.000      -0.667      -0.585\n",
       "=======================================================================================\n",
       "\"\"\""
      ]
     },
     "execution_count": 84,
     "metadata": {},
     "output_type": "execute_result"
    }
   ],
   "source": [
    "logit_fit.summary()"
   ]
  },
  {
   "cell_type": "markdown",
   "id": "3ad3f228-a674-4a9c-947c-bd26fb4dadf2",
   "metadata": {},
   "source": [
    "As you can see in this output and by looking at the p-values in the P>|z|\n",
    "column, both the GenderFactorized and EducationFactorized variables seem to have\n",
    "significant relationships with the output variable Engaged. If we look at the\n",
    "coefficients of these two variables, we can see that both are negatively\n",
    "correlated with the output. This suggests that male customers, encoded with 1\n",
    "in the GenderFactorized variable, are less likely to be engaged with marketing\n",
    "calls, as compared to female customers, encoded with 0 in\n",
    "the GenderFactorized variable. Similarly, the higher the customers' education\n",
    "levels are, the less likely that they will be engaged with marketing calls."
   ]
  },
  {
   "cell_type": "markdown",
   "id": "9f8ca20d-b3cf-4d15-b085-16971c0a1f25",
   "metadata": {},
   "source": [
    "We have discussed two ways of handling categorical variables in pandas, using\n",
    "the factorize and Categorical functions. With these techniques, we can\n",
    "understand how different categories of categorical variables are correlated\n",
    "with the output variable."
   ]
  },
  {
   "cell_type": "markdown",
   "id": "c00b81f1-3874-41aa-9a76-ae0195ba9745",
   "metadata": {},
   "source": [
    "### Combining continuous and categorical variables"
   ]
  },
  {
   "cell_type": "markdown",
   "id": "36bff4e5-72bc-464e-ad99-ef2eb027a685",
   "metadata": {},
   "source": [
    "The last Python exercise that we are going to do in this chapter involves\n",
    "combining continuous and categorical variables for our regression analysis.\n",
    "We can fit a logistic regression model by using both categorical and\n",
    "continuous variables, as shown in the following code:\n"
   ]
  },
  {
   "cell_type": "code",
   "execution_count": 85,
   "id": "3d0070e7-f70d-40f9-8587-1e525e9c6a55",
   "metadata": {},
   "outputs": [
    {
     "name": "stdout",
     "output_type": "stream",
     "text": [
      "Optimization terminated successfully.\n",
      "         Current function value: 0.420810\n",
      "         Iterations 6\n"
     ]
    }
   ],
   "source": [
    "logit = sm.Logit(\n",
    "df['Engaged'],\n",
    "df[['Customer Lifetime Value',\n",
    "'Income',\n",
    "'Monthly Premium Auto',\n",
    "'Months Since Last Claim',\n",
    "'Months Since Policy Inception',\n",
    "'Number of Open Complaints',\n",
    "'Number of Policies',\n",
    "'Total Claim Amount',\n",
    "'GenderFactorized',\n",
    "'EducationFactorized'\n",
    "  ]]\n",
    ")\n",
    "\n",
    "logit_fit = logit.fit()"
   ]
  },
  {
   "cell_type": "markdown",
   "id": "b2ac6aaa-ff03-4cc8-aede-ace8db3109d0",
   "metadata": {},
   "source": [
    "The only difference from the previous codes is the features that we selected to\n",
    "fit a logistic regression model. As you can see in this code, we are now fitting\n",
    "a logistic regression model with the continuous variables, as well as the two\n",
    "encoded categorical variables, GenderFactorized and EducationFactorized, that we\n",
    "created in the previous section. The results look as follows:"
   ]
  },
  {
   "cell_type": "code",
   "execution_count": 86,
   "id": "3610e27c-ab65-4073-974e-2a9c17ff2fd3",
   "metadata": {},
   "outputs": [
    {
     "data": {
      "text/html": [
       "<table class=\"simpletable\">\n",
       "<caption>Logit Regression Results</caption>\n",
       "<tr>\n",
       "  <th>Dep. Variable:</th>        <td>Engaged</td>     <th>  No. Observations:  </th>  <td>  9134</td> \n",
       "</tr>\n",
       "<tr>\n",
       "  <th>Model:</th>                 <td>Logit</td>      <th>  Df Residuals:      </th>  <td>  9124</td> \n",
       "</tr>\n",
       "<tr>\n",
       "  <th>Method:</th>                 <td>MLE</td>       <th>  Df Model:          </th>  <td>     9</td> \n",
       "</tr>\n",
       "<tr>\n",
       "  <th>Date:</th>            <td>Thu, 22 Jun 2023</td> <th>  Pseudo R-squ.:     </th> <td>-0.02454</td>\n",
       "</tr>\n",
       "<tr>\n",
       "  <th>Time:</th>                <td>06:52:30</td>     <th>  Log-Likelihood:    </th> <td> -3843.7</td>\n",
       "</tr>\n",
       "<tr>\n",
       "  <th>converged:</th>             <td>True</td>       <th>  LL-Null:           </th> <td> -3751.6</td>\n",
       "</tr>\n",
       "<tr>\n",
       "  <th>Covariance Type:</th>     <td>nonrobust</td>    <th>  LLR p-value:       </th>  <td> 1.000</td> \n",
       "</tr>\n",
       "</table>\n",
       "<table class=\"simpletable\">\n",
       "<tr>\n",
       "                <td></td>                   <th>coef</th>     <th>std err</th>      <th>z</th>      <th>P>|z|</th>  <th>[0.025</th>    <th>0.975]</th>  \n",
       "</tr>\n",
       "<tr>\n",
       "  <th>Customer Lifetime Value</th>       <td>-6.909e-06</td> <td> 5.03e-06</td> <td>   -1.373</td> <td> 0.170</td> <td>-1.68e-05</td> <td> 2.96e-06</td>\n",
       "</tr>\n",
       "<tr>\n",
       "  <th>Income</th>                        <td> -2.59e-06</td> <td> 1.04e-06</td> <td>   -2.494</td> <td> 0.013</td> <td>-4.63e-06</td> <td>-5.55e-07</td>\n",
       "</tr>\n",
       "<tr>\n",
       "  <th>Monthly Premium Auto</th>          <td>   -0.0081</td> <td>    0.001</td> <td>   -6.526</td> <td> 0.000</td> <td>   -0.011</td> <td>   -0.006</td>\n",
       "</tr>\n",
       "<tr>\n",
       "  <th>Months Since Last Claim</th>       <td>   -0.0194</td> <td>    0.003</td> <td>   -6.858</td> <td> 0.000</td> <td>   -0.025</td> <td>   -0.014</td>\n",
       "</tr>\n",
       "<tr>\n",
       "  <th>Months Since Policy Inception</th> <td>   -0.0057</td> <td>    0.001</td> <td>   -5.827</td> <td> 0.000</td> <td>   -0.008</td> <td>   -0.004</td>\n",
       "</tr>\n",
       "<tr>\n",
       "  <th>Number of Open Complaints</th>     <td>   -0.0813</td> <td>    0.034</td> <td>   -2.376</td> <td> 0.017</td> <td>   -0.148</td> <td>   -0.014</td>\n",
       "</tr>\n",
       "<tr>\n",
       "  <th>Number of Policies</th>            <td>   -0.0781</td> <td>    0.013</td> <td>   -6.114</td> <td> 0.000</td> <td>   -0.103</td> <td>   -0.053</td>\n",
       "</tr>\n",
       "<tr>\n",
       "  <th>Total Claim Amount</th>            <td>    0.0001</td> <td>    0.000</td> <td>    0.943</td> <td> 0.346</td> <td>   -0.000</td> <td>    0.000</td>\n",
       "</tr>\n",
       "<tr>\n",
       "  <th>GenderFactorized</th>              <td>   -0.1500</td> <td>    0.058</td> <td>   -2.592</td> <td> 0.010</td> <td>   -0.263</td> <td>   -0.037</td>\n",
       "</tr>\n",
       "<tr>\n",
       "  <th>EducationFactorized</th>           <td>   -0.0070</td> <td>    0.027</td> <td>   -0.264</td> <td> 0.792</td> <td>   -0.059</td> <td>    0.045</td>\n",
       "</tr>\n",
       "</table>"
      ],
      "text/plain": [
       "<class 'statsmodels.iolib.summary.Summary'>\n",
       "\"\"\"\n",
       "                           Logit Regression Results                           \n",
       "==============================================================================\n",
       "Dep. Variable:                Engaged   No. Observations:                 9134\n",
       "Model:                          Logit   Df Residuals:                     9124\n",
       "Method:                           MLE   Df Model:                            9\n",
       "Date:                Thu, 22 Jun 2023   Pseudo R-squ.:                -0.02454\n",
       "Time:                        06:52:30   Log-Likelihood:                -3843.7\n",
       "converged:                       True   LL-Null:                       -3751.6\n",
       "Covariance Type:            nonrobust   LLR p-value:                     1.000\n",
       "=================================================================================================\n",
       "                                    coef    std err          z      P>|z|      [0.025      0.975]\n",
       "-------------------------------------------------------------------------------------------------\n",
       "Customer Lifetime Value       -6.909e-06   5.03e-06     -1.373      0.170   -1.68e-05    2.96e-06\n",
       "Income                         -2.59e-06   1.04e-06     -2.494      0.013   -4.63e-06   -5.55e-07\n",
       "Monthly Premium Auto             -0.0081      0.001     -6.526      0.000      -0.011      -0.006\n",
       "Months Since Last Claim          -0.0194      0.003     -6.858      0.000      -0.025      -0.014\n",
       "Months Since Policy Inception    -0.0057      0.001     -5.827      0.000      -0.008      -0.004\n",
       "Number of Open Complaints        -0.0813      0.034     -2.376      0.017      -0.148      -0.014\n",
       "Number of Policies               -0.0781      0.013     -6.114      0.000      -0.103      -0.053\n",
       "Total Claim Amount                0.0001      0.000      0.943      0.346      -0.000       0.000\n",
       "GenderFactorized                 -0.1500      0.058     -2.592      0.010      -0.263      -0.037\n",
       "EducationFactorized              -0.0070      0.027     -0.264      0.792      -0.059       0.045\n",
       "=================================================================================================\n",
       "\"\"\""
      ]
     },
     "execution_count": 86,
     "metadata": {},
     "output_type": "execute_result"
    }
   ],
   "source": [
    "logit_fit.summary()"
   ]
  },
  {
   "cell_type": "markdown",
   "id": "04d48aec-3c45-4ede-99e8-4d5649fff209",
   "metadata": {},
   "source": [
    "Let's take a closer look at this output. The Income, Monthly Premium Auto, Months\n",
    "Since Last Claim, Months Since Policy Inception, Number of Open Complaints, Number of\n",
    "Policies, and GenderFactorized variable are significant at a 0.05 significance level,\n",
    "and all of them have negative relationships with the output variable, Engaged.\n",
    "Hence, the higher the income is, the less likely that the customer will be\n",
    "engaged with marketing calls. Similarly, the more policies that the customer\n",
    "has, the less likely that he or she will be engaged with marketing calls.\n",
    "Lastly, male customers are less likely to engage with marketing calls than\n",
    "female customers, which we can see from looking at the coefficient of\n",
    "GenderFactorized. From looking at this regression analysis output, we can easily\n",
    "see the relationships between the input and output variables, and we can\n",
    "understand which attributes of customers are positively or negatively related\n",
    "to customer engagement with marketing calls.\n",
    "The full code for the Python exercise in this chapter can be found at https://github.com/y\n",
    "oonhwang/hands-on-data-science-for-marketing/blob/master/ch.3/python/RegressionAnalysis."
   ]
  },
  {
   "cell_type": "markdown",
   "id": "46e3c14d-bd26-44ff-b8cb-21fdcbdad201",
   "metadata": {},
   "source": [
    "### Week 1 day 4"
   ]
  },
  {
   "cell_type": "markdown",
   "id": "7628e3a3-b49e-4dd9-b460-de59fc0eea49",
   "metadata": {},
   "source": [
    "### From Engagement to Conversion"
   ]
  },
  {
   "cell_type": "code",
   "execution_count": 87,
   "id": "008552f1-70dc-4a64-a7fb-c9459e9edc29",
   "metadata": {},
   "outputs": [],
   "source": [
    "# From Engagement to Conversion"
   ]
  },
  {
   "cell_type": "markdown",
   "id": "980ff260-0612-421c-8631-88bd14ac839e",
   "metadata": {},
   "source": [
    "In this chapter, we will cover the following topics:\n",
    "Decision trees\n",
    "Decision trees and interpretations with Python\n",
    "Decision trees and interpretations with R"
   ]
  },
  {
   "cell_type": "markdown",
   "id": "68fa606e-3f91-410b-b64b-c6fa18f77fd2",
   "metadata": {},
   "source": [
    "### Decision trees"
   ]
  },
  {
   "cell_type": "markdown",
   "id": "ea181a3d-f579-4c68-88d9-597807add849",
   "metadata": {},
   "source": [
    "we will be discussing a machine learning\n",
    "algorithm called decision trees: how they learn from the data and how we\n",
    "can interpret their results."
   ]
  },
  {
   "cell_type": "markdown",
   "id": "d604ce73-7889-4bb8-acee-6e773611fcbd",
   "metadata": {},
   "source": [
    "# Logistic regression versus decision trees"
   ]
  },
  {
   "cell_type": "markdown",
   "id": "7b379937-4e97-4e12-b3ac-b849e40b6da3",
   "metadata": {},
   "source": [
    "A logistic regression model learns\n",
    "from the data by finding the linear combination of the feature variables that\n",
    "best estimates the log odds of an event occurring. Decision trees, as the name\n",
    "suggests, learn from the data by growing a tree. We are going to discuss how\n",
    "decision tree models grow and to build trees in more detail in the following\n",
    "section, but the main difference between the logistic regression and decision\n",
    "tree models is the fact that logistic regression algorithms search for a single\n",
    "best linear boundary in the feature set, whereas the decision tree algorithm\n",
    "partitions the data to find the subgroups of data that have high likelihoods of\n",
    "an event occurring. It will be easier to explain this with an example. Let's take\n",
    "a look at the following diagram:"
   ]
  },
  {
   "cell_type": "code",
   "execution_count": 88,
   "id": "6476c4bc-c3d2-49d5-ab3f-e87d3f2f23bc",
   "metadata": {},
   "outputs": [],
   "source": [
    "%matplotlib inline\n",
    "import matplotlib.pyplot as plt\n",
    "import pandas as pd\n",
    "#df = pd.read_csv('../data/bank-full.csv', sep=\";\")"
   ]
  },
  {
   "cell_type": "code",
   "execution_count": 89,
   "id": "315785c6-2cd1-42a5-a333-012964ec5dec",
   "metadata": {},
   "outputs": [],
   "source": [
    "df =  pd.read_csv(r\"C:\\Users\\user\\Desktop\\bank-full.csv\", sep=\";\")"
   ]
  },
  {
   "cell_type": "markdown",
   "id": "3876e769-b38c-4852-96db-647c6aa569d2",
   "metadata": {},
   "source": [
    " As you can see from this code snippet, we use the %matplotlib inline command\n",
    "to show plots on the Jupyter Notebook. Then, we import the matplotlib and\n",
    "pandas packages that we are going to use for the data analysis step. Lastly, we\n",
    "can easily read the data file by using the read_csv function in the pandas package.\n",
    "One thing to note here is the sep argument in the read_csv function. If you look at\n",
    "the data closely, you will notice that the fields in the bank-full.csv file are\n",
    "separated by semicolons (;), not commas (,). In order to correctly load th"
   ]
  },
  {
   "cell_type": "markdown",
   "id": "7208cd9b-88c6-4dbb-8666-5e3ac3ad1435",
   "metadata": {},
   "source": [
    "data into a pandas DataFrame, we will need to tell the read_csv function to use\n",
    "semicolons as the separators, instead of commas.\n",
    "Once you have loaded the data, it should look like the following screenshot:"
   ]
  },
  {
   "cell_type": "code",
   "execution_count": 90,
   "id": "12d981b1-642b-4dd8-a3e7-49fe4b9bde27",
   "metadata": {},
   "outputs": [
    {
     "data": {
      "text/plain": [
       "(45211, 17)"
      ]
     },
     "execution_count": 90,
     "metadata": {},
     "output_type": "execute_result"
    }
   ],
   "source": [
    "df.shape"
   ]
  },
  {
   "cell_type": "code",
   "execution_count": 91,
   "id": "26d337c0-a0bd-45a3-83e4-65f4aece0bcd",
   "metadata": {},
   "outputs": [
    {
     "data": {
      "text/html": [
       "<div>\n",
       "<style scoped>\n",
       "    .dataframe tbody tr th:only-of-type {\n",
       "        vertical-align: middle;\n",
       "    }\n",
       "\n",
       "    .dataframe tbody tr th {\n",
       "        vertical-align: top;\n",
       "    }\n",
       "\n",
       "    .dataframe thead th {\n",
       "        text-align: right;\n",
       "    }\n",
       "</style>\n",
       "<table border=\"1\" class=\"dataframe\">\n",
       "  <thead>\n",
       "    <tr style=\"text-align: right;\">\n",
       "      <th></th>\n",
       "      <th>age</th>\n",
       "      <th>job</th>\n",
       "      <th>marital</th>\n",
       "      <th>education</th>\n",
       "      <th>default</th>\n",
       "      <th>balance</th>\n",
       "      <th>housing</th>\n",
       "      <th>loan</th>\n",
       "      <th>contact</th>\n",
       "      <th>day</th>\n",
       "      <th>month</th>\n",
       "      <th>duration</th>\n",
       "      <th>campaign</th>\n",
       "      <th>pdays</th>\n",
       "      <th>previous</th>\n",
       "      <th>poutcome</th>\n",
       "      <th>y</th>\n",
       "    </tr>\n",
       "  </thead>\n",
       "  <tbody>\n",
       "    <tr>\n",
       "      <th>0</th>\n",
       "      <td>58</td>\n",
       "      <td>management</td>\n",
       "      <td>married</td>\n",
       "      <td>tertiary</td>\n",
       "      <td>no</td>\n",
       "      <td>2143</td>\n",
       "      <td>yes</td>\n",
       "      <td>no</td>\n",
       "      <td>unknown</td>\n",
       "      <td>5</td>\n",
       "      <td>may</td>\n",
       "      <td>261</td>\n",
       "      <td>1</td>\n",
       "      <td>-1</td>\n",
       "      <td>0</td>\n",
       "      <td>unknown</td>\n",
       "      <td>no</td>\n",
       "    </tr>\n",
       "    <tr>\n",
       "      <th>1</th>\n",
       "      <td>44</td>\n",
       "      <td>technician</td>\n",
       "      <td>single</td>\n",
       "      <td>secondary</td>\n",
       "      <td>no</td>\n",
       "      <td>29</td>\n",
       "      <td>yes</td>\n",
       "      <td>no</td>\n",
       "      <td>unknown</td>\n",
       "      <td>5</td>\n",
       "      <td>may</td>\n",
       "      <td>151</td>\n",
       "      <td>1</td>\n",
       "      <td>-1</td>\n",
       "      <td>0</td>\n",
       "      <td>unknown</td>\n",
       "      <td>no</td>\n",
       "    </tr>\n",
       "    <tr>\n",
       "      <th>2</th>\n",
       "      <td>33</td>\n",
       "      <td>entrepreneur</td>\n",
       "      <td>married</td>\n",
       "      <td>secondary</td>\n",
       "      <td>no</td>\n",
       "      <td>2</td>\n",
       "      <td>yes</td>\n",
       "      <td>yes</td>\n",
       "      <td>unknown</td>\n",
       "      <td>5</td>\n",
       "      <td>may</td>\n",
       "      <td>76</td>\n",
       "      <td>1</td>\n",
       "      <td>-1</td>\n",
       "      <td>0</td>\n",
       "      <td>unknown</td>\n",
       "      <td>no</td>\n",
       "    </tr>\n",
       "    <tr>\n",
       "      <th>3</th>\n",
       "      <td>47</td>\n",
       "      <td>blue-collar</td>\n",
       "      <td>married</td>\n",
       "      <td>unknown</td>\n",
       "      <td>no</td>\n",
       "      <td>1506</td>\n",
       "      <td>yes</td>\n",
       "      <td>no</td>\n",
       "      <td>unknown</td>\n",
       "      <td>5</td>\n",
       "      <td>may</td>\n",
       "      <td>92</td>\n",
       "      <td>1</td>\n",
       "      <td>-1</td>\n",
       "      <td>0</td>\n",
       "      <td>unknown</td>\n",
       "      <td>no</td>\n",
       "    </tr>\n",
       "    <tr>\n",
       "      <th>4</th>\n",
       "      <td>33</td>\n",
       "      <td>unknown</td>\n",
       "      <td>single</td>\n",
       "      <td>unknown</td>\n",
       "      <td>no</td>\n",
       "      <td>1</td>\n",
       "      <td>no</td>\n",
       "      <td>no</td>\n",
       "      <td>unknown</td>\n",
       "      <td>5</td>\n",
       "      <td>may</td>\n",
       "      <td>198</td>\n",
       "      <td>1</td>\n",
       "      <td>-1</td>\n",
       "      <td>0</td>\n",
       "      <td>unknown</td>\n",
       "      <td>no</td>\n",
       "    </tr>\n",
       "  </tbody>\n",
       "</table>\n",
       "</div>"
      ],
      "text/plain": [
       "   age           job  marital  education default  balance housing loan  \\\n",
       "0   58    management  married   tertiary      no     2143     yes   no   \n",
       "1   44    technician   single  secondary      no       29     yes   no   \n",
       "2   33  entrepreneur  married  secondary      no        2     yes  yes   \n",
       "3   47   blue-collar  married    unknown      no     1506     yes   no   \n",
       "4   33       unknown   single    unknown      no        1      no   no   \n",
       "\n",
       "   contact  day month  duration  campaign  pdays  previous poutcome   y  \n",
       "0  unknown    5   may       261         1     -1         0  unknown  no  \n",
       "1  unknown    5   may       151         1     -1         0  unknown  no  \n",
       "2  unknown    5   may        76         1     -1         0  unknown  no  \n",
       "3  unknown    5   may        92         1     -1         0  unknown  no  \n",
       "4  unknown    5   may       198         1     -1         0  unknown  no  "
      ]
     },
     "execution_count": 91,
     "metadata": {},
     "output_type": "execute_result"
    }
   ],
   "source": [
    "df.head()"
   ]
  },
  {
   "cell_type": "markdown",
   "id": "021dce23-1f75-4c70-8911-419fde26e990",
   "metadata": {},
   "source": [
    "### Data analysis and visualization"
   ]
  },
  {
   "cell_type": "markdown",
   "id": "f4253eee-62b8-48ad-b112-8ab765c90492",
   "metadata": {},
   "source": [
    "Before we start to analyze the data, we will first encode the output variable,\n",
    "y, which has information about whether a customer has converted or\n",
    "subscribed to a term deposit, with numerical values. You can use the\n",
    "following code to encode the output variable, y, with zeros and ones:"
   ]
  },
  {
   "cell_type": "code",
   "execution_count": 92,
   "id": "46fda866-f1ab-443a-b434-1ab68f28d793",
   "metadata": {},
   "outputs": [],
   "source": [
    "df['conversion'] = df['y'].apply(lambda x: 0 if x == 'no' else 1)"
   ]
  },
  {
   "cell_type": "markdown",
   "id": "ac8f3d3d-c437-484f-b07f-df9d004d2b41",
   "metadata": {},
   "source": [
    "As you can see from this code snippet, you can use the apply function to\n",
    "encode the output variable. We stored these encoded values in a new column,\n",
    "named conversion."
   ]
  },
  {
   "cell_type": "markdown",
   "id": "b4421826-819a-4493-a665-df71aabf95de",
   "metadata": {},
   "source": [
    "### Conversion rate"
   ]
  },
  {
   "cell_type": "markdown",
   "id": "70190b9c-52cd-482d-a8da-d8934e0f6512",
   "metadata": {},
   "source": [
    "Let's first take a look at the aggregate conversion rate. The conversion rate\n",
    "is simply the percentage of customers that subscribed to a term deposit. Take\n",
    "a look at the following code:"
   ]
  },
  {
   "cell_type": "code",
   "execution_count": 93,
   "id": "2a83e8f9-dfb8-4cff-919c-db9921beee05",
   "metadata": {},
   "outputs": [],
   "source": [
    "conversion_rate_df = pd.DataFrame(\n",
    "df.groupby('conversion').count()['y'] / df.shape[0] * 100.0\n",
    ")"
   ]
  },
  {
   "cell_type": "markdown",
   "id": "a76c2148-d9ff-43e9-a006-062f5b86f8c1",
   "metadata": {},
   "source": [
    "As you can see from this code snippet, we are grouping by a column,\n",
    "conversion, which is encoded with 1 for those that have subscribed to a term\n",
    "deposit, and with 0 for those that have not. Then, we are counting the number\n",
    "of customers in each group and dividing it by the total number of customers\n",
    "in the dataset. The result looks as follows:"
   ]
  },
  {
   "cell_type": "code",
   "execution_count": 94,
   "id": "657e37ae-7598-4e2b-b44d-62286efdba7f",
   "metadata": {},
   "outputs": [
    {
     "data": {
      "text/html": [
       "<div>\n",
       "<style scoped>\n",
       "    .dataframe tbody tr th:only-of-type {\n",
       "        vertical-align: middle;\n",
       "    }\n",
       "\n",
       "    .dataframe tbody tr th {\n",
       "        vertical-align: top;\n",
       "    }\n",
       "\n",
       "    .dataframe thead th {\n",
       "        text-align: right;\n",
       "    }\n",
       "</style>\n",
       "<table border=\"1\" class=\"dataframe\">\n",
       "  <thead>\n",
       "    <tr style=\"text-align: right;\">\n",
       "      <th></th>\n",
       "      <th>y</th>\n",
       "    </tr>\n",
       "    <tr>\n",
       "      <th>conversion</th>\n",
       "      <th></th>\n",
       "    </tr>\n",
       "  </thead>\n",
       "  <tbody>\n",
       "    <tr>\n",
       "      <th>0</th>\n",
       "      <td>88.30152</td>\n",
       "    </tr>\n",
       "    <tr>\n",
       "      <th>1</th>\n",
       "      <td>11.69848</td>\n",
       "    </tr>\n",
       "  </tbody>\n",
       "</table>\n",
       "</div>"
      ],
      "text/plain": [
       "                   y\n",
       "conversion          \n",
       "0           88.30152\n",
       "1           11.69848"
      ]
     },
     "execution_count": 94,
     "metadata": {},
     "output_type": "execute_result"
    }
   ],
   "source": [
    "conversion_rate_df"
   ]
  },
  {
   "cell_type": "code",
   "execution_count": 95,
   "id": "49ca329d-6a01-4798-93ac-fecaa25aaf0f",
   "metadata": {},
   "outputs": [
    {
     "data": {
      "text/html": [
       "<div>\n",
       "<style scoped>\n",
       "    .dataframe tbody tr th:only-of-type {\n",
       "        vertical-align: middle;\n",
       "    }\n",
       "\n",
       "    .dataframe tbody tr th {\n",
       "        vertical-align: top;\n",
       "    }\n",
       "\n",
       "    .dataframe thead th {\n",
       "        text-align: right;\n",
       "    }\n",
       "</style>\n",
       "<table border=\"1\" class=\"dataframe\">\n",
       "  <thead>\n",
       "    <tr style=\"text-align: right;\">\n",
       "      <th>conversion</th>\n",
       "      <th>0</th>\n",
       "      <th>1</th>\n",
       "    </tr>\n",
       "  </thead>\n",
       "  <tbody>\n",
       "    <tr>\n",
       "      <th>y</th>\n",
       "      <td>88.30152</td>\n",
       "      <td>11.69848</td>\n",
       "    </tr>\n",
       "  </tbody>\n",
       "</table>\n",
       "</div>"
      ],
      "text/plain": [
       "conversion         0         1\n",
       "y           88.30152  11.69848"
      ]
     },
     "execution_count": 95,
     "metadata": {},
     "output_type": "execute_result"
    }
   ],
   "source": [
    "conversion_rate_df.T"
   ]
  },
  {
   "cell_type": "markdown",
   "id": "d2fe83b6-7fb3-407e-ba3b-8be99060a9fd",
   "metadata": {},
   "source": [
    "To make it easier to view, you can transpose the DataFrame by using the T\n",
    "attribute of the pandas DataFrame. As you can see, only about 11.7% were\n",
    "converted or subscribed to a term deposit. From these results, we can see\n",
    "that there is a large imbalance between the conversion group and the nonconversion group, which is common and is frequently observed among\n",
    "various marketing datasets."
   ]
  },
  {
   "cell_type": "markdown",
   "id": "611c0862-d352-42a4-af54-74498ff98394",
   "metadata": {},
   "source": [
    "### Conversion rates by job"
   ]
  },
  {
   "cell_type": "markdown",
   "id": "52724fe3-62b5-43e0-93cb-d9207afaefd0",
   "metadata": {},
   "source": [
    "It might be true that certain job categories tend to convert more frequently than\n",
    "others. Let's take a look at the conversion rates across different job\n",
    "categories. You can achieve this by using the following code:"
   ]
  },
  {
   "cell_type": "code",
   "execution_count": 96,
   "id": "ad13b9af-cff9-47b1-943f-f46babbe3d3f",
   "metadata": {},
   "outputs": [],
   "source": [
    "conversion_rate_by_job = df.groupby(\n",
    "by='job'\n",
    ")['conversion'].sum() / df.groupby(\n",
    "by='job'\n",
    ")['conversion'].count() * 100.0"
   ]
  },
  {
   "cell_type": "markdown",
   "id": "925e5744-5679-4f24-ad1e-c3f2609deba5",
   "metadata": {},
   "source": [
    "Let's take a deeper look at this code. We first group by the column, job, which\n",
    "contains information about the job category that each customer belongs to.\n",
    "Then, we sum over the conversion column for each job category, from which we\n",
    "get the total number of conversions for each job category. Lastly, we divide\n",
    "these conversion numbers by the total number of customers in each job\n",
    "category, in order to get the conversion rates for each job category.\n"
   ]
  },
  {
   "cell_type": "markdown",
   "id": "712ae49d-fca8-476e-8bf7-7d670105afb5",
   "metadata": {},
   "source": [
    "The results look as follows:"
   ]
  },
  {
   "cell_type": "code",
   "execution_count": 97,
   "id": "732850fb-6e40-4d9e-a1f2-853dc5431646",
   "metadata": {},
   "outputs": [
    {
     "data": {
      "text/plain": [
       "job\n",
       "admin.           12.202669\n",
       "blue-collar       7.274969\n",
       "entrepreneur      8.271688\n",
       "housemaid         8.790323\n",
       "management       13.755551\n",
       "retired          22.791519\n",
       "self-employed    11.842939\n",
       "services          8.883004\n",
       "student          28.678038\n",
       "technician       11.056996\n",
       "unemployed       15.502686\n",
       "unknown          11.805556\n",
       "Name: conversion, dtype: float64"
      ]
     },
     "execution_count": 97,
     "metadata": {},
     "output_type": "execute_result"
    }
   ],
   "source": [
    "conversion_rate_by_job"
   ]
  },
  {
   "cell_type": "markdown",
   "id": "20c12ea4-a1e3-43a9-bc14-09b241b0f287",
   "metadata": {},
   "source": [
    "As you can see from these results, the student group tends to convert much\n",
    "more frequently than the others, and the retired group comes next. However, it\n",
    "is a bit difficult to compare these from the raw output, and we could present\n",
    "this data better by using a chart. We can build a horizontal bar chart by using\n",
    "the following code:\n"
   ]
  },
  {
   "cell_type": "code",
   "execution_count": 98,
   "id": "506265d3-e864-46e8-a31b-762f13462dfe",
   "metadata": {},
   "outputs": [
    {
     "data": {
      "image/png": "[encoded data removed]",
      "text/plain": [
       "<Figure size 720x504 with 1 Axes>"
      ]
     },
     "metadata": {
      "needs_background": "light"
     },
     "output_type": "display_data"
    }
   ],
   "source": [
    "ax = conversion_rate_by_job.plot(\n",
    "kind='barh',\n",
    "color='skyblue',\n",
    "grid=True,\n",
    "figsize=(10, 7),\n",
    "title='Conversion Rates by Job'\n",
    ")\n",
    "ax.set_xlabel('conversion rate (%)')\n",
    "ax.set_ylabel('Job')\n",
    "\n",
    "plt.show()"
   ]
  },
  {
   "cell_type": "markdown",
   "id": "79f30f88-1277-46da-a436-c14f92a9d2c8",
   "metadata": {},
   "source": [
    "If you look at this code, we are using the plot function of the pandas DataFrame,\n",
    "and we defined the type of this plot to be a horizontal bar chart by providing\n",
    "barh as the input to the kind argument. You can simply adjust the color, size, and\n",
    "title of the chart with the color, figsize, and title arguments, respectively. You\n",
    "can also easily change the x-axis and y-axis labels, using the set_xlabel and\n",
    "set_ylabel functions.\n",
    "\n",
    "The resulting chart looks as follows:"
   ]
  },
  {
   "cell_type": "markdown",
   "id": "4643d45d-e209-4b1e-b9fb-f1520c58efbb",
   "metadata": {},
   "source": [
    "As you can see, it is much easier to spot the differences in the conversion\n",
    "rates by each job category with a horizontal bar chart. We can easily see that\n",
    "the student and retired groups are the two groups with the highest conversion\n",
    "rates, whereas the blue-collar and entrepreneur groups are the two groups with\n",
    "the lowest conversion rates."
   ]
  },
  {
   "cell_type": "markdown",
   "id": "fdd6640c-4bac-41a5-b6ee-695e27f25a7d",
   "metadata": {},
   "source": [
    "### Default rates by conversions"
   ]
  },
  {
   "cell_type": "markdown",
   "id": "fd8e6e84-0e80-4a14-a208-ccd7df83805b",
   "metadata": {},
   "source": [
    "Another attribute of a customer that would be interesting to see is the default\n",
    "rate, and how it differs between those who subscribed to a term deposit and\n",
    "those who did not. We are going to use the pivot_table function in the pandas\n",
    "library to analyze the default rates by conversions. Let's take a look at the\n",
    "following code:"
   ]
  },
  {
   "cell_type": "code",
   "execution_count": 99,
   "id": "6c36b593-c8a1-4c9f-bbff-11b6d9e917f5",
   "metadata": {},
   "outputs": [],
   "source": [
    "default_by_conversion_df = pd.pivot_table(\n",
    "df,\n",
    "values='y',\n",
    "index='default',\n",
    "columns='conversion',\n",
    "aggfunc=len\n",
    "    \n",
    ")"
   ]
  },
  {
   "cell_type": "markdown",
   "id": "40195b81-7791-46de-9d40-e8f4b1934b6a",
   "metadata": {},
   "source": [
    "As you can see from this code, we are pivoting the DataFrame, df, by the y and\n",
    "default columns. By using len as the aggregation function, we can count how\n",
    "many customers fall under each cell of the pivot table. The results look as\n",
    "follows:"
   ]
  },
  {
   "cell_type": "code",
   "execution_count": 100,
   "id": "b0348395-0734-41f0-b741-82c49f431f4b",
   "metadata": {},
   "outputs": [
    {
     "data": {
      "text/html": [
       "<div>\n",
       "<style scoped>\n",
       "    .dataframe tbody tr th:only-of-type {\n",
       "        vertical-align: middle;\n",
       "    }\n",
       "\n",
       "    .dataframe tbody tr th {\n",
       "        vertical-align: top;\n",
       "    }\n",
       "\n",
       "    .dataframe thead th {\n",
       "        text-align: right;\n",
       "    }\n",
       "</style>\n",
       "<table border=\"1\" class=\"dataframe\">\n",
       "  <thead>\n",
       "    <tr style=\"text-align: right;\">\n",
       "      <th>conversion</th>\n",
       "      <th>0</th>\n",
       "      <th>1</th>\n",
       "    </tr>\n",
       "    <tr>\n",
       "      <th>default</th>\n",
       "      <th></th>\n",
       "      <th></th>\n",
       "    </tr>\n",
       "  </thead>\n",
       "  <tbody>\n",
       "    <tr>\n",
       "      <th>no</th>\n",
       "      <td>39159</td>\n",
       "      <td>5237</td>\n",
       "    </tr>\n",
       "    <tr>\n",
       "      <th>yes</th>\n",
       "      <td>763</td>\n",
       "      <td>52</td>\n",
       "    </tr>\n",
       "  </tbody>\n",
       "</table>\n",
       "</div>"
      ],
      "text/plain": [
       "conversion      0     1\n",
       "default                \n",
       "no          39159  5237\n",
       "yes           763    52"
      ]
     },
     "execution_count": 100,
     "metadata": {},
     "output_type": "execute_result"
    }
   ],
   "source": [
    "default_by_conversion_df"
   ]
  },
  {
   "cell_type": "markdown",
   "id": "c6b35d37-278f-459a-b7a2-3e8e0376f2b4",
   "metadata": {},
   "source": [
    "It is a bit difficult to compare how the default rates differ between the\n",
    "conversion and non-conversion groups by looking at these raw numbers. One\n",
    "way to visualize this data is through a pie chart. You can use the following\n",
    "code to build a pie chart:"
   ]
  },
  {
   "cell_type": "code",
   "execution_count": 101,
   "id": "d0412052-7d63-4139-9392-3f31e20abb12",
   "metadata": {},
   "outputs": [
    {
     "data": {
      "image/png": "[encoded data removed]",
      "text/plain": [
       "<Figure size 1080x504 with 2 Axes>"
      ]
     },
     "metadata": {},
     "output_type": "display_data"
    }
   ],
   "source": [
    "default_by_conversion_df.plot(\n",
    "kind='pie',\n",
    "figsize=(15, 7),\n",
    "startangle=90,\n",
    "subplots=True,\n",
    "autopct=lambda x: '%0.1f%%' % x\n",
    ")\n",
    "\n",
    "plt.show()"
   ]
  },
  {
   "cell_type": "markdown",
   "id": "a11f9d8d-a612-4f6b-81ed-dabf78c15c6a",
   "metadata": {},
   "source": [
    "As you can see from this code, we are simply passing 'pie' as input to the kind\n",
    "argument of the plot function. The resulting pie chart appears as follows:"
   ]
  },
  {
   "cell_type": "markdown",
   "id": "faac9a69-a10e-4dbf-9e97-d8a9968ad0c7",
   "metadata": {},
   "source": [
    "As you can see from these pie charts, it is much easier to compare the default\n",
    "rates between the conversion and non-conversion groups. Although the\n",
    "overall percentage of the previous default is low in both groups, the default\n",
    "rate in the non-conversion group is about twice as high as the conversion\n",
    "group."
   ]
  },
  {
   "cell_type": "markdown",
   "id": "5139c9ea-45c5-4267-9ce8-4575fe477546",
   "metadata": {},
   "source": [
    "### Bank balances by conversions"
   ]
  },
  {
   "cell_type": "markdown",
   "id": "92c28803-5dd3-4ab2-92e1-7c0356680dd1",
   "metadata": {},
   "source": [
    "Next, we will try to see if there are any differences in the distributions of bank\n",
    "balances between the conversion and non-conversion groups. A box plot is\n",
    "typically a good way to visualize the distribution of a variable. Let's take a\n",
    "look at the following code:"
   ]
  },
  {
   "cell_type": "code",
   "execution_count": 102,
   "id": "5bcc74f9-61ba-43ff-9d12-a3bf08a75c2b",
   "metadata": {},
   "outputs": [
    {
     "data": {
      "image/png": "[encoded data removed]",
      "text/plain": [
       "<Figure size 720x504 with 1 Axes>"
      ]
     },
     "metadata": {
      "needs_background": "light"
     },
     "output_type": "display_data"
    }
   ],
   "source": [
    "ax = df[['conversion', 'balance']].boxplot(\n",
    "by='conversion',\n",
    "showfliers=True,\n",
    "figsize=(10, 7)\n",
    ")\n",
    "ax.set_xlabel('Conversion')\n",
    "ax.set_ylabel('Average Bank Balance')\n",
    "ax.set_title('Average Bank Balance Distributions by Conversion')\n",
    "plt.suptitle(\"\")\n",
    "\n",
    "plt.show()"
   ]
  },
  {
   "cell_type": "markdown",
   "id": "b17c82fb-1f19-4822-bc16-08048041e2ac",
   "metadata": {},
   "source": [
    "You should be familiar with this code by now, as we have discussed how to\n",
    "build box plots using the pandas package. Using the boxplot function, we can\n",
    "easily build box plots such as the following:"
   ]
  },
  {
   "cell_type": "markdown",
   "id": "c24072ba-f2cd-491d-a6f9-ca5815f34e1e",
   "metadata": {},
   "source": [
    "Because there are so many outliers, it is quite difficult to identify any\n",
    "differences between the two distributions. Let's build another box plot without\n",
    "outliers. The only thing that you need to change from the previous code is\n",
    "the showfliers=True argument in the boxplot function, as you can see in the\n",
    "following code"
   ]
  },
  {
   "cell_type": "code",
   "execution_count": 103,
   "id": "ca6fde4d-d6c7-40da-951e-ac5d78115e9d",
   "metadata": {},
   "outputs": [
    {
     "data": {
      "image/png": "[encoded data removed]",
      "text/plain": [
       "<Figure size 720x504 with 1 Axes>"
      ]
     },
     "metadata": {
      "needs_background": "light"
     },
     "output_type": "display_data"
    }
   ],
   "source": [
    "ax = df[['conversion', 'balance']].boxplot(\n",
    "by='conversion',\n",
    "showfliers=False,\n",
    "figsize=(10, 7)\n",
    ")\n",
    "ax.set_xlabel('Conversion')\n",
    "ax.set_ylabel('Average Bank Balance')\n",
    "ax.set_title('Average Bank Balance Distributions by Conversion')\n",
    "plt.suptitle(\"\")\n",
    "\n",
    "plt.show()"
   ]
  },
  {
   "cell_type": "markdown",
   "id": "d25564b4-0d0d-4831-b529-96888f3ba5c5",
   "metadata": {},
   "source": [
    "Using this code, you will see the following box plots for the distributions of\n",
    "bank balances between the two groups:"
   ]
  },
  {
   "cell_type": "markdown",
   "id": "6ca061ec-a47a-43e6-a292-3be1cbe58ee8",
   "metadata": {},
   "source": [
    "From these box plots, we can see that the median of the bank balance is\n",
    "slightly higher for the conversion group, as compared to the non-conversion\n",
    "group. Also, the bank balances of converted customers seem to vary more than\n",
    "those of non-converted customers."
   ]
  },
  {
   "cell_type": "markdown",
   "id": "1907b41a-8557-4c60-a5a1-5aaa6261ebc9",
   "metadata": {},
   "source": [
    "### Conversion rates by number of contacts\n"
   ]
  },
  {
   "cell_type": "markdown",
   "id": "bda315ed-1615-4222-bde7-b0336e333e95",
   "metadata": {},
   "source": [
    "Lastly, we will look at how the conversion rates vary by the number of\n",
    "contacts. Typically, in marketing, a higher number of marketing touches can\n",
    "result in marketing fatigue, where the conversion rates drop as you reach out\n",
    "to your customers more frequently. Let's see whether there is any marketing\n",
    "fatigue in our data. Take a look at the following code:"
   ]
  },
  {
   "cell_type": "code",
   "execution_count": 104,
   "id": "0206aff8-586c-479c-a60f-82918c5fb1f2",
   "metadata": {},
   "outputs": [],
   "source": [
    "conversions_by_num_contacts = df.groupby(\n",
    "by='campaign'\n",
    ")['conversion'].sum() / df.groupby(\n",
    "by='campaign'\n",
    ")['conversion'].count() * 100.0"
   ]
  },
  {
   "cell_type": "markdown",
   "id": "df6821b2-6491-4dda-83e3-3162517e4183",
   "metadata": {},
   "source": [
    "In this code snippet, you can see that we are grouping by the campaign column\n",
    "(which has information about the number of contacts performed during the\n",
    "marketing campaign for this customer) and computing the conversion rates for\n",
    "each number of contacts. The resulting data appears as follows:"
   ]
  },
  {
   "cell_type": "code",
   "execution_count": 105,
   "id": "d2464018-ed24-418a-a262-f52ac5b99bc7",
   "metadata": {},
   "outputs": [
    {
     "data": {
      "text/html": [
       "<div>\n",
       "<style scoped>\n",
       "    .dataframe tbody tr th:only-of-type {\n",
       "        vertical-align: middle;\n",
       "    }\n",
       "\n",
       "    .dataframe tbody tr th {\n",
       "        vertical-align: top;\n",
       "    }\n",
       "\n",
       "    .dataframe thead th {\n",
       "        text-align: right;\n",
       "    }\n",
       "</style>\n",
       "<table border=\"1\" class=\"dataframe\">\n",
       "  <thead>\n",
       "    <tr style=\"text-align: right;\">\n",
       "      <th></th>\n",
       "      <th>conversion</th>\n",
       "    </tr>\n",
       "    <tr>\n",
       "      <th>campaign</th>\n",
       "      <th></th>\n",
       "    </tr>\n",
       "  </thead>\n",
       "  <tbody>\n",
       "    <tr>\n",
       "      <th>1</th>\n",
       "      <td>14.597583</td>\n",
       "    </tr>\n",
       "    <tr>\n",
       "      <th>2</th>\n",
       "      <td>11.203519</td>\n",
       "    </tr>\n",
       "    <tr>\n",
       "      <th>3</th>\n",
       "      <td>11.193624</td>\n",
       "    </tr>\n",
       "    <tr>\n",
       "      <th>4</th>\n",
       "      <td>9.000568</td>\n",
       "    </tr>\n",
       "    <tr>\n",
       "      <th>5</th>\n",
       "      <td>7.879819</td>\n",
       "    </tr>\n",
       "    <tr>\n",
       "      <th>6</th>\n",
       "      <td>7.126259</td>\n",
       "    </tr>\n",
       "    <tr>\n",
       "      <th>7</th>\n",
       "      <td>6.394558</td>\n",
       "    </tr>\n",
       "    <tr>\n",
       "      <th>8</th>\n",
       "      <td>5.925926</td>\n",
       "    </tr>\n",
       "    <tr>\n",
       "      <th>9</th>\n",
       "      <td>6.422018</td>\n",
       "    </tr>\n",
       "    <tr>\n",
       "      <th>10</th>\n",
       "      <td>5.263158</td>\n",
       "    </tr>\n",
       "    <tr>\n",
       "      <th>11</th>\n",
       "      <td>7.960199</td>\n",
       "    </tr>\n",
       "    <tr>\n",
       "      <th>12</th>\n",
       "      <td>2.580645</td>\n",
       "    </tr>\n",
       "    <tr>\n",
       "      <th>13</th>\n",
       "      <td>4.511278</td>\n",
       "    </tr>\n",
       "    <tr>\n",
       "      <th>14</th>\n",
       "      <td>4.301075</td>\n",
       "    </tr>\n",
       "    <tr>\n",
       "      <th>15</th>\n",
       "      <td>4.761905</td>\n",
       "    </tr>\n",
       "    <tr>\n",
       "      <th>16</th>\n",
       "      <td>2.531646</td>\n",
       "    </tr>\n",
       "    <tr>\n",
       "      <th>17</th>\n",
       "      <td>8.695652</td>\n",
       "    </tr>\n",
       "    <tr>\n",
       "      <th>18</th>\n",
       "      <td>0.000000</td>\n",
       "    </tr>\n",
       "    <tr>\n",
       "      <th>19</th>\n",
       "      <td>0.000000</td>\n",
       "    </tr>\n",
       "    <tr>\n",
       "      <th>20</th>\n",
       "      <td>2.325581</td>\n",
       "    </tr>\n",
       "    <tr>\n",
       "      <th>21</th>\n",
       "      <td>2.857143</td>\n",
       "    </tr>\n",
       "    <tr>\n",
       "      <th>22</th>\n",
       "      <td>0.000000</td>\n",
       "    </tr>\n",
       "    <tr>\n",
       "      <th>23</th>\n",
       "      <td>0.000000</td>\n",
       "    </tr>\n",
       "    <tr>\n",
       "      <th>24</th>\n",
       "      <td>5.000000</td>\n",
       "    </tr>\n",
       "    <tr>\n",
       "      <th>25</th>\n",
       "      <td>0.000000</td>\n",
       "    </tr>\n",
       "    <tr>\n",
       "      <th>26</th>\n",
       "      <td>0.000000</td>\n",
       "    </tr>\n",
       "    <tr>\n",
       "      <th>27</th>\n",
       "      <td>0.000000</td>\n",
       "    </tr>\n",
       "    <tr>\n",
       "      <th>28</th>\n",
       "      <td>0.000000</td>\n",
       "    </tr>\n",
       "    <tr>\n",
       "      <th>29</th>\n",
       "      <td>6.250000</td>\n",
       "    </tr>\n",
       "    <tr>\n",
       "      <th>30</th>\n",
       "      <td>0.000000</td>\n",
       "    </tr>\n",
       "    <tr>\n",
       "      <th>31</th>\n",
       "      <td>0.000000</td>\n",
       "    </tr>\n",
       "    <tr>\n",
       "      <th>32</th>\n",
       "      <td>11.111111</td>\n",
       "    </tr>\n",
       "    <tr>\n",
       "      <th>33</th>\n",
       "      <td>0.000000</td>\n",
       "    </tr>\n",
       "    <tr>\n",
       "      <th>34</th>\n",
       "      <td>0.000000</td>\n",
       "    </tr>\n",
       "    <tr>\n",
       "      <th>35</th>\n",
       "      <td>0.000000</td>\n",
       "    </tr>\n",
       "    <tr>\n",
       "      <th>36</th>\n",
       "      <td>0.000000</td>\n",
       "    </tr>\n",
       "    <tr>\n",
       "      <th>37</th>\n",
       "      <td>0.000000</td>\n",
       "    </tr>\n",
       "    <tr>\n",
       "      <th>38</th>\n",
       "      <td>0.000000</td>\n",
       "    </tr>\n",
       "    <tr>\n",
       "      <th>39</th>\n",
       "      <td>0.000000</td>\n",
       "    </tr>\n",
       "    <tr>\n",
       "      <th>41</th>\n",
       "      <td>0.000000</td>\n",
       "    </tr>\n",
       "    <tr>\n",
       "      <th>43</th>\n",
       "      <td>0.000000</td>\n",
       "    </tr>\n",
       "    <tr>\n",
       "      <th>44</th>\n",
       "      <td>0.000000</td>\n",
       "    </tr>\n",
       "    <tr>\n",
       "      <th>46</th>\n",
       "      <td>0.000000</td>\n",
       "    </tr>\n",
       "    <tr>\n",
       "      <th>50</th>\n",
       "      <td>0.000000</td>\n",
       "    </tr>\n",
       "    <tr>\n",
       "      <th>51</th>\n",
       "      <td>0.000000</td>\n",
       "    </tr>\n",
       "    <tr>\n",
       "      <th>55</th>\n",
       "      <td>0.000000</td>\n",
       "    </tr>\n",
       "    <tr>\n",
       "      <th>58</th>\n",
       "      <td>0.000000</td>\n",
       "    </tr>\n",
       "    <tr>\n",
       "      <th>63</th>\n",
       "      <td>0.000000</td>\n",
       "    </tr>\n",
       "  </tbody>\n",
       "</table>\n",
       "</div>"
      ],
      "text/plain": [
       "          conversion\n",
       "campaign            \n",
       "1          14.597583\n",
       "2          11.203519\n",
       "3          11.193624\n",
       "4           9.000568\n",
       "5           7.879819\n",
       "6           7.126259\n",
       "7           6.394558\n",
       "8           5.925926\n",
       "9           6.422018\n",
       "10          5.263158\n",
       "11          7.960199\n",
       "12          2.580645\n",
       "13          4.511278\n",
       "14          4.301075\n",
       "15          4.761905\n",
       "16          2.531646\n",
       "17          8.695652\n",
       "18          0.000000\n",
       "19          0.000000\n",
       "20          2.325581\n",
       "21          2.857143\n",
       "22          0.000000\n",
       "23          0.000000\n",
       "24          5.000000\n",
       "25          0.000000\n",
       "26          0.000000\n",
       "27          0.000000\n",
       "28          0.000000\n",
       "29          6.250000\n",
       "30          0.000000\n",
       "31          0.000000\n",
       "32         11.111111\n",
       "33          0.000000\n",
       "34          0.000000\n",
       "35          0.000000\n",
       "36          0.000000\n",
       "37          0.000000\n",
       "38          0.000000\n",
       "39          0.000000\n",
       "41          0.000000\n",
       "43          0.000000\n",
       "44          0.000000\n",
       "46          0.000000\n",
       "50          0.000000\n",
       "51          0.000000\n",
       "55          0.000000\n",
       "58          0.000000\n",
       "63          0.000000"
      ]
     },
     "execution_count": 105,
     "metadata": {},
     "output_type": "execute_result"
    }
   ],
   "source": [
    "pd.DataFrame(conversions_by_num_contacts)"
   ]
  },
  {
   "cell_type": "markdown",
   "id": "d62d69ea-c218-4107-94e1-f99857755e8a",
   "metadata": {},
   "source": [
    "Like before, it would be easier to look at a chart, rather than raw numbers. We\n",
    "can plot this data by using bar charts, with the following code:"
   ]
  },
  {
   "cell_type": "code",
   "execution_count": 106,
   "id": "cd7f09c2-d5de-42cf-82eb-a065f85b82fa",
   "metadata": {},
   "outputs": [
    {
     "data": {
      "image/png": "[encoded data removed]",
      "text/plain": [
       "<Figure size 720x504 with 1 Axes>"
      ]
     },
     "metadata": {
      "needs_background": "light"
     },
     "output_type": "display_data"
    }
   ],
   "source": [
    "ax = conversions_by_num_contacts.plot(\n",
    "kind='bar',\n",
    "figsize=(10, 7),\n",
    "title='Conversion Rates by Number of Contacts',\n",
    "grid=True,\n",
    "color='skyblue'\n",
    ")\n",
    "ax.set_xlabel('Number of Contacts')\n",
    "ax.set_ylabel('Conversion Rate (%)')\n",
    "\n",
    "plt.show()"
   ]
  },
  {
   "cell_type": "markdown",
   "id": "8712eaf3-9122-47c4-95e3-07f845f7f289",
   "metadata": {},
   "source": [
    "The plot looks as follows:"
   ]
  },
  {
   "cell_type": "markdown",
   "id": "c461deb6-af2c-4f66-9e4f-c5fdc96e5725",
   "metadata": {},
   "source": [
    "There's some noise in a higher numbers of contacts, as the sample size is\n",
    "smaller for them, but you can easily see the overall downward trend in this\n",
    "bar chart. As the number of contacts increases, the conversion rates slowly\n",
    "decrease. This suggests that the expected conversion rate decreases as you\n",
    "contact a client more frequently for a given campaign"
   ]
  },
  {
   "cell_type": "markdown",
   "id": "18a0d9fd-90bb-4faf-806e-a76a96ea6c63",
   "metadata": {},
   "source": [
    "### Encoding categorical variables"
   ]
  },
  {
   "cell_type": "markdown",
   "id": "2a77efc3-bd6d-41c6-96e8-b028940869cd",
   "metadata": {},
   "source": [
    "There are eight categorical variables in this dataset: job, marital, education,\n",
    "default, housing, loan, contact, and month. Before we start to build decision trees,\n",
    "we need to encode these categorical variables with numerical values. We'll\n",
    "take a look at how we can encode some of these categorical variables in this\n",
    "section."
   ]
  },
  {
   "cell_type": "markdown",
   "id": "6e9fb383-103c-4e3c-b109-5d11e1a3a415",
   "metadata": {},
   "source": [
    "### Encoding months"
   ]
  },
  {
   "cell_type": "markdown",
   "id": "c7478fb6-303a-43c6-887e-08efbf54bfdf",
   "metadata": {},
   "source": [
    "We all know that there can only be 12 unique values for the month variable.\n",
    "Let's take a quick look at what we have in our dataset. Take a look at the\n",
    "following code:"
   ]
  },
  {
   "cell_type": "markdown",
   "id": "75a68dec-2ee0-4f84-84bd-f12977f4b0d5",
   "metadata": {},
   "source": [
    "The pandas function, unique, helps you to quickly get the unique values in the\n",
    "given column. When you run this code, you will get the following output:"
   ]
  },
  {
   "cell_type": "code",
   "execution_count": 107,
   "id": "87d03804-080b-4b1c-a4ba-2190c44cf164",
   "metadata": {},
   "outputs": [
    {
     "data": {
      "text/plain": [
       "array(['may', 'jun', 'jul', 'aug', 'oct', 'nov', 'dec', 'jan', 'feb',\n",
       "       'mar', 'apr', 'sep'], dtype=object)"
      ]
     },
     "execution_count": 107,
     "metadata": {},
     "output_type": "execute_result"
    }
   ],
   "source": [
    "df['month'].unique()"
   ]
  },
  {
   "cell_type": "markdown",
   "id": "1689df7b-7b55-4dfe-a367-81e7edbfb24f",
   "metadata": {},
   "source": [
    "As expected, we have 12 unique values for the month column, from January to\n",
    "December. Since there is a natural ordering in the values of month, we can\n",
    "encode each of the values with a corresponding number. One way to encode\n",
    "the string values of month with numbers is shown as follows:"
   ]
  },
  {
   "cell_type": "code",
   "execution_count": 108,
   "id": "e4a5d6ca-228c-4213-8fc8-decf984f4b3d",
   "metadata": {},
   "outputs": [],
   "source": [
    "months = ['jan', 'feb', 'mar', 'apr', 'may', 'jun', 'jul', 'aug', 'sep', 'oct',\n",
    "'nov', 'dec']\n",
    "\n",
    "df['month'] = df['month'].apply(\n",
    "   lambda x: months.index(x)+1\n",
    "    \n",
    ")"
   ]
  },
  {
   "cell_type": "markdown",
   "id": "d03f24f9-8464-4d24-8d28-e4165e2922ea",
   "metadata": {},
   "source": [
    "Using this code, the unique values for the column month look as follows:"
   ]
  },
  {
   "cell_type": "code",
   "execution_count": 109,
   "id": "acd42db4-0321-480c-8969-d528277dc940",
   "metadata": {},
   "outputs": [
    {
     "data": {
      "text/plain": [
       "array([ 5,  6,  7,  8, 10, 11, 12,  1,  2,  3,  4,  9], dtype=int64)"
      ]
     },
     "execution_count": 109,
     "metadata": {},
     "output_type": "execute_result"
    }
   ],
   "source": [
    "df['month'].unique()"
   ]
  },
  {
   "cell_type": "markdown",
   "id": "e638c2eb-7461-4d43-abd8-df7c9e3ecf14",
   "metadata": {},
   "source": [
    "To see how many records we have for each month, we can use the following\n",
    "code"
   ]
  },
  {
   "cell_type": "code",
   "execution_count": 110,
   "id": "caea62d4-a9f9-4810-a42c-bfeba56656fa",
   "metadata": {},
   "outputs": [
    {
     "data": {
      "text/plain": [
       "month\n",
       "1      1403\n",
       "2      2649\n",
       "3       477\n",
       "4      2932\n",
       "5     13766\n",
       "6      5341\n",
       "7      6895\n",
       "8      6247\n",
       "9       579\n",
       "10      738\n",
       "11     3970\n",
       "12      214\n",
       "Name: conversion, dtype: int64"
      ]
     },
     "execution_count": 110,
     "metadata": {},
     "output_type": "execute_result"
    }
   ],
   "source": [
    "df.groupby('month').count()['conversion']"
   ]
  },
  {
   "cell_type": "markdown",
   "id": "31024aed-1771-419f-964d-ac27a2ee564b",
   "metadata": {},
   "source": [
    "### Encoding jobs"
   ]
  },
  {
   "cell_type": "markdown",
   "id": "368e6d3b-9b7c-4485-b009-4a3244a6a50c",
   "metadata": {},
   "source": [
    "Next, let's look at how we can encode the different categories of the\n",
    "job column. We will first look at the unique values in this column, using the\n",
    "following code:"
   ]
  },
  {
   "cell_type": "code",
   "execution_count": 111,
   "id": "894329ba-9bb7-44ab-9f1f-0bdc7f0baa5f",
   "metadata": {},
   "outputs": [
    {
     "data": {
      "text/plain": [
       "array(['management', 'technician', 'entrepreneur', 'blue-collar',\n",
       "       'unknown', 'retired', 'admin.', 'services', 'self-employed',\n",
       "       'unemployed', 'housemaid', 'student'], dtype=object)"
      ]
     },
     "execution_count": 111,
     "metadata": {},
     "output_type": "execute_result"
    }
   ],
   "source": [
    "df['job'].unique()"
   ]
  },
  {
   "cell_type": "code",
   "execution_count": 112,
   "id": "944a09b4-367d-4f33-bf5f-e290f96caa4c",
   "metadata": {},
   "outputs": [],
   "source": [
    "# The unique values in the job column look as seen above:"
   ]
  },
  {
   "cell_type": "markdown",
   "id": "8fe8f63f-5bcd-485b-94f5-c925ab705de8",
   "metadata": {},
   "source": [
    "As you can see in this output, there is no natural ordering for this variable.\n",
    "One job category does not precede the other, so we cannot encode this\n",
    "variable like we did for month. We are going to create dummy variables for\n",
    "each of the job categories. If you recall from the previous chapter, a dummy\n",
    "variable is a variable that is encoded with 1 if a given record belongs to the\n",
    "category, and 0 if not. We can do this easily by using the following code:\n"
   ]
  },
  {
   "cell_type": "code",
   "execution_count": 113,
   "id": "21655c6c-b6bd-4b57-84ea-e2efe090cc82",
   "metadata": {},
   "outputs": [],
   "source": [
    "jobs_encoded_df = pd.get_dummies(df['job'])\n",
    "jobs_encoded_df.columns = ['job_%s' % x for x in jobs_encoded_df.columns]"
   ]
  },
  {
   "cell_type": "markdown",
   "id": "8b557bf2-cb59-4603-b20f-5af01845c894",
   "metadata": {},
   "source": [
    "As you can see from this code snippet, the get_dummies function in the pandas\n",
    "package creates one dummy variable for each category in the job variable, and\n",
    "encodes each record with 1 if the given record belongs to the corresponding\n",
    "category, and 0 if not. Then, we rename the columns by prefixing each column\n",
    "with job_. The result looks as follows:"
   ]
  },
  {
   "cell_type": "code",
   "execution_count": 114,
   "id": "baf3b602-c697-478a-ad27-8c58fd42665e",
   "metadata": {},
   "outputs": [
    {
     "data": {
      "text/html": [
       "<div>\n",
       "<style scoped>\n",
       "    .dataframe tbody tr th:only-of-type {\n",
       "        vertical-align: middle;\n",
       "    }\n",
       "\n",
       "    .dataframe tbody tr th {\n",
       "        vertical-align: top;\n",
       "    }\n",
       "\n",
       "    .dataframe thead th {\n",
       "        text-align: right;\n",
       "    }\n",
       "</style>\n",
       "<table border=\"1\" class=\"dataframe\">\n",
       "  <thead>\n",
       "    <tr style=\"text-align: right;\">\n",
       "      <th></th>\n",
       "      <th>job_admin.</th>\n",
       "      <th>job_blue-collar</th>\n",
       "      <th>job_entrepreneur</th>\n",
       "      <th>job_housemaid</th>\n",
       "      <th>job_management</th>\n",
       "      <th>job_retired</th>\n",
       "      <th>job_self-employed</th>\n",
       "      <th>job_services</th>\n",
       "      <th>job_student</th>\n",
       "      <th>job_technician</th>\n",
       "      <th>job_unemployed</th>\n",
       "      <th>job_unknown</th>\n",
       "    </tr>\n",
       "  </thead>\n",
       "  <tbody>\n",
       "    <tr>\n",
       "      <th>0</th>\n",
       "      <td>0</td>\n",
       "      <td>0</td>\n",
       "      <td>0</td>\n",
       "      <td>0</td>\n",
       "      <td>1</td>\n",
       "      <td>0</td>\n",
       "      <td>0</td>\n",
       "      <td>0</td>\n",
       "      <td>0</td>\n",
       "      <td>0</td>\n",
       "      <td>0</td>\n",
       "      <td>0</td>\n",
       "    </tr>\n",
       "    <tr>\n",
       "      <th>1</th>\n",
       "      <td>0</td>\n",
       "      <td>0</td>\n",
       "      <td>0</td>\n",
       "      <td>0</td>\n",
       "      <td>0</td>\n",
       "      <td>0</td>\n",
       "      <td>0</td>\n",
       "      <td>0</td>\n",
       "      <td>0</td>\n",
       "      <td>1</td>\n",
       "      <td>0</td>\n",
       "      <td>0</td>\n",
       "    </tr>\n",
       "    <tr>\n",
       "      <th>2</th>\n",
       "      <td>0</td>\n",
       "      <td>0</td>\n",
       "      <td>1</td>\n",
       "      <td>0</td>\n",
       "      <td>0</td>\n",
       "      <td>0</td>\n",
       "      <td>0</td>\n",
       "      <td>0</td>\n",
       "      <td>0</td>\n",
       "      <td>0</td>\n",
       "      <td>0</td>\n",
       "      <td>0</td>\n",
       "    </tr>\n",
       "    <tr>\n",
       "      <th>3</th>\n",
       "      <td>0</td>\n",
       "      <td>1</td>\n",
       "      <td>0</td>\n",
       "      <td>0</td>\n",
       "      <td>0</td>\n",
       "      <td>0</td>\n",
       "      <td>0</td>\n",
       "      <td>0</td>\n",
       "      <td>0</td>\n",
       "      <td>0</td>\n",
       "      <td>0</td>\n",
       "      <td>0</td>\n",
       "    </tr>\n",
       "    <tr>\n",
       "      <th>4</th>\n",
       "      <td>0</td>\n",
       "      <td>0</td>\n",
       "      <td>0</td>\n",
       "      <td>0</td>\n",
       "      <td>0</td>\n",
       "      <td>0</td>\n",
       "      <td>0</td>\n",
       "      <td>0</td>\n",
       "      <td>0</td>\n",
       "      <td>0</td>\n",
       "      <td>0</td>\n",
       "      <td>1</td>\n",
       "    </tr>\n",
       "    <tr>\n",
       "      <th>...</th>\n",
       "      <td>...</td>\n",
       "      <td>...</td>\n",
       "      <td>...</td>\n",
       "      <td>...</td>\n",
       "      <td>...</td>\n",
       "      <td>...</td>\n",
       "      <td>...</td>\n",
       "      <td>...</td>\n",
       "      <td>...</td>\n",
       "      <td>...</td>\n",
       "      <td>...</td>\n",
       "      <td>...</td>\n",
       "    </tr>\n",
       "    <tr>\n",
       "      <th>45206</th>\n",
       "      <td>0</td>\n",
       "      <td>0</td>\n",
       "      <td>0</td>\n",
       "      <td>0</td>\n",
       "      <td>0</td>\n",
       "      <td>0</td>\n",
       "      <td>0</td>\n",
       "      <td>0</td>\n",
       "      <td>0</td>\n",
       "      <td>1</td>\n",
       "      <td>0</td>\n",
       "      <td>0</td>\n",
       "    </tr>\n",
       "    <tr>\n",
       "      <th>45207</th>\n",
       "      <td>0</td>\n",
       "      <td>0</td>\n",
       "      <td>0</td>\n",
       "      <td>0</td>\n",
       "      <td>0</td>\n",
       "      <td>1</td>\n",
       "      <td>0</td>\n",
       "      <td>0</td>\n",
       "      <td>0</td>\n",
       "      <td>0</td>\n",
       "      <td>0</td>\n",
       "      <td>0</td>\n",
       "    </tr>\n",
       "    <tr>\n",
       "      <th>45208</th>\n",
       "      <td>0</td>\n",
       "      <td>0</td>\n",
       "      <td>0</td>\n",
       "      <td>0</td>\n",
       "      <td>0</td>\n",
       "      <td>1</td>\n",
       "      <td>0</td>\n",
       "      <td>0</td>\n",
       "      <td>0</td>\n",
       "      <td>0</td>\n",
       "      <td>0</td>\n",
       "      <td>0</td>\n",
       "    </tr>\n",
       "    <tr>\n",
       "      <th>45209</th>\n",
       "      <td>0</td>\n",
       "      <td>1</td>\n",
       "      <td>0</td>\n",
       "      <td>0</td>\n",
       "      <td>0</td>\n",
       "      <td>0</td>\n",
       "      <td>0</td>\n",
       "      <td>0</td>\n",
       "      <td>0</td>\n",
       "      <td>0</td>\n",
       "      <td>0</td>\n",
       "      <td>0</td>\n",
       "    </tr>\n",
       "    <tr>\n",
       "      <th>45210</th>\n",
       "      <td>0</td>\n",
       "      <td>0</td>\n",
       "      <td>1</td>\n",
       "      <td>0</td>\n",
       "      <td>0</td>\n",
       "      <td>0</td>\n",
       "      <td>0</td>\n",
       "      <td>0</td>\n",
       "      <td>0</td>\n",
       "      <td>0</td>\n",
       "      <td>0</td>\n",
       "      <td>0</td>\n",
       "    </tr>\n",
       "  </tbody>\n",
       "</table>\n",
       "<p>45211 rows × 12 columns</p>\n",
       "</div>"
      ],
      "text/plain": [
       "       job_admin.  job_blue-collar  job_entrepreneur  job_housemaid  \\\n",
       "0               0                0                 0              0   \n",
       "1               0                0                 0              0   \n",
       "2               0                0                 1              0   \n",
       "3               0                1                 0              0   \n",
       "4               0                0                 0              0   \n",
       "...           ...              ...               ...            ...   \n",
       "45206           0                0                 0              0   \n",
       "45207           0                0                 0              0   \n",
       "45208           0                0                 0              0   \n",
       "45209           0                1                 0              0   \n",
       "45210           0                0                 1              0   \n",
       "\n",
       "       job_management  job_retired  job_self-employed  job_services  \\\n",
       "0                   1            0                  0             0   \n",
       "1                   0            0                  0             0   \n",
       "2                   0            0                  0             0   \n",
       "3                   0            0                  0             0   \n",
       "4                   0            0                  0             0   \n",
       "...               ...          ...                ...           ...   \n",
       "45206               0            0                  0             0   \n",
       "45207               0            1                  0             0   \n",
       "45208               0            1                  0             0   \n",
       "45209               0            0                  0             0   \n",
       "45210               0            0                  0             0   \n",
       "\n",
       "       job_student  job_technician  job_unemployed  job_unknown  \n",
       "0                0               0               0            0  \n",
       "1                0               1               0            0  \n",
       "2                0               0               0            0  \n",
       "3                0               0               0            0  \n",
       "4                0               0               0            1  \n",
       "...            ...             ...             ...          ...  \n",
       "45206            0               1               0            0  \n",
       "45207            0               0               0            0  \n",
       "45208            0               0               0            0  \n",
       "45209            0               0               0            0  \n",
       "45210            0               0               0            0  \n",
       "\n",
       "[45211 rows x 12 columns]"
      ]
     },
     "execution_count": 114,
     "metadata": {},
     "output_type": "execute_result"
    }
   ],
   "source": [
    "jobs_encoded_df"
   ]
  },
  {
   "cell_type": "markdown",
   "id": "7ab5d5a6-2719-4338-aacb-3da344ea6d8c",
   "metadata": {},
   "source": [
    "As you can see from this screenshot, the first record (or customer) belongs to\n",
    "the management job category, while the second record belongs to the technician\n",
    "job category. Now that we have created dummy variables for each job\n",
    "category, we need to append this data to the existing DataFrame. Take a look\n",
    "at the following code:"
   ]
  },
  {
   "cell_type": "code",
   "execution_count": 115,
   "id": "aeb68633-49d9-43c4-901c-2b8f83bfc72a",
   "metadata": {},
   "outputs": [
    {
     "data": {
      "text/plain": [
       "Index(['job_admin.', 'job_blue-collar', 'job_entrepreneur', 'job_housemaid',\n",
       "       'job_management', 'job_retired', 'job_self-employed', 'job_services',\n",
       "       'job_student', 'job_technician', 'job_unemployed', 'job_unknown'],\n",
       "      dtype='object')"
      ]
     },
     "execution_count": 115,
     "metadata": {},
     "output_type": "execute_result"
    }
   ],
   "source": [
    "jobs_encoded_df.columns"
   ]
  },
  {
   "cell_type": "code",
   "execution_count": 116,
   "id": "42e7df17-7fae-4c55-8408-d85c56991090",
   "metadata": {},
   "outputs": [
    {
     "data": {
      "text/html": [
       "<div>\n",
       "<style scoped>\n",
       "    .dataframe tbody tr th:only-of-type {\n",
       "        vertical-align: middle;\n",
       "    }\n",
       "\n",
       "    .dataframe tbody tr th {\n",
       "        vertical-align: top;\n",
       "    }\n",
       "\n",
       "    .dataframe thead th {\n",
       "        text-align: right;\n",
       "    }\n",
       "</style>\n",
       "<table border=\"1\" class=\"dataframe\">\n",
       "  <thead>\n",
       "    <tr style=\"text-align: right;\">\n",
       "      <th></th>\n",
       "      <th>age</th>\n",
       "      <th>job</th>\n",
       "      <th>marital</th>\n",
       "      <th>education</th>\n",
       "      <th>default</th>\n",
       "      <th>balance</th>\n",
       "      <th>housing</th>\n",
       "      <th>loan</th>\n",
       "      <th>contact</th>\n",
       "      <th>day</th>\n",
       "      <th>...</th>\n",
       "      <th>job_entrepreneur</th>\n",
       "      <th>job_housemaid</th>\n",
       "      <th>job_management</th>\n",
       "      <th>job_retired</th>\n",
       "      <th>job_self-employed</th>\n",
       "      <th>job_services</th>\n",
       "      <th>job_student</th>\n",
       "      <th>job_technician</th>\n",
       "      <th>job_unemployed</th>\n",
       "      <th>job_unknown</th>\n",
       "    </tr>\n",
       "  </thead>\n",
       "  <tbody>\n",
       "    <tr>\n",
       "      <th>0</th>\n",
       "      <td>58</td>\n",
       "      <td>management</td>\n",
       "      <td>married</td>\n",
       "      <td>tertiary</td>\n",
       "      <td>no</td>\n",
       "      <td>2143</td>\n",
       "      <td>yes</td>\n",
       "      <td>no</td>\n",
       "      <td>unknown</td>\n",
       "      <td>5</td>\n",
       "      <td>...</td>\n",
       "      <td>0</td>\n",
       "      <td>0</td>\n",
       "      <td>1</td>\n",
       "      <td>0</td>\n",
       "      <td>0</td>\n",
       "      <td>0</td>\n",
       "      <td>0</td>\n",
       "      <td>0</td>\n",
       "      <td>0</td>\n",
       "      <td>0</td>\n",
       "    </tr>\n",
       "    <tr>\n",
       "      <th>1</th>\n",
       "      <td>44</td>\n",
       "      <td>technician</td>\n",
       "      <td>single</td>\n",
       "      <td>secondary</td>\n",
       "      <td>no</td>\n",
       "      <td>29</td>\n",
       "      <td>yes</td>\n",
       "      <td>no</td>\n",
       "      <td>unknown</td>\n",
       "      <td>5</td>\n",
       "      <td>...</td>\n",
       "      <td>0</td>\n",
       "      <td>0</td>\n",
       "      <td>0</td>\n",
       "      <td>0</td>\n",
       "      <td>0</td>\n",
       "      <td>0</td>\n",
       "      <td>0</td>\n",
       "      <td>1</td>\n",
       "      <td>0</td>\n",
       "      <td>0</td>\n",
       "    </tr>\n",
       "    <tr>\n",
       "      <th>2</th>\n",
       "      <td>33</td>\n",
       "      <td>entrepreneur</td>\n",
       "      <td>married</td>\n",
       "      <td>secondary</td>\n",
       "      <td>no</td>\n",
       "      <td>2</td>\n",
       "      <td>yes</td>\n",
       "      <td>yes</td>\n",
       "      <td>unknown</td>\n",
       "      <td>5</td>\n",
       "      <td>...</td>\n",
       "      <td>1</td>\n",
       "      <td>0</td>\n",
       "      <td>0</td>\n",
       "      <td>0</td>\n",
       "      <td>0</td>\n",
       "      <td>0</td>\n",
       "      <td>0</td>\n",
       "      <td>0</td>\n",
       "      <td>0</td>\n",
       "      <td>0</td>\n",
       "    </tr>\n",
       "    <tr>\n",
       "      <th>3</th>\n",
       "      <td>47</td>\n",
       "      <td>blue-collar</td>\n",
       "      <td>married</td>\n",
       "      <td>unknown</td>\n",
       "      <td>no</td>\n",
       "      <td>1506</td>\n",
       "      <td>yes</td>\n",
       "      <td>no</td>\n",
       "      <td>unknown</td>\n",
       "      <td>5</td>\n",
       "      <td>...</td>\n",
       "      <td>0</td>\n",
       "      <td>0</td>\n",
       "      <td>0</td>\n",
       "      <td>0</td>\n",
       "      <td>0</td>\n",
       "      <td>0</td>\n",
       "      <td>0</td>\n",
       "      <td>0</td>\n",
       "      <td>0</td>\n",
       "      <td>0</td>\n",
       "    </tr>\n",
       "    <tr>\n",
       "      <th>4</th>\n",
       "      <td>33</td>\n",
       "      <td>unknown</td>\n",
       "      <td>single</td>\n",
       "      <td>unknown</td>\n",
       "      <td>no</td>\n",
       "      <td>1</td>\n",
       "      <td>no</td>\n",
       "      <td>no</td>\n",
       "      <td>unknown</td>\n",
       "      <td>5</td>\n",
       "      <td>...</td>\n",
       "      <td>0</td>\n",
       "      <td>0</td>\n",
       "      <td>0</td>\n",
       "      <td>0</td>\n",
       "      <td>0</td>\n",
       "      <td>0</td>\n",
       "      <td>0</td>\n",
       "      <td>0</td>\n",
       "      <td>0</td>\n",
       "      <td>1</td>\n",
       "    </tr>\n",
       "  </tbody>\n",
       "</table>\n",
       "<p>5 rows × 30 columns</p>\n",
       "</div>"
      ],
      "text/plain": [
       "   age           job  marital  education default  balance housing loan  \\\n",
       "0   58    management  married   tertiary      no     2143     yes   no   \n",
       "1   44    technician   single  secondary      no       29     yes   no   \n",
       "2   33  entrepreneur  married  secondary      no        2     yes  yes   \n",
       "3   47   blue-collar  married    unknown      no     1506     yes   no   \n",
       "4   33       unknown   single    unknown      no        1      no   no   \n",
       "\n",
       "   contact  day  ...  job_entrepreneur  job_housemaid  job_management  \\\n",
       "0  unknown    5  ...                 0              0               1   \n",
       "1  unknown    5  ...                 0              0               0   \n",
       "2  unknown    5  ...                 1              0               0   \n",
       "3  unknown    5  ...                 0              0               0   \n",
       "4  unknown    5  ...                 0              0               0   \n",
       "\n",
       "   job_retired  job_self-employed job_services job_student  job_technician  \\\n",
       "0            0                  0            0           0               0   \n",
       "1            0                  0            0           0               1   \n",
       "2            0                  0            0           0               0   \n",
       "3            0                  0            0           0               0   \n",
       "4            0                  0            0           0               0   \n",
       "\n",
       "   job_unemployed  job_unknown  \n",
       "0               0            0  \n",
       "1               0            0  \n",
       "2               0            0  \n",
       "3               0            0  \n",
       "4               0            1  \n",
       "\n",
       "[5 rows x 30 columns]"
      ]
     },
     "execution_count": 116,
     "metadata": {},
     "output_type": "execute_result"
    }
   ],
   "source": [
    "df = pd.concat([df, jobs_encoded_df], axis=1)\n",
    "\n",
    "df.head()"
   ]
  },
  {
   "cell_type": "markdown",
   "id": "6a11513b-ca88-4cbd-bada-201b340b73e3",
   "metadata": {},
   "source": [
    "Using the concat function in the pandas package, you can easily add the newly\n",
    "created DataFrame with dummy variables, jobs_encoded_df, to the original\n",
    "DataFrame, df. The axis=1 argument tells the concat function to concatenate the\n",
    "second DataFrame to the first DataFrame as columns, not as rows. The\n",
    "resulting DataFrame looks as follow"
   ]
  },
  {
   "cell_type": "markdown",
   "id": "bdc629e8-ab1b-402f-9324-0c26d8a55bf1",
   "metadata": {},
   "source": [
    "As you can see, the newly created dummy variables are added to the original\n",
    "DataFrame as new columns for each record"
   ]
  },
  {
   "cell_type": "markdown",
   "id": "c140ce11-4d55-4d09-8973-eb10cf979965",
   "metadata": {},
   "source": [
    "### Encoding marital"
   ]
  },
  {
   "cell_type": "markdown",
   "id": "905da003-95c2-4ed4-a128-a5d19bc2890c",
   "metadata": {},
   "source": [
    "Similar to how we encoded the categorical variable, job, we are going to\n",
    "create dummy variables for each category of the marital variable. Like before,\n",
    "we are using the following code to encode the marital column:"
   ]
  },
  {
   "cell_type": "code",
   "execution_count": 117,
   "id": "10effbc4-5a5d-4bb4-9b88-1838a2dc33cf",
   "metadata": {},
   "outputs": [],
   "source": [
    "marital_encoded_df = pd.get_dummies(df['marital'])\n",
    "marital_encoded_df.columns = ['marital_%s' % x for x in marital_encoded_df.columns]"
   ]
  },
  {
   "cell_type": "markdown",
   "id": "e3937b44-edee-42c3-9ff5-db7b54abdd11",
   "metadata": {},
   "source": [
    "The encoding results are as follows:"
   ]
  },
  {
   "cell_type": "code",
   "execution_count": 118,
   "id": "80bfd224-96ee-4ddf-a186-491b842f29ad",
   "metadata": {},
   "outputs": [
    {
     "data": {
      "text/html": [
       "<div>\n",
       "<style scoped>\n",
       "    .dataframe tbody tr th:only-of-type {\n",
       "        vertical-align: middle;\n",
       "    }\n",
       "\n",
       "    .dataframe tbody tr th {\n",
       "        vertical-align: top;\n",
       "    }\n",
       "\n",
       "    .dataframe thead th {\n",
       "        text-align: right;\n",
       "    }\n",
       "</style>\n",
       "<table border=\"1\" class=\"dataframe\">\n",
       "  <thead>\n",
       "    <tr style=\"text-align: right;\">\n",
       "      <th></th>\n",
       "      <th>marital_divorced</th>\n",
       "      <th>marital_married</th>\n",
       "      <th>marital_single</th>\n",
       "    </tr>\n",
       "  </thead>\n",
       "  <tbody>\n",
       "    <tr>\n",
       "      <th>0</th>\n",
       "      <td>0</td>\n",
       "      <td>1</td>\n",
       "      <td>0</td>\n",
       "    </tr>\n",
       "    <tr>\n",
       "      <th>1</th>\n",
       "      <td>0</td>\n",
       "      <td>0</td>\n",
       "      <td>1</td>\n",
       "    </tr>\n",
       "    <tr>\n",
       "      <th>2</th>\n",
       "      <td>0</td>\n",
       "      <td>1</td>\n",
       "      <td>0</td>\n",
       "    </tr>\n",
       "    <tr>\n",
       "      <th>3</th>\n",
       "      <td>0</td>\n",
       "      <td>1</td>\n",
       "      <td>0</td>\n",
       "    </tr>\n",
       "    <tr>\n",
       "      <th>4</th>\n",
       "      <td>0</td>\n",
       "      <td>0</td>\n",
       "      <td>1</td>\n",
       "    </tr>\n",
       "  </tbody>\n",
       "</table>\n",
       "</div>"
      ],
      "text/plain": [
       "   marital_divorced  marital_married  marital_single\n",
       "0                 0                1               0\n",
       "1                 0                0               1\n",
       "2                 0                1               0\n",
       "3                 0                1               0\n",
       "4                 0                0               1"
      ]
     },
     "execution_count": 118,
     "metadata": {},
     "output_type": "execute_result"
    }
   ],
   "source": [
    "marital_encoded_df.head()"
   ]
  },
  {
   "cell_type": "markdown",
   "id": "b98b07ab-832c-4f42-8106-ff0c6b8bdbd5",
   "metadata": {},
   "source": [
    "As you can see, three new variables are created for the original variable,\n",
    "marital: marital_divorced, marital_married, and marital_single, representing whether\n",
    "a given customer is divorced, married, or single, respectively. In order to\n",
    "add these newly created dummy variables to the original DataFrame, we can\n",
    "use the following code:\n"
   ]
  },
  {
   "cell_type": "code",
   "execution_count": 119,
   "id": "444f2948-3ec3-4985-8ea4-cf5f1a24e5f4",
   "metadata": {},
   "outputs": [],
   "source": [
    "df = pd.concat([df, marital_encoded_df], axis=1)"
   ]
  },
  {
   "cell_type": "markdown",
   "id": "c6085c20-9c0e-4369-93b2-fa77caed6999",
   "metadata": {},
   "source": [
    "Once you have come this far, your original DataFrame, df, should contain all\n",
    "of the original columns, plus newly created dummy variables for the job and\n",
    "marital columns."
   ]
  },
  {
   "cell_type": "markdown",
   "id": "4ae6b11d-01f7-47a2-b2a4-0f8f2d224f76",
   "metadata": {},
   "source": [
    "### Encoding the housing and loan variables"
   ]
  },
  {
   "cell_type": "markdown",
   "id": "48417230-223d-463a-8c9f-69ecad15715c",
   "metadata": {},
   "source": [
    "The last two categorical variables that we are going to encode in this section\n",
    "are housing and loan. The housing variable has two unique values, 'yes' and 'no',\n",
    "and contains information on whether a customer has a housing loan. The other\n",
    "variable, loan, also has two unique values, 'yes' and 'no', and tells us whether\n",
    "a customer has a personal loan. We can easily encode these two variables by\n",
    "using the following code:\n"
   ]
  },
  {
   "cell_type": "code",
   "execution_count": 120,
   "id": "c1085713-689d-419f-90b0-31884c0ef393",
   "metadata": {},
   "outputs": [],
   "source": [
    "df['housing'] = df['housing'].apply(lambda x: 1 if x == 'yes' else 0)\n",
    "\n",
    "df['loan'] = df['loan'].apply(lambda x: 1 if x == 'yes' else 0)\n"
   ]
  },
  {
   "cell_type": "markdown",
   "id": "8bf0fe4a-e44a-4c63-826d-d03fc3556ed5",
   "metadata": {},
   "source": [
    "As you can see, we are using the apply function to encode yes as 1 and no as 0\n",
    "for both the housing and loan variables. For those categorical variables that\n",
    "we have not discussed in this section, you can use the same techniques that\n",
    "we have discussed to encode them if you wish to explore beyond this\n",
    "exercise."
   ]
  },
  {
   "cell_type": "markdown",
   "id": "d0b1e008-1c48-4b7a-a1c5-de4e7a443ff5",
   "metadata": {},
   "source": [
    "### Building decision trees"
   ]
  },
  {
   "cell_type": "markdown",
   "id": "789d39c6-dbe4-4267-9eba-93e2f34b1048",
   "metadata": {},
   "source": [
    "Now that we have encoded all of the categorical variables, we can finally\n",
    "start to build decision tree models. We are going to use the following\n",
    "variables as features in our decision tree models:\n"
   ]
  },
  {
   "cell_type": "code",
   "execution_count": 121,
   "id": "9d1152fd-3a64-48b0-82d7-381fc85603ed",
   "metadata": {},
   "outputs": [],
   "source": [
    "features= ['age',\n",
    " 'balance',\n",
    " 'campaign',\n",
    " 'previous',\n",
    " 'housing',\n",
    " 'job_admin.',\n",
    " 'job_blue-collar',\n",
    " 'job_entrepreneur',\n",
    " 'job_housemaid',\n",
    " 'job_management',\n",
    " 'job_retired',\n",
    " 'job_self-employed',\n",
    " 'job_services',\n",
    " 'job_student',\n",
    " 'job_technician',\n",
    " 'job_unemployed',\n",
    " 'job_unknown',\n",
    " 'marital_divorced',\n",
    " 'marital_married',\n",
    " 'marital_single']"
   ]
  },
  {
   "cell_type": "code",
   "execution_count": 122,
   "id": "d5c67dcd-18a7-4211-8661-e8ffeaf58171",
   "metadata": {},
   "outputs": [
    {
     "data": {
      "text/plain": [
       "['age',\n",
       " 'balance',\n",
       " 'campaign',\n",
       " 'previous',\n",
       " 'housing',\n",
       " 'job_admin.',\n",
       " 'job_blue-collar',\n",
       " 'job_entrepreneur',\n",
       " 'job_housemaid',\n",
       " 'job_management',\n",
       " 'job_retired',\n",
       " 'job_self-employed',\n",
       " 'job_services',\n",
       " 'job_student',\n",
       " 'job_technician',\n",
       " 'job_unemployed',\n",
       " 'job_unknown',\n",
       " 'marital_divorced',\n",
       " 'marital_married',\n",
       " 'marital_single']"
      ]
     },
     "execution_count": 122,
     "metadata": {},
     "output_type": "execute_result"
    }
   ],
   "source": [
    "features"
   ]
  },
  {
   "cell_type": "markdown",
   "id": "c7217101-bd4d-4d6f-9731-8d16b9655e8b",
   "metadata": {},
   "source": [
    "In order to build and train a decision tree model with Python, we are going to\n",
    "use the tree module in the scikit-learn (sklearn) package. You can import the\n",
    "required module by using the following line of code"
   ]
  },
  {
   "cell_type": "code",
   "execution_count": 123,
   "id": "32d3b640-487d-4863-aef5-045f4083b2c7",
   "metadata": {},
   "outputs": [],
   "source": [
    "from sklearn import tree"
   ]
  },
  {
   "cell_type": "markdown",
   "id": "a4211ca7-232a-4c83-8532-882bbb6f199b",
   "metadata": {},
   "source": [
    "Under the tree module in the sklearn package, there is a class\n",
    "named DecisionTreeClassifier, which we can use to train a decision tree model.\n",
    "Take a look at the following code:"
   ]
  },
  {
   "cell_type": "code",
   "execution_count": 124,
   "id": "2f127672-70c8-4e3d-bc19-a6f89ecf4d63",
   "metadata": {},
   "outputs": [],
   "source": [
    "dt_model = tree.DecisionTreeClassifier(\n",
    "max_depth=4\n",
    "    \n",
    ")"
   ]
  },
  {
   "cell_type": "markdown",
   "id": "b581cca0-1891-4afb-88b2-6dcbca0be0fb",
   "metadata": {},
   "source": [
    "There are many arguments to the DecisionTreeClassifier class, aside from the\n",
    "one that we are using here, max_depth. Themax_depth argument controls how\n",
    "much a tree can grow, and here, we limit it to 4, meaning that the maximum\n",
    "length from the root to a leaf can be 4. You can also use the criterion argument\n",
    "to choose between the Gini impurity and the entropy information gain\n",
    "measures for the quality of a split. There are many other ways to tune your\n",
    "decision tree model, and we recommend that, for more information, you take\n",
    "a closer look at the documentation at http://scikit-learn.org/stable/modules/genera\n",
    "ted/sklearn.tree.DecisionTreeClassifier.html.\n"
   ]
  },
  {
   "cell_type": "code",
   "execution_count": 125,
   "id": "09efdeee-e38e-434b-b09c-a87b7f3f32b8",
   "metadata": {},
   "outputs": [
    {
     "data": {
      "text/plain": [
       "DecisionTreeClassifier(max_depth=4)"
      ]
     },
     "execution_count": 125,
     "metadata": {},
     "output_type": "execute_result"
    }
   ],
   "source": [
    "dt_model "
   ]
  },
  {
   "cell_type": "code",
   "execution_count": 126,
   "id": "20a6469f-ab51-4942-9e02-e06088642469",
   "metadata": {},
   "outputs": [],
   "source": [
    "response_var = 'conversion'"
   ]
  },
  {
   "cell_type": "markdown",
   "id": "9f2a8573-3aca-4736-933e-fad6afa1fa8f",
   "metadata": {},
   "source": [
    "In order to train this decision tree model, you can use the following code:"
   ]
  },
  {
   "cell_type": "code",
   "execution_count": 127,
   "id": "f3a2aeea-5250-47ae-a4f4-9f604d82deab",
   "metadata": {},
   "outputs": [
    {
     "data": {
      "text/plain": [
       "DecisionTreeClassifier(max_depth=4)"
      ]
     },
     "execution_count": 127,
     "metadata": {},
     "output_type": "execute_result"
    }
   ],
   "source": [
    "dt_model.fit(df[features], df[response_var])"
   ]
  },
  {
   "cell_type": "markdown",
   "id": "3b6efb5f-3cae-41b3-9c0a-ae8befd846e2",
   "metadata": {},
   "source": [
    "### Interpreting decision trees"
   ]
  },
  {
   "cell_type": "markdown",
   "id": "2363a49d-63a5-42b9-9052-3577c33b7fa7",
   "metadata": {},
   "source": [
    "Now that we have trained a decision tree model, we need to extract the\n",
    "insights from the model. In this section, we are going to use a package called\n",
    "graphviz. You can install this package by using the following command in your\n",
    "Terminal:\n"
   ]
  },
  {
   "cell_type": "code",
   "execution_count": 135,
   "id": "4a35090e-9be9-4abf-ad5e-d38844e42e8e",
   "metadata": {},
   "outputs": [
    {
     "name": "stdout",
     "output_type": "stream",
     "text": [
      "Collecting package metadata (current_repodata.json): ...working... done\n",
      "Note: you may need to restart the kernel to use updated packages.\n",
      "Solving environment: ...working... done\n",
      "\n",
      "# All requested packages already installed.\n",
      "\n",
      "\n"
     ]
    },
    {
     "name": "stderr",
     "output_type": "stream",
     "text": [
      "\n",
      "\n",
      "==> WARNING: A newer version of conda exists. <==\n",
      "  current version: 4.12.0\n",
      "  latest version: 23.5.0\n",
      "\n",
      "Please update conda by running\n",
      "\n",
      "    $ conda update -n base -c defaults conda\n",
      "\n",
      "\n"
     ]
    }
   ],
   "source": [
    "conda install python-graphviz"
   ]
  },
  {
   "cell_type": "markdown",
   "id": "a9f6a560-f903-4ce9-8106-06b8797ee86e",
   "metadata": {},
   "source": [
    "Once you have installed this package correctly, you should be able to import\n",
    "the package as follows:\n",
    "import graphviz\n",
    "Now that we have set up our environment with the new package, graphviz, let's\n",
    "take a look at the following code to see how we can visualize the trained\n",
    "decision tree:"
   ]
  },
  {
   "cell_type": "code",
   "execution_count": 136,
   "id": "c6ae3e21-98d7-456d-a49c-862e4e858edf",
   "metadata": {},
   "outputs": [],
   "source": [
    "import graphviz"
   ]
  },
  {
   "cell_type": "markdown",
   "id": "f904fcab-88a4-413e-97aa-b01e42b51e4a",
   "metadata": {},
   "source": [
    "Now that we have set up our environment with the new package, graphviz, let's\n",
    "take a look at the following code to see how we can visualize the trained\n",
    "decision tree:"
   ]
  },
  {
   "cell_type": "code",
   "execution_count": 137,
   "id": "5fda2c19-f76e-438b-9b88-9fbbf0a8429e",
   "metadata": {},
   "outputs": [],
   "source": [
    "dot_data = tree.export_graphviz(dt_model, feature_names=features, class_names=['0', '1'], filled=True, rounded=True, special_characters=True)"
   ]
  },
  {
   "cell_type": "markdown",
   "id": "778d4ac7-3281-4d81-9773-d1a0e0aacfa2",
   "metadata": {},
   "source": [
    "As you can see, we first export the trained decision tree model, dt_model, using\n",
    "the export_graphviz function in the tree module of the sklearn package. We can\n",
    "define the feature variables that we used to train this model by using the\n",
    "feature_names argument. Then, we can define the classes (conversion versus\n",
    "non-conversion) that this model is trained to classify. The\n",
    "export_graphviz function exports the trained decision tree model in a DOT\n",
    "format, which is a graphic description language. You can then pass dot_data on\n",
    "to the graphviz Source class. The graph variable now contains a renderable graph.\n",
    "The root node and its direct children look as follows:"
   ]
  },
  {
   "cell_type": "code",
   "execution_count": 138,
   "id": "be94af1b-d555-4347-b427-f132b9c3defe",
   "metadata": {},
   "outputs": [
    {
     "data": {
      "text/plain": [
       "'digraph Tree {\\nnode [shape=box, style=\"filled, rounded\", color=\"black\", fontname=helvetica] ;\\nedge [fontname=helvetica] ;\\n0 [label=<previous &le; 0.5<br/>gini = 0.207<br/>samples = 45211<br/>value = [39922, 5289]<br/>class = 0>, fillcolor=\"#e89253\"] ;\\n1 [label=<age &le; 60.5<br/>gini = 0.166<br/>samples = 36954<br/>value = [33570, 3384]<br/>class = 0>, fillcolor=\"#e88e4d\"] ;\\n0 -> 1 [labeldistance=2.5, labelangle=45, headlabel=\"True\"] ;\\n2 [label=<housing &le; 0.5<br/>gini = 0.157<br/>samples = 36202<br/>value = [33102, 3100]<br/>class = 0>, fillcolor=\"#e78d4c\"] ;\\n1 -> 2 ;\\n3 [label=<age &le; 29.5<br/>gini = 0.2<br/>samples = 16263<br/>value = [14427, 1836]<br/>class = 0>, fillcolor=\"#e89152\"] ;\\n2 -> 3 ;\\n4 [label=<gini = 0.357<br/>samples = 1751<br/>value = [1343, 408]<br/>class = 0>, fillcolor=\"#eda775\"] ;\\n3 -> 4 ;\\n5 [label=<gini = 0.177<br/>samples = 14512<br/>value = [13084, 1428]<br/>class = 0>, fillcolor=\"#e88f4f\"] ;\\n3 -> 5 ;\\n6 [label=<marital_married &le; 0.5<br/>gini = 0.119<br/>samples = 19939<br/>value = [18675, 1264]<br/>class = 0>, fillcolor=\"#e78a46\"] ;\\n2 -> 6 ;\\n7 [label=<gini = 0.149<br/>samples = 7665<br/>value = [7043, 622]<br/>class = 0>, fillcolor=\"#e78c4a\"] ;\\n6 -> 7 ;\\n8 [label=<gini = 0.099<br/>samples = 12274<br/>value = [11632, 642]<br/>class = 0>, fillcolor=\"#e68844\"] ;\\n6 -> 8 ;\\n9 [label=<marital_divorced &le; 0.5<br/>gini = 0.47<br/>samples = 752<br/>value = [468, 284]<br/>class = 0>, fillcolor=\"#f5cdb1\"] ;\\n1 -> 9 ;\\n10 [label=<marital_single &le; 0.5<br/>gini = 0.455<br/>samples = 615<br/>value = [400, 215]<br/>class = 0>, fillcolor=\"#f3c5a3\"] ;\\n9 -> 10 ;\\n11 [label=<gini = 0.459<br/>samples = 590<br/>value = [379, 211]<br/>class = 0>, fillcolor=\"#f3c7a7\"] ;\\n10 -> 11 ;\\n12 [label=<gini = 0.269<br/>samples = 25<br/>value = [21, 4]<br/>class = 0>, fillcolor=\"#ea995f\"] ;\\n10 -> 12 ;\\n13 [label=<job_self-employed &le; 0.5<br/>gini = 0.5<br/>samples = 137<br/>value = [68, 69]<br/>class = 1>, fillcolor=\"#fcfeff\"] ;\\n9 -> 13 ;\\n14 [label=<gini = 0.5<br/>samples = 133<br/>value = [68, 65]<br/>class = 0>, fillcolor=\"#fef9f6\"] ;\\n13 -> 14 ;\\n15 [label=<gini = 0.0<br/>samples = 4<br/>value = [0, 4]<br/>class = 1>, fillcolor=\"#399de5\"] ;\\n13 -> 15 ;\\n16 [label=<housing &le; 0.5<br/>gini = 0.355<br/>samples = 8257<br/>value = [6352, 1905]<br/>class = 0>, fillcolor=\"#eda774\"] ;\\n0 -> 16 [labeldistance=2.5, labelangle=-45, headlabel=\"False\"] ;\\n17 [label=<balance &le; 68.0<br/>gini = 0.481<br/>samples = 3115<br/>value = [1861, 1254]<br/>class = 0>, fillcolor=\"#f7d6be\"] ;\\n16 -> 17 ;\\n18 [label=<balance &le; -1.5<br/>gini = 0.383<br/>samples = 383<br/>value = [284, 99]<br/>class = 0>, fillcolor=\"#eead7e\"] ;\\n17 -> 18 ;\\n19 [label=<gini = 0.086<br/>samples = 67<br/>value = [64, 3]<br/>class = 0>, fillcolor=\"#e68742\"] ;\\n18 -> 19 ;\\n20 [label=<gini = 0.423<br/>samples = 316<br/>value = [220, 96]<br/>class = 0>, fillcolor=\"#f0b88f\"] ;\\n18 -> 20 ;\\n21 [label=<campaign &le; 4.5<br/>gini = 0.488<br/>samples = 2732<br/>value = [1577, 1155]<br/>class = 0>, fillcolor=\"#f8ddca\"] ;\\n17 -> 21 ;\\n22 [label=<gini = 0.491<br/>samples = 2563<br/>value = [1452, 1111]<br/>class = 0>, fillcolor=\"#f9e1d0\"] ;\\n21 -> 22 ;\\n23 [label=<gini = 0.385<br/>samples = 169<br/>value = [125, 44]<br/>class = 0>, fillcolor=\"#eead7f\"] ;\\n21 -> 23 ;\\n24 [label=<age &le; 60.5<br/>gini = 0.221<br/>samples = 5142<br/>value = [4491, 651]<br/>class = 0>, fillcolor=\"#e99356\"] ;\\n16 -> 24 ;\\n25 [label=<job_blue-collar &le; 0.5<br/>gini = 0.217<br/>samples = 5109<br/>value = [4478, 631]<br/>class = 0>, fillcolor=\"#e99355\"] ;\\n24 -> 25 ;\\n26 [label=<gini = 0.239<br/>samples = 3757<br/>value = [3235, 522]<br/>class = 0>, fillcolor=\"#e99559\"] ;\\n25 -> 26 ;\\n27 [label=<gini = 0.148<br/>samples = 1352<br/>value = [1243, 109]<br/>class = 0>, fillcolor=\"#e78c4a\"] ;\\n25 -> 27 ;\\n28 [label=<balance &le; 4660.5<br/>gini = 0.478<br/>samples = 33<br/>value = [13, 20]<br/>class = 1>, fillcolor=\"#baddf6\"] ;\\n24 -> 28 ;\\n29 [label=<gini = 0.428<br/>samples = 29<br/>value = [9, 20]<br/>class = 1>, fillcolor=\"#92c9f1\"] ;\\n28 -> 29 ;\\n30 [label=<gini = 0.0<br/>samples = 4<br/>value = [4, 0]<br/>class = 0>, fillcolor=\"#e58139\"] ;\\n28 -> 30 ;\\n}'"
      ]
     },
     "execution_count": 138,
     "metadata": {},
     "output_type": "execute_result"
    }
   ],
   "source": [
    "dot_data "
   ]
  },
  {
   "cell_type": "code",
   "execution_count": 139,
   "id": "7b87d8f4-7cd5-4380-b46f-2f1eaa72eb65",
   "metadata": {},
   "outputs": [],
   "source": [
    "graph = graphviz.Source(dot_data)"
   ]
  },
  {
   "cell_type": "code",
   "execution_count": 140,
   "id": "e7dfa766-2d70-46ed-abdb-78c937137ab4",
   "metadata": {},
   "outputs": [
    {
     "data": {
      "text/html": [
       "<style>text {font-size: 10px;}</style>"
      ],
      "text/plain": [
       "<IPython.core.display.HTML object>"
      ]
     },
     "metadata": {},
     "output_type": "display_data"
    },
    {
     "ename": "ExecutableNotFound",
     "evalue": "failed to execute WindowsPath('dot'), make sure the Graphviz executables are on your systems' PATH",
     "output_type": "error",
     "traceback": [
      "\u001b[1;31m---------------------------------------------------------------------------\u001b[0m",
      "\u001b[1;31mFileNotFoundError\u001b[0m                         Traceback (most recent call last)",
      "\u001b[1;32m~\\anaconda3\\lib\\site-packages\\graphviz\\backend\\execute.py\u001b[0m in \u001b[0;36mrun_check\u001b[1;34m(cmd, input_lines, encoding, quiet, **kwargs)\u001b[0m\n\u001b[0;32m     78\u001b[0m                 \u001b[0mkwargs\u001b[0m\u001b[1;33m[\u001b[0m\u001b[1;34m'stdout'\u001b[0m\u001b[1;33m]\u001b[0m \u001b[1;33m=\u001b[0m \u001b[0mkwargs\u001b[0m\u001b[1;33m[\u001b[0m\u001b[1;34m'stderr'\u001b[0m\u001b[1;33m]\u001b[0m \u001b[1;33m=\u001b[0m \u001b[0msubprocess\u001b[0m\u001b[1;33m.\u001b[0m\u001b[0mPIPE\u001b[0m\u001b[1;33m\u001b[0m\u001b[1;33m\u001b[0m\u001b[0m\n\u001b[1;32m---> 79\u001b[1;33m             \u001b[0mproc\u001b[0m \u001b[1;33m=\u001b[0m \u001b[0m_run_input_lines\u001b[0m\u001b[1;33m(\u001b[0m\u001b[0mcmd\u001b[0m\u001b[1;33m,\u001b[0m \u001b[0minput_lines\u001b[0m\u001b[1;33m,\u001b[0m \u001b[0mkwargs\u001b[0m\u001b[1;33m=\u001b[0m\u001b[0mkwargs\u001b[0m\u001b[1;33m)\u001b[0m\u001b[1;33m\u001b[0m\u001b[1;33m\u001b[0m\u001b[0m\n\u001b[0m\u001b[0;32m     80\u001b[0m         \u001b[1;32melse\u001b[0m\u001b[1;33m:\u001b[0m\u001b[1;33m\u001b[0m\u001b[1;33m\u001b[0m\u001b[0m\n",
      "\u001b[1;32m~\\anaconda3\\lib\\site-packages\\graphviz\\backend\\execute.py\u001b[0m in \u001b[0;36m_run_input_lines\u001b[1;34m(cmd, input_lines, kwargs)\u001b[0m\n\u001b[0;32m     98\u001b[0m \u001b[1;32mdef\u001b[0m \u001b[0m_run_input_lines\u001b[0m\u001b[1;33m(\u001b[0m\u001b[0mcmd\u001b[0m\u001b[1;33m,\u001b[0m \u001b[0minput_lines\u001b[0m\u001b[1;33m,\u001b[0m \u001b[1;33m*\u001b[0m\u001b[1;33m,\u001b[0m \u001b[0mkwargs\u001b[0m\u001b[1;33m)\u001b[0m\u001b[1;33m:\u001b[0m\u001b[1;33m\u001b[0m\u001b[1;33m\u001b[0m\u001b[0m\n\u001b[1;32m---> 99\u001b[1;33m     \u001b[0mpopen\u001b[0m \u001b[1;33m=\u001b[0m \u001b[0msubprocess\u001b[0m\u001b[1;33m.\u001b[0m\u001b[0mPopen\u001b[0m\u001b[1;33m(\u001b[0m\u001b[0mcmd\u001b[0m\u001b[1;33m,\u001b[0m \u001b[0mstdin\u001b[0m\u001b[1;33m=\u001b[0m\u001b[0msubprocess\u001b[0m\u001b[1;33m.\u001b[0m\u001b[0mPIPE\u001b[0m\u001b[1;33m,\u001b[0m \u001b[1;33m**\u001b[0m\u001b[0mkwargs\u001b[0m\u001b[1;33m)\u001b[0m\u001b[1;33m\u001b[0m\u001b[1;33m\u001b[0m\u001b[0m\n\u001b[0m\u001b[0;32m    100\u001b[0m \u001b[1;33m\u001b[0m\u001b[0m\n",
      "\u001b[1;32m~\\anaconda3\\lib\\subprocess.py\u001b[0m in \u001b[0;36m__init__\u001b[1;34m(self, args, bufsize, executable, stdin, stdout, stderr, preexec_fn, close_fds, shell, cwd, env, universal_newlines, startupinfo, creationflags, restore_signals, start_new_session, pass_fds, user, group, extra_groups, encoding, errors, text, umask)\u001b[0m\n\u001b[0;32m    950\u001b[0m \u001b[1;33m\u001b[0m\u001b[0m\n\u001b[1;32m--> 951\u001b[1;33m             self._execute_child(args, executable, preexec_fn, close_fds,\n\u001b[0m\u001b[0;32m    952\u001b[0m                                 \u001b[0mpass_fds\u001b[0m\u001b[1;33m,\u001b[0m \u001b[0mcwd\u001b[0m\u001b[1;33m,\u001b[0m \u001b[0menv\u001b[0m\u001b[1;33m,\u001b[0m\u001b[1;33m\u001b[0m\u001b[1;33m\u001b[0m\u001b[0m\n",
      "\u001b[1;32m~\\anaconda3\\lib\\subprocess.py\u001b[0m in \u001b[0;36m_execute_child\u001b[1;34m(self, args, executable, preexec_fn, close_fds, pass_fds, cwd, env, startupinfo, creationflags, shell, p2cread, p2cwrite, c2pread, c2pwrite, errread, errwrite, unused_restore_signals, unused_gid, unused_gids, unused_uid, unused_umask, unused_start_new_session)\u001b[0m\n\u001b[0;32m   1419\u001b[0m             \u001b[1;32mtry\u001b[0m\u001b[1;33m:\u001b[0m\u001b[1;33m\u001b[0m\u001b[1;33m\u001b[0m\u001b[0m\n\u001b[1;32m-> 1420\u001b[1;33m                 hp, ht, pid, tid = _winapi.CreateProcess(executable, args,\n\u001b[0m\u001b[0;32m   1421\u001b[0m                                          \u001b[1;31m# no special security\u001b[0m\u001b[1;33m\u001b[0m\u001b[1;33m\u001b[0m\u001b[0m\n",
      "\u001b[1;31mFileNotFoundError\u001b[0m: [WinError 2] The system cannot find the file specified",
      "\nThe above exception was the direct cause of the following exception:\n",
      "\u001b[1;31mExecutableNotFound\u001b[0m                        Traceback (most recent call last)",
      "\u001b[1;32m~\\anaconda3\\lib\\site-packages\\IPython\\core\\formatters.py\u001b[0m in \u001b[0;36m__call__\u001b[1;34m(self, obj, include, exclude)\u001b[0m\n\u001b[0;32m    968\u001b[0m \u001b[1;33m\u001b[0m\u001b[0m\n\u001b[0;32m    969\u001b[0m             \u001b[1;32mif\u001b[0m \u001b[0mmethod\u001b[0m \u001b[1;32mis\u001b[0m \u001b[1;32mnot\u001b[0m \u001b[1;32mNone\u001b[0m\u001b[1;33m:\u001b[0m\u001b[1;33m\u001b[0m\u001b[1;33m\u001b[0m\u001b[0m\n\u001b[1;32m--> 970\u001b[1;33m                 \u001b[1;32mreturn\u001b[0m \u001b[0mmethod\u001b[0m\u001b[1;33m(\u001b[0m\u001b[0minclude\u001b[0m\u001b[1;33m=\u001b[0m\u001b[0minclude\u001b[0m\u001b[1;33m,\u001b[0m \u001b[0mexclude\u001b[0m\u001b[1;33m=\u001b[0m\u001b[0mexclude\u001b[0m\u001b[1;33m)\u001b[0m\u001b[1;33m\u001b[0m\u001b[1;33m\u001b[0m\u001b[0m\n\u001b[0m\u001b[0;32m    971\u001b[0m             \u001b[1;32mreturn\u001b[0m \u001b[1;32mNone\u001b[0m\u001b[1;33m\u001b[0m\u001b[1;33m\u001b[0m\u001b[0m\n\u001b[0;32m    972\u001b[0m         \u001b[1;32melse\u001b[0m\u001b[1;33m:\u001b[0m\u001b[1;33m\u001b[0m\u001b[1;33m\u001b[0m\u001b[0m\n",
      "\u001b[1;32m~\\anaconda3\\lib\\site-packages\\graphviz\\jupyter_integration.py\u001b[0m in \u001b[0;36m_repr_mimebundle_\u001b[1;34m(self, include, exclude, **_)\u001b[0m\n\u001b[0;32m     96\u001b[0m         \u001b[0minclude\u001b[0m \u001b[1;33m=\u001b[0m \u001b[0mset\u001b[0m\u001b[1;33m(\u001b[0m\u001b[0minclude\u001b[0m\u001b[1;33m)\u001b[0m \u001b[1;32mif\u001b[0m \u001b[0minclude\u001b[0m \u001b[1;32mis\u001b[0m \u001b[1;32mnot\u001b[0m \u001b[1;32mNone\u001b[0m \u001b[1;32melse\u001b[0m \u001b[1;33m{\u001b[0m\u001b[0mself\u001b[0m\u001b[1;33m.\u001b[0m\u001b[0m_jupyter_mimetype\u001b[0m\u001b[1;33m}\u001b[0m\u001b[1;33m\u001b[0m\u001b[1;33m\u001b[0m\u001b[0m\n\u001b[0;32m     97\u001b[0m         \u001b[0minclude\u001b[0m \u001b[1;33m-=\u001b[0m \u001b[0mset\u001b[0m\u001b[1;33m(\u001b[0m\u001b[0mexclude\u001b[0m \u001b[1;32mor\u001b[0m \u001b[1;33m[\u001b[0m\u001b[1;33m]\u001b[0m\u001b[1;33m)\u001b[0m\u001b[1;33m\u001b[0m\u001b[1;33m\u001b[0m\u001b[0m\n\u001b[1;32m---> 98\u001b[1;33m         return {mimetype: getattr(self, method_name)()\n\u001b[0m\u001b[0;32m     99\u001b[0m                 \u001b[1;32mfor\u001b[0m \u001b[0mmimetype\u001b[0m\u001b[1;33m,\u001b[0m \u001b[0mmethod_name\u001b[0m \u001b[1;32min\u001b[0m \u001b[0mMIME_TYPES\u001b[0m\u001b[1;33m.\u001b[0m\u001b[0mitems\u001b[0m\u001b[1;33m(\u001b[0m\u001b[1;33m)\u001b[0m\u001b[1;33m\u001b[0m\u001b[1;33m\u001b[0m\u001b[0m\n\u001b[0;32m    100\u001b[0m                 if mimetype in include}\n",
      "\u001b[1;32m~\\anaconda3\\lib\\site-packages\\graphviz\\jupyter_integration.py\u001b[0m in \u001b[0;36m<dictcomp>\u001b[1;34m(.0)\u001b[0m\n\u001b[0;32m     96\u001b[0m         \u001b[0minclude\u001b[0m \u001b[1;33m=\u001b[0m \u001b[0mset\u001b[0m\u001b[1;33m(\u001b[0m\u001b[0minclude\u001b[0m\u001b[1;33m)\u001b[0m \u001b[1;32mif\u001b[0m \u001b[0minclude\u001b[0m \u001b[1;32mis\u001b[0m \u001b[1;32mnot\u001b[0m \u001b[1;32mNone\u001b[0m \u001b[1;32melse\u001b[0m \u001b[1;33m{\u001b[0m\u001b[0mself\u001b[0m\u001b[1;33m.\u001b[0m\u001b[0m_jupyter_mimetype\u001b[0m\u001b[1;33m}\u001b[0m\u001b[1;33m\u001b[0m\u001b[1;33m\u001b[0m\u001b[0m\n\u001b[0;32m     97\u001b[0m         \u001b[0minclude\u001b[0m \u001b[1;33m-=\u001b[0m \u001b[0mset\u001b[0m\u001b[1;33m(\u001b[0m\u001b[0mexclude\u001b[0m \u001b[1;32mor\u001b[0m \u001b[1;33m[\u001b[0m\u001b[1;33m]\u001b[0m\u001b[1;33m)\u001b[0m\u001b[1;33m\u001b[0m\u001b[1;33m\u001b[0m\u001b[0m\n\u001b[1;32m---> 98\u001b[1;33m         return {mimetype: getattr(self, method_name)()\n\u001b[0m\u001b[0;32m     99\u001b[0m                 \u001b[1;32mfor\u001b[0m \u001b[0mmimetype\u001b[0m\u001b[1;33m,\u001b[0m \u001b[0mmethod_name\u001b[0m \u001b[1;32min\u001b[0m \u001b[0mMIME_TYPES\u001b[0m\u001b[1;33m.\u001b[0m\u001b[0mitems\u001b[0m\u001b[1;33m(\u001b[0m\u001b[1;33m)\u001b[0m\u001b[1;33m\u001b[0m\u001b[1;33m\u001b[0m\u001b[0m\n\u001b[0;32m    100\u001b[0m                 if mimetype in include}\n",
      "\u001b[1;32m~\\anaconda3\\lib\\site-packages\\graphviz\\jupyter_integration.py\u001b[0m in \u001b[0;36m_repr_image_svg_xml\u001b[1;34m(self)\u001b[0m\n\u001b[0;32m    110\u001b[0m     \u001b[1;32mdef\u001b[0m \u001b[0m_repr_image_svg_xml\u001b[0m\u001b[1;33m(\u001b[0m\u001b[0mself\u001b[0m\u001b[1;33m)\u001b[0m \u001b[1;33m->\u001b[0m \u001b[0mstr\u001b[0m\u001b[1;33m:\u001b[0m\u001b[1;33m\u001b[0m\u001b[1;33m\u001b[0m\u001b[0m\n\u001b[0;32m    111\u001b[0m         \u001b[1;34m\"\"\"Return the rendered graph as SVG string.\"\"\"\u001b[0m\u001b[1;33m\u001b[0m\u001b[1;33m\u001b[0m\u001b[0m\n\u001b[1;32m--> 112\u001b[1;33m         \u001b[1;32mreturn\u001b[0m \u001b[0mself\u001b[0m\u001b[1;33m.\u001b[0m\u001b[0mpipe\u001b[0m\u001b[1;33m(\u001b[0m\u001b[0mformat\u001b[0m\u001b[1;33m=\u001b[0m\u001b[1;34m'svg'\u001b[0m\u001b[1;33m,\u001b[0m \u001b[0mencoding\u001b[0m\u001b[1;33m=\u001b[0m\u001b[0mSVG_ENCODING\u001b[0m\u001b[1;33m)\u001b[0m\u001b[1;33m\u001b[0m\u001b[1;33m\u001b[0m\u001b[0m\n\u001b[0m",
      "\u001b[1;32m~\\anaconda3\\lib\\site-packages\\graphviz\\piping.py\u001b[0m in \u001b[0;36mpipe\u001b[1;34m(self, format, renderer, formatter, neato_no_op, quiet, engine, encoding)\u001b[0m\n\u001b[0;32m    102\u001b[0m             \u001b[1;34m'<?xml version='\u001b[0m\u001b[1;33m\u001b[0m\u001b[1;33m\u001b[0m\u001b[0m\n\u001b[0;32m    103\u001b[0m         \"\"\"\n\u001b[1;32m--> 104\u001b[1;33m         return self._pipe_legacy(format,\n\u001b[0m\u001b[0;32m    105\u001b[0m                                  \u001b[0mrenderer\u001b[0m\u001b[1;33m=\u001b[0m\u001b[0mrenderer\u001b[0m\u001b[1;33m,\u001b[0m\u001b[1;33m\u001b[0m\u001b[1;33m\u001b[0m\u001b[0m\n\u001b[0;32m    106\u001b[0m                                  \u001b[0mformatter\u001b[0m\u001b[1;33m=\u001b[0m\u001b[0mformatter\u001b[0m\u001b[1;33m,\u001b[0m\u001b[1;33m\u001b[0m\u001b[1;33m\u001b[0m\u001b[0m\n",
      "\u001b[1;32m~\\anaconda3\\lib\\site-packages\\graphviz\\_tools.py\u001b[0m in \u001b[0;36mwrapper\u001b[1;34m(*args, **kwargs)\u001b[0m\n\u001b[0;32m    169\u001b[0m                               category=category)\n\u001b[0;32m    170\u001b[0m \u001b[1;33m\u001b[0m\u001b[0m\n\u001b[1;32m--> 171\u001b[1;33m             \u001b[1;32mreturn\u001b[0m \u001b[0mfunc\u001b[0m\u001b[1;33m(\u001b[0m\u001b[1;33m*\u001b[0m\u001b[0margs\u001b[0m\u001b[1;33m,\u001b[0m \u001b[1;33m**\u001b[0m\u001b[0mkwargs\u001b[0m\u001b[1;33m)\u001b[0m\u001b[1;33m\u001b[0m\u001b[1;33m\u001b[0m\u001b[0m\n\u001b[0m\u001b[0;32m    172\u001b[0m \u001b[1;33m\u001b[0m\u001b[0m\n\u001b[0;32m    173\u001b[0m         \u001b[1;32mreturn\u001b[0m \u001b[0mwrapper\u001b[0m\u001b[1;33m\u001b[0m\u001b[1;33m\u001b[0m\u001b[0m\n",
      "\u001b[1;32m~\\anaconda3\\lib\\site-packages\\graphviz\\piping.py\u001b[0m in \u001b[0;36m_pipe_legacy\u001b[1;34m(self, format, renderer, formatter, neato_no_op, quiet, engine, encoding)\u001b[0m\n\u001b[0;32m    119\u001b[0m                      \u001b[0mengine\u001b[0m\u001b[1;33m:\u001b[0m \u001b[0mtyping\u001b[0m\u001b[1;33m.\u001b[0m\u001b[0mOptional\u001b[0m\u001b[1;33m[\u001b[0m\u001b[0mstr\u001b[0m\u001b[1;33m]\u001b[0m \u001b[1;33m=\u001b[0m \u001b[1;32mNone\u001b[0m\u001b[1;33m,\u001b[0m\u001b[1;33m\u001b[0m\u001b[1;33m\u001b[0m\u001b[0m\n\u001b[0;32m    120\u001b[0m                      encoding: typing.Optional[str] = None) -> typing.Union[bytes, str]:\n\u001b[1;32m--> 121\u001b[1;33m         return self._pipe_future(format,\n\u001b[0m\u001b[0;32m    122\u001b[0m                                  \u001b[0mrenderer\u001b[0m\u001b[1;33m=\u001b[0m\u001b[0mrenderer\u001b[0m\u001b[1;33m,\u001b[0m\u001b[1;33m\u001b[0m\u001b[1;33m\u001b[0m\u001b[0m\n\u001b[0;32m    123\u001b[0m                                  \u001b[0mformatter\u001b[0m\u001b[1;33m=\u001b[0m\u001b[0mformatter\u001b[0m\u001b[1;33m,\u001b[0m\u001b[1;33m\u001b[0m\u001b[1;33m\u001b[0m\u001b[0m\n",
      "\u001b[1;32m~\\anaconda3\\lib\\site-packages\\graphviz\\piping.py\u001b[0m in \u001b[0;36m_pipe_future\u001b[1;34m(self, format, renderer, formatter, neato_no_op, quiet, engine, encoding)\u001b[0m\n\u001b[0;32m    147\u001b[0m             \u001b[1;32mif\u001b[0m \u001b[0mcodecs\u001b[0m\u001b[1;33m.\u001b[0m\u001b[0mlookup\u001b[0m\u001b[1;33m(\u001b[0m\u001b[0mencoding\u001b[0m\u001b[1;33m)\u001b[0m \u001b[1;32mis\u001b[0m \u001b[0mcodecs\u001b[0m\u001b[1;33m.\u001b[0m\u001b[0mlookup\u001b[0m\u001b[1;33m(\u001b[0m\u001b[0mself\u001b[0m\u001b[1;33m.\u001b[0m\u001b[0mencoding\u001b[0m\u001b[1;33m)\u001b[0m\u001b[1;33m:\u001b[0m\u001b[1;33m\u001b[0m\u001b[1;33m\u001b[0m\u001b[0m\n\u001b[0;32m    148\u001b[0m                 \u001b[1;31m# common case: both stdin and stdout need the same encoding\u001b[0m\u001b[1;33m\u001b[0m\u001b[1;33m\u001b[0m\u001b[0m\n\u001b[1;32m--> 149\u001b[1;33m                 \u001b[1;32mreturn\u001b[0m \u001b[0mself\u001b[0m\u001b[1;33m.\u001b[0m\u001b[0m_pipe_lines_string\u001b[0m\u001b[1;33m(\u001b[0m\u001b[1;33m*\u001b[0m\u001b[0margs\u001b[0m\u001b[1;33m,\u001b[0m \u001b[0mencoding\u001b[0m\u001b[1;33m=\u001b[0m\u001b[0mencoding\u001b[0m\u001b[1;33m,\u001b[0m \u001b[1;33m**\u001b[0m\u001b[0mkwargs\u001b[0m\u001b[1;33m)\u001b[0m\u001b[1;33m\u001b[0m\u001b[1;33m\u001b[0m\u001b[0m\n\u001b[0m\u001b[0;32m    150\u001b[0m             \u001b[1;32mtry\u001b[0m\u001b[1;33m:\u001b[0m\u001b[1;33m\u001b[0m\u001b[1;33m\u001b[0m\u001b[0m\n\u001b[0;32m    151\u001b[0m                 \u001b[0mraw\u001b[0m \u001b[1;33m=\u001b[0m \u001b[0mself\u001b[0m\u001b[1;33m.\u001b[0m\u001b[0m_pipe_lines\u001b[0m\u001b[1;33m(\u001b[0m\u001b[1;33m*\u001b[0m\u001b[0margs\u001b[0m\u001b[1;33m,\u001b[0m \u001b[0minput_encoding\u001b[0m\u001b[1;33m=\u001b[0m\u001b[0mself\u001b[0m\u001b[1;33m.\u001b[0m\u001b[0mencoding\u001b[0m\u001b[1;33m,\u001b[0m \u001b[1;33m**\u001b[0m\u001b[0mkwargs\u001b[0m\u001b[1;33m)\u001b[0m\u001b[1;33m\u001b[0m\u001b[1;33m\u001b[0m\u001b[0m\n",
      "\u001b[1;32m~\\anaconda3\\lib\\site-packages\\graphviz\\backend\\piping.py\u001b[0m in \u001b[0;36mpipe_lines_string\u001b[1;34m(engine, format, input_lines, encoding, renderer, formatter, neato_no_op, quiet)\u001b[0m\n\u001b[0;32m    210\u001b[0m     \u001b[0mkwargs\u001b[0m \u001b[1;33m=\u001b[0m \u001b[1;33m{\u001b[0m\u001b[1;34m'input_lines'\u001b[0m\u001b[1;33m:\u001b[0m \u001b[0minput_lines\u001b[0m\u001b[1;33m,\u001b[0m \u001b[1;34m'encoding'\u001b[0m\u001b[1;33m:\u001b[0m \u001b[0mencoding\u001b[0m\u001b[1;33m}\u001b[0m\u001b[1;33m\u001b[0m\u001b[1;33m\u001b[0m\u001b[0m\n\u001b[0;32m    211\u001b[0m \u001b[1;33m\u001b[0m\u001b[0m\n\u001b[1;32m--> 212\u001b[1;33m     \u001b[0mproc\u001b[0m \u001b[1;33m=\u001b[0m \u001b[0mexecute\u001b[0m\u001b[1;33m.\u001b[0m\u001b[0mrun_check\u001b[0m\u001b[1;33m(\u001b[0m\u001b[0mcmd\u001b[0m\u001b[1;33m,\u001b[0m \u001b[0mcapture_output\u001b[0m\u001b[1;33m=\u001b[0m\u001b[1;32mTrue\u001b[0m\u001b[1;33m,\u001b[0m \u001b[0mquiet\u001b[0m\u001b[1;33m=\u001b[0m\u001b[0mquiet\u001b[0m\u001b[1;33m,\u001b[0m \u001b[1;33m**\u001b[0m\u001b[0mkwargs\u001b[0m\u001b[1;33m)\u001b[0m\u001b[1;33m\u001b[0m\u001b[1;33m\u001b[0m\u001b[0m\n\u001b[0m\u001b[0;32m    213\u001b[0m     \u001b[1;32mreturn\u001b[0m \u001b[0mproc\u001b[0m\u001b[1;33m.\u001b[0m\u001b[0mstdout\u001b[0m\u001b[1;33m\u001b[0m\u001b[1;33m\u001b[0m\u001b[0m\n",
      "\u001b[1;32m~\\anaconda3\\lib\\site-packages\\graphviz\\backend\\execute.py\u001b[0m in \u001b[0;36mrun_check\u001b[1;34m(cmd, input_lines, encoding, quiet, **kwargs)\u001b[0m\n\u001b[0;32m     82\u001b[0m     \u001b[1;32mexcept\u001b[0m \u001b[0mOSError\u001b[0m \u001b[1;32mas\u001b[0m \u001b[0me\u001b[0m\u001b[1;33m:\u001b[0m\u001b[1;33m\u001b[0m\u001b[1;33m\u001b[0m\u001b[0m\n\u001b[0;32m     83\u001b[0m         \u001b[1;32mif\u001b[0m \u001b[0me\u001b[0m\u001b[1;33m.\u001b[0m\u001b[0merrno\u001b[0m \u001b[1;33m==\u001b[0m \u001b[0merrno\u001b[0m\u001b[1;33m.\u001b[0m\u001b[0mENOENT\u001b[0m\u001b[1;33m:\u001b[0m\u001b[1;33m\u001b[0m\u001b[1;33m\u001b[0m\u001b[0m\n\u001b[1;32m---> 84\u001b[1;33m             \u001b[1;32mraise\u001b[0m \u001b[0mExecutableNotFound\u001b[0m\u001b[1;33m(\u001b[0m\u001b[0mcmd\u001b[0m\u001b[1;33m)\u001b[0m \u001b[1;32mfrom\u001b[0m \u001b[0me\u001b[0m\u001b[1;33m\u001b[0m\u001b[1;33m\u001b[0m\u001b[0m\n\u001b[0m\u001b[0;32m     85\u001b[0m         \u001b[1;32mraise\u001b[0m\u001b[1;33m\u001b[0m\u001b[1;33m\u001b[0m\u001b[0m\n\u001b[0;32m     86\u001b[0m \u001b[1;33m\u001b[0m\u001b[0m\n",
      "\u001b[1;31mExecutableNotFound\u001b[0m: failed to execute WindowsPath('dot'), make sure the Graphviz executables are on your systems' PATH"
     ]
    },
    {
     "data": {
      "text/plain": [
       "<graphviz.sources.Source at 0x1efd06b98b0>"
      ]
     },
     "execution_count": 140,
     "metadata": {},
     "output_type": "execute_result"
    }
   ],
   "source": [
    "from IPython.core.display import display, HTML\n",
    "display(HTML(\"<style>text {font-size: 10px;}</style>\"))\n",
    "\n",
    "graph"
   ]
  },
  {
   "cell_type": "markdown",
   "id": "07dddf6a-504f-41b8-a5b5-be7f8ccff891",
   "metadata": {},
   "source": [
    "The tree on the right half (or the children of the root node's right child) looks\n",
    "as follows:"
   ]
  },
  {
   "cell_type": "markdown",
   "id": "63f8432c-69de-4e94-8dc9-237b5cee47d3",
   "metadata": {},
   "source": [
    "Let's take a closer look at this diagram. Each node contains five lines that\n",
    "describe the information that the given node has. The top line tells us the\n",
    "criteria of the split. The root node, for example, is split into its child nodes\n",
    "based on the value of the previous variable. If the value of this previous variable\n",
    "is less than or equal to 0.5, then it goes to the left child. On the other hand, if\n",
    "the value of this previous variable is larger than 0.5, then it goes to the right\n",
    "child.\n",
    "\n",
    "The second line tells us the value of the quality measure for the split. Here,\n",
    "we selected the gini impurity measure for the criteria, so we can see the\n",
    "changes in the impurity measures in each node from the second line. The third\n",
    "line tells us the total number of records that belong to the given node. For\n",
    "example, there are 45,211 samples in the root node, and there are 8,257 samples\n",
    "in the right child of the root node.\n",
    "\n",
    "The fourth line in each node tells us the composition of the records in two\n",
    "different classes. The first element stands for the number of records in the\n",
    "non-conversion group, and the second element stands for the number of\n",
    "records in the conversion group. For example, in the root node, there are\n",
    "39,922 records in the non-conversion group and 5,289 records in the conversion\n",
    "group. Lastly, the fifth line in each node tells us what the prediction or\n",
    "classification will be for the given node. For example, if a sample belongs to"
   ]
  },
  {
   "cell_type": "markdown",
   "id": "0e6ae6a8-b7a0-4e0d-97c8-cd42a91ea011",
   "metadata": {},
   "source": [
    "the leftmost leaf, the classification by this decision tree model will be 0,\n",
    "meaning non-conversion. On the other hand, if a sample belongs to the eighth\n",
    "leaf from the left, the classification by this decision tree model will be 1,\n",
    "meaning conversion.\n",
    "\n",
    "Now that we know what each of the lines in each nodes means, let's discuss\n",
    "how we can draw insights from this tree graph. In order to understand the\n",
    "customers that belong to each leaf node, we need to follow through the tree.\n",
    "For example, those customers that belong to the eighth leaf node from the left\n",
    "are those with a 0 value for the previous variable, age greater than 60.5,\n",
    "a marital_divorced variable with a value of 1, and a job_self-employed variable\n",
    "with a value of 1. In other words, those who were not contacted before this\n",
    "campaign and who are older than 60.5, divorced, and self-employed belong to\n",
    "this node, and have a high chance of converting.\n",
    "\n",
    "Let's take a look at another example. Those customers that belong to the\n",
    "second leaf node from the right are those with a value of 1 for the previous\n",
    "variable, a value of 1 for the housing variable, age greater than 60.5, and balance\n",
    "less than or equal to 4,660.5. In other words, those customers that were\n",
    "contacted before this campaign and that have a housing loan, are older than\n",
    "60.5, and have a bank balance less than 4,660.5 belong to this node and 20 out of\n",
    "29 that belong to this node have converted and subscribed to a term deposit.\n",
    "\n",
    "As you will have noticed from these two examples, you can draw useful\n",
    "insights about who is more or less likely to convert from trained decision tree\n",
    "models, by visualizing the trained tree. You simply need to follow through the\n",
    "nodes and understand what kinds of attributes are highly correlated with your\n",
    "target class. For this exercise, we restricted the tree to only growing up to a\n",
    "depth of 4, but you can choose to grow a tree larger or smaller than the one we\n",
    "used in this exercise.\n",
    "\n",
    "The full code for this chapter's Python exercise can be found in the repository at https://github.com/yoonhwang/hands-on-data-science-for-marketing/blob/master/ch.4/python/From%20Engagement%20to%20Conversions.ipynb"
   ]
  },
  {
   "cell_type": "markdown",
   "id": "6d046224-59a4-4980-81cd-9a5f5d73ddae",
   "metadata": {},
   "source": [
    "## Week 1: Day 5 – Product Visibility and Marketing"
   ]
  },
  {
   "cell_type": "markdown",
   "id": "e603a9d2-7baa-498f-85c0-d83f4fc47574",
   "metadata": {},
   "source": [
    "### Product Analytics"
   ]
  },
  {
   "cell_type": "markdown",
   "id": "d2ec4554-ca25-4de0-902f-1f98c588b3b0",
   "metadata": {},
   "source": [
    "### Section 3: Product Visibility and Marketing"
   ]
  },
  {
   "cell_type": "markdown",
   "id": "269b09bb-aedb-404a-b2f3-d2971b66c5dc",
   "metadata": {},
   "source": [
    "In this section, you will learn how to draw insights from the product purchase\n",
    "history data and how to use machine learning to recommend products that are\n",
    "most likely to be purchased by customers.\n",
    "This section consists of the following chapters:\n",
    "\n",
    "Chapter 5, Product Analytics\n",
    "Chapter 6, Recommending the Right Products"
   ]
  },
  {
   "cell_type": "markdown",
   "id": "e44eb63f-69b8-447d-b84a-7c46d110c008",
   "metadata": {},
   "source": [
    "### Product Analytics"
   ]
  },
  {
   "cell_type": "markdown",
   "id": "89ce17ec-cba4-462d-8035-99fbfac83229",
   "metadata": {},
   "source": [
    "From this chapter on, we are going to switch gears from conducting analyses\n",
    "on customer behaviors and start discussing how we can use data science for\n",
    "more granular, product-level analytics. There has been increasing interest\n",
    "and demand from various companies, especially among e-commerce\n",
    "businesses, for utilizing data to understand how customers engage and\n",
    "interact with different products. It has also been proven that rigorous product\n",
    "analytics can help businesses to improve user engagements and conversions\n",
    "that ultimately leads to higher profits. In this chapter, we are going to discuss\n",
    "what product analytics is and how it can be employed for different use cases.\n",
    "Once we familiarize ourselves with the concept of product analytics, we are\n",
    "going to use the Online Retail Data Set from the UCI Machine Learning\n",
    "Repository for our programming exercises. We are going to start by analyzing\n",
    "the overall time series trends we can observe from the dataset. Then, we will\n",
    "look into how the customer engagements and interactions with individual\n",
    "products change over time with the goal of being able to build a simple\n",
    "product recommendation logic or algorithm in the end. For Python exercises,\n",
    "we will mainly utilize the pandas and matplotlib libraries for data analyses and\n",
    "visualizations. For R exercises, we will mainly use the dplyr and ggplot2\n",
    "libraries and introduce two other R libraries, readxl and lubridate."
   ]
  },
  {
   "cell_type": "markdown",
   "id": "6e2b5299-571c-454f-9895-3dd5761cdb4b",
   "metadata": {},
   "source": [
    "In this chapter, we will cover the following topics:\n",
    "The importance of product analytics\n",
    "Product analytics using Python\n",
    "Product analytics using R"
   ]
  },
  {
   "cell_type": "markdown",
   "id": "22af755e-4137-4c70-8c25-b0318ae2cdf7",
   "metadata": {},
   "source": [
    "### The importance of product analytics"
   ]
  },
  {
   "cell_type": "markdown",
   "id": "fbae2de0-b9c9-4786-b753-5443c0ed79c4",
   "metadata": {},
   "source": [
    "Product analytics is a way to draw insights from data on how customers\n",
    "engage and interact with products offered, how different products perform,\n",
    "and what some of the observable weaknesses and strengths in a business are.\n",
    "However, product analytics does not just stop at analyzing the data. The\n",
    "ultimate goal of product analytics is really to build actionable insights and\n",
    "reports that can further help optimize and improve product performance and\n",
    "generate new marketing or product ideas based on the findings of product\n",
    "analytics.\n",
    "Product analytics starts by tracking events. These events can be customer\n",
    "website visits, page views, browser histories, purchases, or any other\n",
    "actions that customers can take with the products that you offer. Then, you can\n",
    "start analyzing and visualizing any observable patterns in these events with\n",
    "the goal of creating actionable insights or reports. Some of the common goals\n",
    "with product analytics are as follows"
   ]
  },
  {
   "cell_type": "markdown",
   "id": "d0953cf0-0418-47ec-8422-6aa80f606ef9",
   "metadata": {},
   "source": [
    "Improve customer and product retention: By analyzing what\n",
    "customers viewed and purchased, you can identify what items customers\n",
    "repeatedly purchase and who those repeat customers are. On the other\n",
    "hand, you can also identify what items customers do not buy and the\n",
    "customers who are at risk of churning. Analyzing and understanding the\n",
    "common attributes of the repeatedly purchased items and repeat\n",
    "customers can help you improve your retention strategy.\n",
    "Identify popular and trending products: As a marketer for retail\n",
    "businesses, it is important to have a good understanding of popular and\n",
    "trending products. These best-selling products are key revenue drivers\n",
    "for the business and provide new selling opportunities, such as crosssells or bundle sales. With product analytics, you should be able to\n",
    "identify and track these popular and trending products easily and"
   ]
  },
  {
   "cell_type": "markdown",
   "id": "2ecdc4d1-4082-43c1-baa0-dc4edfeecc03",
   "metadata": {},
   "source": [
    "generate new strategies to explore different opportunities using these\n",
    "best-selling products.\n",
    "Segment customers and products based on their key attributes: With\n",
    "the customer profile and product data, you can segment your customer\n",
    "base and products based on their attributes using product analytics.\n",
    "Some of the ways to segment your product data are based on their\n",
    "profitability, volumes of sales, volumes of reorders, and numbers of\n",
    "refunds. With these segmentations, you can draw actionable insights on\n",
    "which product or customer segments to target next.\n",
    "Develop marketing strategies with higher ROI: Product analytics can\n",
    "also be used to analyze the return on investment (ROI) of your\n",
    "marketing strategies. By analyzing the marketing dollars spent on\n",
    "promoting certain items and the revenue generated from those products,\n",
    "you can understand what works and what does not. Using product\n",
    "analytics for marketing ROI analyses can help you create more efficient\n",
    "marketing strategies.\n",
    "With what "
   ]
  },
  {
   "cell_type": "markdown",
   "id": "af3087b9-85dd-42a2-91fc-5643f31ff06d",
   "metadata": {},
   "source": [
    "e have discussed here about product analytics, we are going to\n",
    "discuss how to achieve some of these product analytics goals using retail\n",
    "business data in the following programming exercises. We are going to\n",
    "discuss how we can use the data to analyze the patterns of repeat customers\n",
    "and their contributions to overall revenue. Also, we will be covering how\n",
    "we can use product analytics to analyze the behaviors of best-selling\n",
    "products. More specifically, we are going to discuss how to track the trends\n",
    "of popular items over time and then briefly discuss how we can utilize this\n",
    "trending item data for product recommendations in your marketing strategies."
   ]
  },
  {
   "cell_type": "markdown",
   "id": "aa553a76-2035-4f9a-b0e3-a6ed876da173",
   "metadata": {},
   "source": [
    "### Product analytics using Python"
   ]
  },
  {
   "cell_type": "markdown",
   "id": "5f1107a6-5236-4a2c-9841-895b877d611b",
   "metadata": {},
   "source": [
    "In this section, we are going to discuss how to conduct product analytics using\n",
    "the pandas and matplotlib packages in Python. For those readers who would like\n",
    "to use R, instead of Python, for this exercise, you can skip to the next section.\n",
    "We will start this section by analyzing the overall time series trends in the\n",
    "revenue and numbers of purchases, and the purchase patterns of repeat\n",
    "purchase customers, and then we will move on to analyze the trends in\n",
    "products being sold.\n",
    "For this exercise, we will be using one of the publicly available datasets from\n",
    "the UCI Machine Learning Repository, which can be found using this link: htt\n",
    "p://archive.ics.uci.edu/ml/datasets/online+retail#. From this link, you\n",
    "can download the data in Microsoft Excel format, named Online Retail.xlsx.\n",
    "Once you have downloaded this data, you can load it into your Jupyter\n",
    "Notebook by running the following command:\n"
   ]
  },
  {
   "cell_type": "code",
   "execution_count": 233,
   "id": "a5cfaf72-df13-4276-840c-0419e919ea87",
   "metadata": {},
   "outputs": [],
   "source": [
    "%matplotlib inline\n",
    "import matplotlib.pyplot as plt\n",
    "import pandas as pd\n",
    "\n",
    "#df = pd.read_excel(io='../data/Online Retail.xlsx', sheet_name='Online Retail')"
   ]
  },
  {
   "cell_type": "code",
   "execution_count": 232,
   "id": "bda61ec9-98d3-43d3-a169-f4f4659835dd",
   "metadata": {},
   "outputs": [],
   "source": [
    "df = pd.read_excel(r'C:\\Users\\user\\Desktop\\Online Retail.xlsx', sheet_name='Online Retail')"
   ]
  },
  {
   "cell_type": "markdown",
   "id": "ab544de0-dfc2-477d-a332-13985e077043",
   "metadata": {},
   "source": [
    "Similar to the other Python exercises in previous chapters, we use\n",
    "the %matplotlib inline command to display plots on the Jupyter Notebook. Then,\n",
    "we can import the matplotlib and pandas packages that we will be using for\n",
    "further product analytics. One thing to note in this code snippet is the new\n",
    "function in the pandas package that we are using here, read_excel. This function\n",
    "lets you load any Excel file into your pandas DataFrame. As you can see from this\n",
    "code, we are passing two arguments to the read_excel function—io, for the path\n",
    "to the data file, and sheet_name, for the name of the Excel sheet that we want to\n",
    "load the data from.\n",
    "Once you have loaded this data into a pandas DataFrame, it should look as shown\n",
    "in the following screenshot:"
   ]
  },
  {
   "cell_type": "code",
   "execution_count": 241,
   "id": "36a0eb52-8335-47cf-9786-a088af7b9cc7",
   "metadata": {},
   "outputs": [
    {
     "data": {
      "text/plain": [
       "(541909, 8)"
      ]
     },
     "execution_count": 241,
     "metadata": {},
     "output_type": "execute_result"
    }
   ],
   "source": [
    "df.shape"
   ]
  },
  {
   "cell_type": "code",
   "execution_count": 240,
   "id": "a68bb700-3d5c-43a2-b034-02d28abd9bf1",
   "metadata": {},
   "outputs": [
    {
     "data": {
      "text/html": [
       "<div>\n",
       "<style scoped>\n",
       "    .dataframe tbody tr th:only-of-type {\n",
       "        vertical-align: middle;\n",
       "    }\n",
       "\n",
       "    .dataframe tbody tr th {\n",
       "        vertical-align: top;\n",
       "    }\n",
       "\n",
       "    .dataframe thead th {\n",
       "        text-align: right;\n",
       "    }\n",
       "</style>\n",
       "<table border=\"1\" class=\"dataframe\">\n",
       "  <thead>\n",
       "    <tr style=\"text-align: right;\">\n",
       "      <th></th>\n",
       "      <th>InvoiceNo</th>\n",
       "      <th>StockCode</th>\n",
       "      <th>Description</th>\n",
       "      <th>Quantity</th>\n",
       "      <th>InvoiceDate</th>\n",
       "      <th>UnitPrice</th>\n",
       "      <th>CustomerID</th>\n",
       "      <th>Country</th>\n",
       "    </tr>\n",
       "  </thead>\n",
       "  <tbody>\n",
       "    <tr>\n",
       "      <th>0</th>\n",
       "      <td>536365</td>\n",
       "      <td>85123A</td>\n",
       "      <td>WHITE HANGING HEART T-LIGHT HOLDER</td>\n",
       "      <td>6</td>\n",
       "      <td>2010-12-01 08:26:00</td>\n",
       "      <td>2.55</td>\n",
       "      <td>17850.0</td>\n",
       "      <td>United Kingdom</td>\n",
       "    </tr>\n",
       "    <tr>\n",
       "      <th>1</th>\n",
       "      <td>536365</td>\n",
       "      <td>71053</td>\n",
       "      <td>WHITE METAL LANTERN</td>\n",
       "      <td>6</td>\n",
       "      <td>2010-12-01 08:26:00</td>\n",
       "      <td>3.39</td>\n",
       "      <td>17850.0</td>\n",
       "      <td>United Kingdom</td>\n",
       "    </tr>\n",
       "    <tr>\n",
       "      <th>2</th>\n",
       "      <td>536365</td>\n",
       "      <td>84406B</td>\n",
       "      <td>CREAM CUPID HEARTS COAT HANGER</td>\n",
       "      <td>8</td>\n",
       "      <td>2010-12-01 08:26:00</td>\n",
       "      <td>2.75</td>\n",
       "      <td>17850.0</td>\n",
       "      <td>United Kingdom</td>\n",
       "    </tr>\n",
       "    <tr>\n",
       "      <th>3</th>\n",
       "      <td>536365</td>\n",
       "      <td>84029G</td>\n",
       "      <td>KNITTED UNION FLAG HOT WATER BOTTLE</td>\n",
       "      <td>6</td>\n",
       "      <td>2010-12-01 08:26:00</td>\n",
       "      <td>3.39</td>\n",
       "      <td>17850.0</td>\n",
       "      <td>United Kingdom</td>\n",
       "    </tr>\n",
       "    <tr>\n",
       "      <th>4</th>\n",
       "      <td>536365</td>\n",
       "      <td>84029E</td>\n",
       "      <td>RED WOOLLY HOTTIE WHITE HEART.</td>\n",
       "      <td>6</td>\n",
       "      <td>2010-12-01 08:26:00</td>\n",
       "      <td>3.39</td>\n",
       "      <td>17850.0</td>\n",
       "      <td>United Kingdom</td>\n",
       "    </tr>\n",
       "  </tbody>\n",
       "</table>\n",
       "</div>"
      ],
      "text/plain": [
       "  InvoiceNo StockCode                          Description  Quantity  \\\n",
       "0    536365    85123A   WHITE HANGING HEART T-LIGHT HOLDER         6   \n",
       "1    536365     71053                  WHITE METAL LANTERN         6   \n",
       "2    536365    84406B       CREAM CUPID HEARTS COAT HANGER         8   \n",
       "3    536365    84029G  KNITTED UNION FLAG HOT WATER BOTTLE         6   \n",
       "4    536365    84029E       RED WOOLLY HOTTIE WHITE HEART.         6   \n",
       "\n",
       "          InvoiceDate  UnitPrice  CustomerID         Country  \n",
       "0 2010-12-01 08:26:00       2.55     17850.0  United Kingdom  \n",
       "1 2010-12-01 08:26:00       3.39     17850.0  United Kingdom  \n",
       "2 2010-12-01 08:26:00       2.75     17850.0  United Kingdom  \n",
       "3 2010-12-01 08:26:00       3.39     17850.0  United Kingdom  \n",
       "4 2010-12-01 08:26:00       3.39     17850.0  United Kingdom  "
      ]
     },
     "execution_count": 240,
     "metadata": {},
     "output_type": "execute_result"
    }
   ],
   "source": [
    "df.head()"
   ]
  },
  {
   "cell_type": "markdown",
   "id": "284a3852-eb07-4ee7-a562-bec6c0b184a7",
   "metadata": {
    "jp-MarkdownHeadingCollapsed": true,
    "tags": []
   },
   "source": [
    "### Product Analysis"
   ]
  },
  {
   "cell_type": "markdown",
   "id": "48f9182d-a04d-41e1-9927-12db5bf8dd7d",
   "metadata": {},
   "source": [
    "Before we move on to the next step, there is one data-cleaning step we need to\n",
    "take. Let's look quickly at the distribution of the Quantity column. We will\n",
    "visualize the distributions of Quantity by using the following code"
   ]
  },
  {
   "cell_type": "code",
   "execution_count": 237,
   "id": "bbe79fb1-a8be-45dd-bb01-1531b28b11f4",
   "metadata": {},
   "outputs": [
    {
     "data": {
      "image/png": "[encoded data removed]",
      "text/plain": [
       "<Figure size 720x504 with 1 Axes>"
      ]
     },
     "metadata": {
      "needs_background": "light"
     },
     "output_type": "display_data"
    }
   ],
   "source": [
    "ax = df['Quantity'].plot.box(\n",
    "showfliers=False,\n",
    "grid=True,\n",
    "figsize=(10, 7)\n",
    ")\n",
    "ax.set_ylabel('Order Quantity')\n",
    "ax.set_title('Quantity Distribution')\n",
    "plt.suptitle(\"\")\n",
    "\n",
    "plt.show()"
   ]
  },
  {
   "cell_type": "markdown",
   "id": "9243d7f8-9b3e-49c7-8e08-af0bd858c5c9",
   "metadata": {},
   "source": [
    "As you can see from this code, we are visualizing the distribution of\n",
    "the Quantity column, in a box plot, by using pandas DataFrame's plot.box function.\n",
    "The resulting box plot looks as follows:"
   ]
  },
  {
   "cell_type": "markdown",
   "id": "0ba8273f-9adb-40bb-95f6-4baef68e6f74",
   "metadata": {},
   "source": [
    "As you can see from this plot, some orders have negative quantities. This is\n",
    "because the cancelled or refunded orders are recorded with negative values in\n",
    "the Quantity column of our dataset. For illustration purposes in this exercise,\n",
    "we are going to disregard the cancelled orders. We can filter out all the\n",
    "cancelled orders in our DataFrame by using the following code:"
   ]
  },
  {
   "cell_type": "code",
   "execution_count": 238,
   "id": "70329562-ca87-4771-ad86-65b48229c7d9",
   "metadata": {},
   "outputs": [
    {
     "data": {
      "text/html": [
       "<div>\n",
       "<style scoped>\n",
       "    .dataframe tbody tr th:only-of-type {\n",
       "        vertical-align: middle;\n",
       "    }\n",
       "\n",
       "    .dataframe tbody tr th {\n",
       "        vertical-align: top;\n",
       "    }\n",
       "\n",
       "    .dataframe thead th {\n",
       "        text-align: right;\n",
       "    }\n",
       "</style>\n",
       "<table border=\"1\" class=\"dataframe\">\n",
       "  <thead>\n",
       "    <tr style=\"text-align: right;\">\n",
       "      <th></th>\n",
       "      <th>Quantity</th>\n",
       "    </tr>\n",
       "  </thead>\n",
       "  <tbody>\n",
       "    <tr>\n",
       "      <th>count</th>\n",
       "      <td>541909.000000</td>\n",
       "    </tr>\n",
       "    <tr>\n",
       "      <th>mean</th>\n",
       "      <td>9.552250</td>\n",
       "    </tr>\n",
       "    <tr>\n",
       "      <th>std</th>\n",
       "      <td>218.081158</td>\n",
       "    </tr>\n",
       "    <tr>\n",
       "      <th>min</th>\n",
       "      <td>-80995.000000</td>\n",
       "    </tr>\n",
       "    <tr>\n",
       "      <th>25%</th>\n",
       "      <td>1.000000</td>\n",
       "    </tr>\n",
       "    <tr>\n",
       "      <th>50%</th>\n",
       "      <td>3.000000</td>\n",
       "    </tr>\n",
       "    <tr>\n",
       "      <th>75%</th>\n",
       "      <td>10.000000</td>\n",
       "    </tr>\n",
       "    <tr>\n",
       "      <th>max</th>\n",
       "      <td>80995.000000</td>\n",
       "    </tr>\n",
       "  </tbody>\n",
       "</table>\n",
       "</div>"
      ],
      "text/plain": [
       "            Quantity\n",
       "count  541909.000000\n",
       "mean        9.552250\n",
       "std       218.081158\n",
       "min    -80995.000000\n",
       "25%         1.000000\n",
       "50%         3.000000\n",
       "75%        10.000000\n",
       "max     80995.000000"
      ]
     },
     "execution_count": 238,
     "metadata": {},
     "output_type": "execute_result"
    }
   ],
   "source": [
    "pd.DataFrame(df['Quantity'].describe())"
   ]
  },
  {
   "cell_type": "code",
   "execution_count": null,
   "id": "9645b7f9-68bf-4a05-82c1-d7c3f0262e7b",
   "metadata": {},
   "outputs": [],
   "source": []
  },
  {
   "cell_type": "code",
   "execution_count": 242,
   "id": "00448bd0-10a9-4a7d-879e-7774007188c5",
   "metadata": {},
   "outputs": [
    {
     "data": {
      "text/plain": [
       "(531285, 8)"
      ]
     },
     "execution_count": 242,
     "metadata": {},
     "output_type": "execute_result"
    }
   ],
   "source": [
    "df.loc[df['Quantity'] > 0].shape"
   ]
  },
  {
   "cell_type": "code",
   "execution_count": 243,
   "id": "7cdb5874-c6db-4b93-9a06-5fa610111d52",
   "metadata": {},
   "outputs": [
    {
     "data": {
      "text/plain": [
       "(541909, 8)"
      ]
     },
     "execution_count": 243,
     "metadata": {},
     "output_type": "execute_result"
    }
   ],
   "source": [
    "df.shape"
   ]
  },
  {
   "cell_type": "code",
   "execution_count": 245,
   "id": "99c2254d-8226-4bb8-a41b-7beb89b9aea4",
   "metadata": {},
   "outputs": [],
   "source": [
    "df = df.loc[df['Quantity'] > 0]"
   ]
  },
  {
   "cell_type": "code",
   "execution_count": 246,
   "id": "359a42cf-2a95-4538-b306-ce83e7a14f9d",
   "metadata": {},
   "outputs": [
    {
     "data": {
      "text/html": [
       "<div>\n",
       "<style scoped>\n",
       "    .dataframe tbody tr th:only-of-type {\n",
       "        vertical-align: middle;\n",
       "    }\n",
       "\n",
       "    .dataframe tbody tr th {\n",
       "        vertical-align: top;\n",
       "    }\n",
       "\n",
       "    .dataframe thead th {\n",
       "        text-align: right;\n",
       "    }\n",
       "</style>\n",
       "<table border=\"1\" class=\"dataframe\">\n",
       "  <thead>\n",
       "    <tr style=\"text-align: right;\">\n",
       "      <th></th>\n",
       "      <th>InvoiceNo</th>\n",
       "      <th>StockCode</th>\n",
       "      <th>Description</th>\n",
       "      <th>Quantity</th>\n",
       "      <th>InvoiceDate</th>\n",
       "      <th>UnitPrice</th>\n",
       "      <th>CustomerID</th>\n",
       "      <th>Country</th>\n",
       "    </tr>\n",
       "  </thead>\n",
       "  <tbody>\n",
       "    <tr>\n",
       "      <th>0</th>\n",
       "      <td>536365</td>\n",
       "      <td>85123A</td>\n",
       "      <td>WHITE HANGING HEART T-LIGHT HOLDER</td>\n",
       "      <td>6</td>\n",
       "      <td>2010-12-01 08:26:00</td>\n",
       "      <td>2.55</td>\n",
       "      <td>17850.0</td>\n",
       "      <td>United Kingdom</td>\n",
       "    </tr>\n",
       "    <tr>\n",
       "      <th>1</th>\n",
       "      <td>536365</td>\n",
       "      <td>71053</td>\n",
       "      <td>WHITE METAL LANTERN</td>\n",
       "      <td>6</td>\n",
       "      <td>2010-12-01 08:26:00</td>\n",
       "      <td>3.39</td>\n",
       "      <td>17850.0</td>\n",
       "      <td>United Kingdom</td>\n",
       "    </tr>\n",
       "    <tr>\n",
       "      <th>2</th>\n",
       "      <td>536365</td>\n",
       "      <td>84406B</td>\n",
       "      <td>CREAM CUPID HEARTS COAT HANGER</td>\n",
       "      <td>8</td>\n",
       "      <td>2010-12-01 08:26:00</td>\n",
       "      <td>2.75</td>\n",
       "      <td>17850.0</td>\n",
       "      <td>United Kingdom</td>\n",
       "    </tr>\n",
       "    <tr>\n",
       "      <th>3</th>\n",
       "      <td>536365</td>\n",
       "      <td>84029G</td>\n",
       "      <td>KNITTED UNION FLAG HOT WATER BOTTLE</td>\n",
       "      <td>6</td>\n",
       "      <td>2010-12-01 08:26:00</td>\n",
       "      <td>3.39</td>\n",
       "      <td>17850.0</td>\n",
       "      <td>United Kingdom</td>\n",
       "    </tr>\n",
       "    <tr>\n",
       "      <th>4</th>\n",
       "      <td>536365</td>\n",
       "      <td>84029E</td>\n",
       "      <td>RED WOOLLY HOTTIE WHITE HEART.</td>\n",
       "      <td>6</td>\n",
       "      <td>2010-12-01 08:26:00</td>\n",
       "      <td>3.39</td>\n",
       "      <td>17850.0</td>\n",
       "      <td>United Kingdom</td>\n",
       "    </tr>\n",
       "    <tr>\n",
       "      <th>...</th>\n",
       "      <td>...</td>\n",
       "      <td>...</td>\n",
       "      <td>...</td>\n",
       "      <td>...</td>\n",
       "      <td>...</td>\n",
       "      <td>...</td>\n",
       "      <td>...</td>\n",
       "      <td>...</td>\n",
       "    </tr>\n",
       "    <tr>\n",
       "      <th>541904</th>\n",
       "      <td>581587</td>\n",
       "      <td>22613</td>\n",
       "      <td>PACK OF 20 SPACEBOY NAPKINS</td>\n",
       "      <td>12</td>\n",
       "      <td>2011-12-09 12:50:00</td>\n",
       "      <td>0.85</td>\n",
       "      <td>12680.0</td>\n",
       "      <td>France</td>\n",
       "    </tr>\n",
       "    <tr>\n",
       "      <th>541905</th>\n",
       "      <td>581587</td>\n",
       "      <td>22899</td>\n",
       "      <td>CHILDREN'S APRON DOLLY GIRL</td>\n",
       "      <td>6</td>\n",
       "      <td>2011-12-09 12:50:00</td>\n",
       "      <td>2.10</td>\n",
       "      <td>12680.0</td>\n",
       "      <td>France</td>\n",
       "    </tr>\n",
       "    <tr>\n",
       "      <th>541906</th>\n",
       "      <td>581587</td>\n",
       "      <td>23254</td>\n",
       "      <td>CHILDRENS CUTLERY DOLLY GIRL</td>\n",
       "      <td>4</td>\n",
       "      <td>2011-12-09 12:50:00</td>\n",
       "      <td>4.15</td>\n",
       "      <td>12680.0</td>\n",
       "      <td>France</td>\n",
       "    </tr>\n",
       "    <tr>\n",
       "      <th>541907</th>\n",
       "      <td>581587</td>\n",
       "      <td>23255</td>\n",
       "      <td>CHILDRENS CUTLERY CIRCUS PARADE</td>\n",
       "      <td>4</td>\n",
       "      <td>2011-12-09 12:50:00</td>\n",
       "      <td>4.15</td>\n",
       "      <td>12680.0</td>\n",
       "      <td>France</td>\n",
       "    </tr>\n",
       "    <tr>\n",
       "      <th>541908</th>\n",
       "      <td>581587</td>\n",
       "      <td>22138</td>\n",
       "      <td>BAKING SET 9 PIECE RETROSPOT</td>\n",
       "      <td>3</td>\n",
       "      <td>2011-12-09 12:50:00</td>\n",
       "      <td>4.95</td>\n",
       "      <td>12680.0</td>\n",
       "      <td>France</td>\n",
       "    </tr>\n",
       "  </tbody>\n",
       "</table>\n",
       "<p>531285 rows × 8 columns</p>\n",
       "</div>"
      ],
      "text/plain": [
       "       InvoiceNo StockCode                          Description  Quantity  \\\n",
       "0         536365    85123A   WHITE HANGING HEART T-LIGHT HOLDER         6   \n",
       "1         536365     71053                  WHITE METAL LANTERN         6   \n",
       "2         536365    84406B       CREAM CUPID HEARTS COAT HANGER         8   \n",
       "3         536365    84029G  KNITTED UNION FLAG HOT WATER BOTTLE         6   \n",
       "4         536365    84029E       RED WOOLLY HOTTIE WHITE HEART.         6   \n",
       "...          ...       ...                                  ...       ...   \n",
       "541904    581587     22613          PACK OF 20 SPACEBOY NAPKINS        12   \n",
       "541905    581587     22899         CHILDREN'S APRON DOLLY GIRL          6   \n",
       "541906    581587     23254        CHILDRENS CUTLERY DOLLY GIRL          4   \n",
       "541907    581587     23255      CHILDRENS CUTLERY CIRCUS PARADE         4   \n",
       "541908    581587     22138        BAKING SET 9 PIECE RETROSPOT          3   \n",
       "\n",
       "               InvoiceDate  UnitPrice  CustomerID         Country  \n",
       "0      2010-12-01 08:26:00       2.55     17850.0  United Kingdom  \n",
       "1      2010-12-01 08:26:00       3.39     17850.0  United Kingdom  \n",
       "2      2010-12-01 08:26:00       2.75     17850.0  United Kingdom  \n",
       "3      2010-12-01 08:26:00       3.39     17850.0  United Kingdom  \n",
       "4      2010-12-01 08:26:00       3.39     17850.0  United Kingdom  \n",
       "...                    ...        ...         ...             ...  \n",
       "541904 2011-12-09 12:50:00       0.85     12680.0          France  \n",
       "541905 2011-12-09 12:50:00       2.10     12680.0          France  \n",
       "541906 2011-12-09 12:50:00       4.15     12680.0          France  \n",
       "541907 2011-12-09 12:50:00       4.15     12680.0          France  \n",
       "541908 2011-12-09 12:50:00       4.95     12680.0          France  \n",
       "\n",
       "[531285 rows x 8 columns]"
      ]
     },
     "execution_count": 246,
     "metadata": {},
     "output_type": "execute_result"
    }
   ],
   "source": [
    "df"
   ]
  },
  {
   "cell_type": "markdown",
   "id": "9162e608-8216-4e35-80a7-88fd9be5689b",
   "metadata": {},
   "source": [
    "Now, we are ready to conduct further analyses and dive into our data."
   ]
  },
  {
   "cell_type": "markdown",
   "id": "815a7fe0-b4c4-44de-a40d-d22bb131b46b",
   "metadata": {},
   "source": [
    "### Time series trends"
   ]
  },
  {
   "cell_type": "markdown",
   "id": "75f7d483-723c-44c9-8904-f730d885d045",
   "metadata": {},
   "source": [
    "Before we look at product-level data, as a marketer for an e-commerce\n",
    "business, it will be beneficial to have a better understanding of the overall\n",
    "time series trends in the revenue and the numbers of orders or purchases. This\n",
    "will help us understand whether the business is growing or shrinking in terms\n",
    "of both the overall revenue and the numbers of orders we receive over time.\n",
    "First, we are going to look into the numbers of orders received over time.\n",
    "Take a look at the following code:\n"
   ]
  },
  {
   "cell_type": "code",
   "execution_count": 162,
   "id": "98b4d811-a3de-41b2-948a-0cfbe7e270d2",
   "metadata": {},
   "outputs": [],
   "source": [
    "monthly_orders_df = df.set_index('InvoiceDate')['InvoiceNo'].resample('M').nunique()\n"
   ]
  },
  {
   "cell_type": "markdown",
   "id": "a22c97c9-9e1b-4e9d-b463-f6cf18316478",
   "metadata": {},
   "source": [
    "As you can see from this code, we are using the resample and nunique functions\n",
    "that we have not used in the previous chapters. The resample function resamples\n",
    "and converts time series data into the frequency we desire. In our example,\n",
    "we are resampling our time series data into monthly time series data, by using\n",
    "'M' as our target frequency and counting the number of distinct or unique\n",
    "invoice numbers. This way, we can get the number of unique purchases or\n",
    "orders month-on-month. The resulting DataFrame looks like the following\n",
    "screenshot"
   ]
  },
  {
   "cell_type": "markdown",
   "id": "0f5a6534-5c5a-45a0-9552-06251f7fce08",
   "metadata": {},
   "source": [
    "Often, time series data is better visualized using line charts. Let's take a look\n",
    "at the following code to see how we can visualize this monthly data in a line\n",
    "chart"
   ]
  },
  {
   "cell_type": "code",
   "execution_count": 163,
   "id": "d517dc30-3a23-4284-8749-5ddd717b69d0",
   "metadata": {},
   "outputs": [
    {
     "data": {
      "text/plain": [
       "InvoiceDate\n",
       "2010-12-31    1629\n",
       "2011-01-31    1120\n",
       "2011-02-28    1126\n",
       "2011-03-31    1531\n",
       "2011-04-30    1318\n",
       "2011-05-31    1731\n",
       "2011-06-30    1576\n",
       "2011-07-31    1540\n",
       "2011-08-31    1409\n",
       "2011-09-30    1896\n",
       "2011-10-31    2129\n",
       "2011-11-30    2884\n",
       "2011-12-31     839\n",
       "Freq: M, Name: InvoiceNo, dtype: int64"
      ]
     },
     "execution_count": 163,
     "metadata": {},
     "output_type": "execute_result"
    }
   ],
   "source": [
    "monthly_orders_df"
   ]
  },
  {
   "cell_type": "code",
   "execution_count": null,
   "id": "804adb83-9c32-426a-9821-4366dbbd2a86",
   "metadata": {},
   "outputs": [],
   "source": [
    "Often, time series data is better visualized using line charts. Let's take a look\n",
    "at the  following code to see how we can visualize this monthly data in a line\n",
    "chart:"
   ]
  },
  {
   "cell_type": "code",
   "execution_count": 164,
   "id": "6a5ac78b-6256-4a85-a51f-466c19a291e6",
   "metadata": {},
   "outputs": [
    {
     "data": {
      "image/png": "[encoded data removed]",
      "text/plain": [
       "<Figure size 720x504 with 1 Axes>"
      ]
     },
     "metadata": {
      "needs_background": "light"
     },
     "output_type": "display_data"
    }
   ],
   "source": [
    "ax = pd.DataFrame(monthly_orders_df.values).plot(\n",
    "grid=True,\n",
    "figsize=(10,7),\n",
    "legend=False\n",
    ")\n",
    "ax.set_xlabel('date')\n",
    "ax.set_ylabel('number of orders/invoices')\n",
    "ax.set_title('Total Number of Orders Over Time')\n",
    "plt.xticks(\n",
    "range(len(monthly_orders_df.index)),\n",
    "[x.strftime('%m.%Y') for x in monthly_orders_df.index],\n",
    "rotation=45\n",
    ")\n",
    "plt.show()"
   ]
  },
  {
   "cell_type": "markdown",
   "id": "47499817-de16-49ac-b578-6c1eff245fc9",
   "metadata": {},
   "source": [
    "As you can see from this code, we are using the plot function of a pandas\n",
    "DataFrame. Using the xticks function of the matplotlib package, we can customize\n",
    "the labels of the x-ticks. Let's take a look at the following plot first:"
   ]
  },
  {
   "cell_type": "markdown",
   "id": "d7ace152-8eaf-4f16-bdc2-1519d7ec6800",
   "metadata": {},
   "source": [
    "As you may notice from this plot, the tick labels in the x axis are formatted by\n",
    "month and year. If you look back at the previous code, we formatted them\n",
    "using x.strftime('%m.%Y'), where x is the Python date object, %m is the placeholder\n",
    "for the month value, and %Y is the placeholder for the year value. The strftime\n",
    "function of the Python date object formats the date into the given format.\n",
    "One thing that is noticeable from this chart is that there is a sudden radical\n",
    "drop in the number of orders in December 2011. If you look closely at the"
   ]
  },
  {
   "cell_type": "markdown",
   "id": "582f2c89-fabe-4e1e-abe9-5fe9423a14ac",
   "metadata": {},
   "source": [
    "data, this is simply because we do not have the data for the full month of\n",
    "December 2011. We can verify this by using the following code:"
   ]
  },
  {
   "cell_type": "code",
   "execution_count": 168,
   "id": "56e8a8f1-d3b7-40dc-bb04-6bafda29ceca",
   "metadata": {},
   "outputs": [],
   "source": [
    "invoice_dates = df.loc[\n",
    "df['InvoiceDate'] >= '2011-12-01',\n",
    "'InvoiceDate'\n",
    "]"
   ]
  },
  {
   "cell_type": "markdown",
   "id": "f575839e-4bf1-4425-bd02-116c1661e0d9",
   "metadata": {},
   "source": [
    "In this code, we get a series of all invoice dates from December 1, 2011.\n",
    "Then, we print out the minimum and maximum dates. When you run this code,\n",
    "you will get the following output:"
   ]
  },
  {
   "cell_type": "code",
   "execution_count": 169,
   "id": "27315c8d-572c-421b-be8e-a4d54b5c636a",
   "metadata": {},
   "outputs": [
    {
     "name": "stdout",
     "output_type": "stream",
     "text": [
      "Min date: 2011-12-01 08:33:00\n",
      "Max date: 2011-12-09 12:50:00\n"
     ]
    }
   ],
   "source": [
    "print('Min date: %s\\nMax date: %s' % (invoice_dates.min(), invoice_dates.max()))"
   ]
  },
  {
   "cell_type": "markdown",
   "id": "855a1e1a-08f8-4d61-a6f9-c808d756043b",
   "metadata": {},
   "source": [
    "As you can see from this output, we only have the data from December 1, to\n",
    "December 9, 2011. It would be a misrepresentation if we use this data for\n",
    "analyzing December sales and revenue. For further analyses, we will\n",
    "disregard any data from December 1, 2011. You can use the following code to\n",
    "remove those data points:"
   ]
  },
  {
   "cell_type": "code",
   "execution_count": 170,
   "id": "42f99468-355d-4a88-afd4-d7974e4ede03",
   "metadata": {},
   "outputs": [],
   "source": [
    "df = df.loc[df['InvoiceDate'] < '2011-12-01']"
   ]
  },
  {
   "cell_type": "code",
   "execution_count": 171,
   "id": "d8098e59-2e8f-4e17-bbad-c0fa42e4e823",
   "metadata": {},
   "outputs": [
    {
     "data": {
      "text/html": [
       "<div>\n",
       "<style scoped>\n",
       "    .dataframe tbody tr th:only-of-type {\n",
       "        vertical-align: middle;\n",
       "    }\n",
       "\n",
       "    .dataframe tbody tr th {\n",
       "        vertical-align: top;\n",
       "    }\n",
       "\n",
       "    .dataframe thead th {\n",
       "        text-align: right;\n",
       "    }\n",
       "</style>\n",
       "<table border=\"1\" class=\"dataframe\">\n",
       "  <thead>\n",
       "    <tr style=\"text-align: right;\">\n",
       "      <th></th>\n",
       "      <th>InvoiceNo</th>\n",
       "      <th>StockCode</th>\n",
       "      <th>Description</th>\n",
       "      <th>Quantity</th>\n",
       "      <th>InvoiceDate</th>\n",
       "      <th>UnitPrice</th>\n",
       "      <th>CustomerID</th>\n",
       "      <th>Country</th>\n",
       "    </tr>\n",
       "  </thead>\n",
       "  <tbody>\n",
       "    <tr>\n",
       "      <th>0</th>\n",
       "      <td>536365</td>\n",
       "      <td>85123A</td>\n",
       "      <td>WHITE HANGING HEART T-LIGHT HOLDER</td>\n",
       "      <td>6</td>\n",
       "      <td>2010-12-01 08:26:00</td>\n",
       "      <td>2.55</td>\n",
       "      <td>17850.0</td>\n",
       "      <td>United Kingdom</td>\n",
       "    </tr>\n",
       "    <tr>\n",
       "      <th>1</th>\n",
       "      <td>536365</td>\n",
       "      <td>71053</td>\n",
       "      <td>WHITE METAL LANTERN</td>\n",
       "      <td>6</td>\n",
       "      <td>2010-12-01 08:26:00</td>\n",
       "      <td>3.39</td>\n",
       "      <td>17850.0</td>\n",
       "      <td>United Kingdom</td>\n",
       "    </tr>\n",
       "    <tr>\n",
       "      <th>2</th>\n",
       "      <td>536365</td>\n",
       "      <td>84406B</td>\n",
       "      <td>CREAM CUPID HEARTS COAT HANGER</td>\n",
       "      <td>8</td>\n",
       "      <td>2010-12-01 08:26:00</td>\n",
       "      <td>2.75</td>\n",
       "      <td>17850.0</td>\n",
       "      <td>United Kingdom</td>\n",
       "    </tr>\n",
       "    <tr>\n",
       "      <th>3</th>\n",
       "      <td>536365</td>\n",
       "      <td>84029G</td>\n",
       "      <td>KNITTED UNION FLAG HOT WATER BOTTLE</td>\n",
       "      <td>6</td>\n",
       "      <td>2010-12-01 08:26:00</td>\n",
       "      <td>3.39</td>\n",
       "      <td>17850.0</td>\n",
       "      <td>United Kingdom</td>\n",
       "    </tr>\n",
       "    <tr>\n",
       "      <th>4</th>\n",
       "      <td>536365</td>\n",
       "      <td>84029E</td>\n",
       "      <td>RED WOOLLY HOTTIE WHITE HEART.</td>\n",
       "      <td>6</td>\n",
       "      <td>2010-12-01 08:26:00</td>\n",
       "      <td>3.39</td>\n",
       "      <td>17850.0</td>\n",
       "      <td>United Kingdom</td>\n",
       "    </tr>\n",
       "    <tr>\n",
       "      <th>...</th>\n",
       "      <td>...</td>\n",
       "      <td>...</td>\n",
       "      <td>...</td>\n",
       "      <td>...</td>\n",
       "      <td>...</td>\n",
       "      <td>...</td>\n",
       "      <td>...</td>\n",
       "      <td>...</td>\n",
       "    </tr>\n",
       "    <tr>\n",
       "      <th>516364</th>\n",
       "      <td>579885</td>\n",
       "      <td>85034C</td>\n",
       "      <td>3 ROSE MORRIS BOXED CANDLES</td>\n",
       "      <td>4</td>\n",
       "      <td>2011-11-30 17:37:00</td>\n",
       "      <td>1.25</td>\n",
       "      <td>15444.0</td>\n",
       "      <td>United Kingdom</td>\n",
       "    </tr>\n",
       "    <tr>\n",
       "      <th>516365</th>\n",
       "      <td>579885</td>\n",
       "      <td>21742</td>\n",
       "      <td>LARGE ROUND WICKER PLATTER</td>\n",
       "      <td>2</td>\n",
       "      <td>2011-11-30 17:37:00</td>\n",
       "      <td>5.95</td>\n",
       "      <td>15444.0</td>\n",
       "      <td>United Kingdom</td>\n",
       "    </tr>\n",
       "    <tr>\n",
       "      <th>516366</th>\n",
       "      <td>579885</td>\n",
       "      <td>23084</td>\n",
       "      <td>RABBIT NIGHT LIGHT</td>\n",
       "      <td>6</td>\n",
       "      <td>2011-11-30 17:37:00</td>\n",
       "      <td>2.08</td>\n",
       "      <td>15444.0</td>\n",
       "      <td>United Kingdom</td>\n",
       "    </tr>\n",
       "    <tr>\n",
       "      <th>516367</th>\n",
       "      <td>579885</td>\n",
       "      <td>21257</td>\n",
       "      <td>VICTORIAN SEWING BOX MEDIUM</td>\n",
       "      <td>1</td>\n",
       "      <td>2011-11-30 17:37:00</td>\n",
       "      <td>7.95</td>\n",
       "      <td>15444.0</td>\n",
       "      <td>United Kingdom</td>\n",
       "    </tr>\n",
       "    <tr>\n",
       "      <th>516368</th>\n",
       "      <td>579885</td>\n",
       "      <td>21259</td>\n",
       "      <td>VICTORIAN SEWING BOX SMALL</td>\n",
       "      <td>1</td>\n",
       "      <td>2011-11-30 17:37:00</td>\n",
       "      <td>5.95</td>\n",
       "      <td>15444.0</td>\n",
       "      <td>United Kingdom</td>\n",
       "    </tr>\n",
       "  </tbody>\n",
       "</table>\n",
       "<p>506150 rows × 8 columns</p>\n",
       "</div>"
      ],
      "text/plain": [
       "       InvoiceNo StockCode                          Description  Quantity  \\\n",
       "0         536365    85123A   WHITE HANGING HEART T-LIGHT HOLDER         6   \n",
       "1         536365     71053                  WHITE METAL LANTERN         6   \n",
       "2         536365    84406B       CREAM CUPID HEARTS COAT HANGER         8   \n",
       "3         536365    84029G  KNITTED UNION FLAG HOT WATER BOTTLE         6   \n",
       "4         536365    84029E       RED WOOLLY HOTTIE WHITE HEART.         6   \n",
       "...          ...       ...                                  ...       ...   \n",
       "516364    579885    85034C          3 ROSE MORRIS BOXED CANDLES         4   \n",
       "516365    579885     21742          LARGE ROUND WICKER PLATTER          2   \n",
       "516366    579885     23084                   RABBIT NIGHT LIGHT         6   \n",
       "516367    579885     21257          VICTORIAN SEWING BOX MEDIUM         1   \n",
       "516368    579885     21259          VICTORIAN SEWING BOX SMALL          1   \n",
       "\n",
       "               InvoiceDate  UnitPrice  CustomerID         Country  \n",
       "0      2010-12-01 08:26:00       2.55     17850.0  United Kingdom  \n",
       "1      2010-12-01 08:26:00       3.39     17850.0  United Kingdom  \n",
       "2      2010-12-01 08:26:00       2.75     17850.0  United Kingdom  \n",
       "3      2010-12-01 08:26:00       3.39     17850.0  United Kingdom  \n",
       "4      2010-12-01 08:26:00       3.39     17850.0  United Kingdom  \n",
       "...                    ...        ...         ...             ...  \n",
       "516364 2011-11-30 17:37:00       1.25     15444.0  United Kingdom  \n",
       "516365 2011-11-30 17:37:00       5.95     15444.0  United Kingdom  \n",
       "516366 2011-11-30 17:37:00       2.08     15444.0  United Kingdom  \n",
       "516367 2011-11-30 17:37:00       7.95     15444.0  United Kingdom  \n",
       "516368 2011-11-30 17:37:00       5.95     15444.0  United Kingdom  \n",
       "\n",
       "[506150 rows x 8 columns]"
      ]
     },
     "execution_count": 171,
     "metadata": {},
     "output_type": "execute_result"
    }
   ],
   "source": [
    "df "
   ]
  },
  {
   "cell_type": "code",
   "execution_count": 247,
   "id": "6f64372e-1b4d-4123-9d39-1c7f844fb236",
   "metadata": {},
   "outputs": [
    {
     "data": {
      "text/plain": [
       "(506150, 8)"
      ]
     },
     "execution_count": 247,
     "metadata": {},
     "output_type": "execute_result"
    }
   ],
   "source": [
    "df.loc[df['InvoiceDate'] < '2011-12-01'].shape"
   ]
  },
  {
   "cell_type": "code",
   "execution_count": 248,
   "id": "e2a36b72-41fa-4ea7-8204-f13bcf7a38a7",
   "metadata": {},
   "outputs": [
    {
     "data": {
      "text/plain": [
       "(531285, 8)"
      ]
     },
     "execution_count": 248,
     "metadata": {},
     "output_type": "execute_result"
    }
   ],
   "source": [
    "df.shape"
   ]
  },
  {
   "cell_type": "code",
   "execution_count": 249,
   "id": "6d16588f-612e-478b-b857-ec076a56941f",
   "metadata": {},
   "outputs": [],
   "source": [
    "df = df.loc[df['InvoiceDate'] < '2011-12-01']"
   ]
  },
  {
   "cell_type": "markdown",
   "id": "a7d2dd8d-ebec-4b56-8b4b-014697afcd9d",
   "metadata": {},
   "source": [
    "Now that we have filtered out incomplete data for December 2011, we can\n",
    "redraw the line chart using the previous codes. After removing those data\n",
    "points from December 2011, the line chart looks like the following:"
   ]
  },
  {
   "cell_type": "markdown",
   "id": "1760db71-76b1-44ac-9e7f-767b524c1005",
   "metadata": {},
   "source": [
    "Let's take a closer look at this chart. The monthly number of orders seems to\n",
    "float around 1,500 from December 2010 to August 2011, and then increases\n",
    "significantly from September 2011, and almost doubles by November 2011.\n",
    "One explanation for this could be that the business is actually growing\n",
    "significantly from September 2011. Another explanation could be seasonal\n",
    "effects. In e-commerce businesses, it is not rare to see spikes in sales as it\n",
    "approaches the end of the year. Typically, sales rise significantly from"
   ]
  },
  {
   "cell_type": "markdown",
   "id": "f58e115b-f5f0-4b2d-98f1-cefa517255d8",
   "metadata": {},
   "source": [
    "October to January for many e-commerce businesses, and without the data\n",
    "from the previous year, it is difficult to conclude whether this spike in sales is\n",
    "due to a growth in business or due to seasonal effects. When you are analyzing\n",
    "your data, we advise you to compare the current year's data against the\n",
    "previous year's data."
   ]
  },
  {
   "cell_type": "markdown",
   "id": "a1dabdf4-6182-4ee4-bd6a-fb6845641ee5",
   "metadata": {},
   "source": [
    "Let's take a quick look at the monthly revenue data by looking at the following\n",
    "code:"
   ]
  },
  {
   "cell_type": "code",
   "execution_count": 172,
   "id": "d4aa6329-21ae-421e-8ba8-6429c84eb308",
   "metadata": {},
   "outputs": [],
   "source": [
    "df['Sales'] = df['Quantity'] * df['UnitPrice']"
   ]
  },
  {
   "cell_type": "code",
   "execution_count": 173,
   "id": "e7645869-6863-437b-9ecd-2bd0c190c5ee",
   "metadata": {},
   "outputs": [],
   "source": [
    "monthly_revenue_df = df.set_index('InvoiceDate')['Sales'].resample('M').sum()\n"
   ]
  },
  {
   "cell_type": "markdown",
   "id": "057820fa-1d34-414b-a074-5be05ec2b2ba",
   "metadata": {},
   "source": [
    "As you can see from this code, the first thing we do here is to calculate the\n",
    "aggregate sales amount from each order, which is simply the UnitPrice\n",
    "multiplied by the Quantity. Once we have computed and created this Sales\n",
    "column, we can use the resample function with an 'M' flag to resample and\n",
    "convert our time series data into monthly data. Then, using sum as the aggregate\n",
    "function, we can get the monthly sales revenue data. The resulting data looks\n",
    "like the following"
   ]
  },
  {
   "cell_type": "code",
   "execution_count": 174,
   "id": "6a95bd13-f5c5-4468-a0de-88e6802d4558",
   "metadata": {},
   "outputs": [
    {
     "data": {
      "text/plain": [
       "InvoiceDate\n",
       "2010-12-31     823746.140\n",
       "2011-01-31     691364.560\n",
       "2011-02-28     523631.890\n",
       "2011-03-31     717639.360\n",
       "2011-04-30     537808.621\n",
       "2011-05-31     770536.020\n",
       "2011-06-30     761739.900\n",
       "2011-07-31     719221.191\n",
       "2011-08-31     737014.260\n",
       "2011-09-30    1058590.172\n",
       "2011-10-31    1154979.300\n",
       "2011-11-30    1509496.330\n",
       "Freq: M, Name: Sales, dtype: float64"
      ]
     },
     "execution_count": 174,
     "metadata": {},
     "output_type": "execute_result"
    }
   ],
   "source": [
    "monthly_revenue_df"
   ]
  },
  {
   "cell_type": "code",
   "execution_count": null,
   "id": "89f96346-6f31-4529-963d-9651ae64e22d",
   "metadata": {},
   "outputs": [],
   "source": [
    "We can visualize this data into a line plot, using the following code:"
   ]
  },
  {
   "cell_type": "code",
   "execution_count": 175,
   "id": "29837658-eded-452c-81b0-1062a3d08f77",
   "metadata": {},
   "outputs": [
    {
     "data": {
      "image/png": "[encoded data removed]",
      "text/plain": [
       "<Figure size 720x504 with 1 Axes>"
      ]
     },
     "metadata": {
      "needs_background": "light"
     },
     "output_type": "display_data"
    }
   ],
   "source": [
    "ax = pd.DataFrame(monthly_revenue_df.values).plot(\n",
    "grid=True,\n",
    "figsize=(10,7),\n",
    "legend=False\n",
    ")\n",
    "ax.set_xlabel('date')\n",
    "ax.set_ylabel('sales')\n",
    "ax.set_title('Total Revenue Over Time')\n",
    "ax.set_ylim([0, max(monthly_revenue_df.values)+100000])\n",
    "plt.xticks(\n",
    "range(len(monthly_revenue_df.index)),\n",
    "[x.strftime('%m.%Y') for x in monthly_revenue_df.index],\n",
    "rotation=45\n",
    ")\n",
    "plt.show()"
   ]
  },
  {
   "cell_type": "markdown",
   "id": "60846df8-2665-4ecb-93a0-24b9b29a5fee",
   "metadata": {},
   "source": [
    "As previously discussed, we can use the pandas DataFrame plot function to build a\n",
    "line chart and the xticks function of the matplotlib package to rename the labels\n",
    "of the ticks on the x axis. The line plot looks like the following"
   ]
  },
  {
   "cell_type": "markdown",
   "id": "bdb6e734-b53c-445c-90b9-0b7e31e93c8c",
   "metadata": {},
   "source": [
    "We see a similar pattern to the previous monthly Total Number of Orders\n",
    "Over Time chart in this monthly revenue chart. The monthly revenue floats\n",
    "around 700,000 from December 2010 to August 2011 and then it increases\n",
    "significantly from September 2011. As discussed before, to verify whether\n",
    "this significant increase in sales and revenue is due to a growth in business or\n",
    "due to seasonal effects, we need to look further back in the sales history and\n",
    "compare the current year's sales against the previous year's sales.\n",
    "These types of general and broad time series analyses can help marketers gain\n",
    "a better understanding of the overall performance of the business and identify"
   ]
  },
  {
   "cell_type": "markdown",
   "id": "067bc365-a209-4923-ad31-9f3ca6797024",
   "metadata": {},
   "source": [
    "any potential problems that might be occurring within the business. It is\n",
    "generally a good idea to start with broader analyses, and then drill down into\n",
    "more granular and specific parts of the business for further product analytics."
   ]
  },
  {
   "cell_type": "markdown",
   "id": "d9f85fd7-f83e-46ea-9feb-77550961ba78",
   "metadata": {},
   "source": [
    "### Repeat customers"
   ]
  },
  {
   "cell_type": "markdown",
   "id": "90637db2-c637-4873-a3c8-e4ce0699f424",
   "metadata": {},
   "source": [
    "Another important factor of a successful business is how well it is retaining\n",
    "customers and how many repeat purchases and customers it has. In this\n",
    "section, we are going to analyze the number of monthly repeat purchases and\n",
    "how much of the monthly revenue is attributable to these repeat purchases and\n",
    "customers. A typical strong and stable business has a steady stream of sales\n",
    "from existing customers. Let's see how much of the sales are from repeat and\n",
    "existing customers of the online retail business that we are currently analyzing\n",
    "in this chapter.\n",
    "\n",
    "We are going to look at the number of monthly repeat purchases. This means a\n",
    "customer placed more than one order within a given month. Let's take a quick\n",
    "look at the data we have:"
   ]
  },
  {
   "cell_type": "code",
   "execution_count": 176,
   "id": "42561dc8-838c-425f-a46d-89dde7729c13",
   "metadata": {},
   "outputs": [
    {
     "data": {
      "text/html": [
       "<div>\n",
       "<style scoped>\n",
       "    .dataframe tbody tr th:only-of-type {\n",
       "        vertical-align: middle;\n",
       "    }\n",
       "\n",
       "    .dataframe tbody tr th {\n",
       "        vertical-align: top;\n",
       "    }\n",
       "\n",
       "    .dataframe thead th {\n",
       "        text-align: right;\n",
       "    }\n",
       "</style>\n",
       "<table border=\"1\" class=\"dataframe\">\n",
       "  <thead>\n",
       "    <tr style=\"text-align: right;\">\n",
       "      <th></th>\n",
       "      <th>InvoiceNo</th>\n",
       "      <th>StockCode</th>\n",
       "      <th>Description</th>\n",
       "      <th>Quantity</th>\n",
       "      <th>InvoiceDate</th>\n",
       "      <th>UnitPrice</th>\n",
       "      <th>CustomerID</th>\n",
       "      <th>Country</th>\n",
       "      <th>Sales</th>\n",
       "    </tr>\n",
       "  </thead>\n",
       "  <tbody>\n",
       "    <tr>\n",
       "      <th>0</th>\n",
       "      <td>536365</td>\n",
       "      <td>85123A</td>\n",
       "      <td>WHITE HANGING HEART T-LIGHT HOLDER</td>\n",
       "      <td>6</td>\n",
       "      <td>2010-12-01 08:26:00</td>\n",
       "      <td>2.55</td>\n",
       "      <td>17850.0</td>\n",
       "      <td>United Kingdom</td>\n",
       "      <td>15.30</td>\n",
       "    </tr>\n",
       "    <tr>\n",
       "      <th>1</th>\n",
       "      <td>536365</td>\n",
       "      <td>71053</td>\n",
       "      <td>WHITE METAL LANTERN</td>\n",
       "      <td>6</td>\n",
       "      <td>2010-12-01 08:26:00</td>\n",
       "      <td>3.39</td>\n",
       "      <td>17850.0</td>\n",
       "      <td>United Kingdom</td>\n",
       "      <td>20.34</td>\n",
       "    </tr>\n",
       "    <tr>\n",
       "      <th>2</th>\n",
       "      <td>536365</td>\n",
       "      <td>84406B</td>\n",
       "      <td>CREAM CUPID HEARTS COAT HANGER</td>\n",
       "      <td>8</td>\n",
       "      <td>2010-12-01 08:26:00</td>\n",
       "      <td>2.75</td>\n",
       "      <td>17850.0</td>\n",
       "      <td>United Kingdom</td>\n",
       "      <td>22.00</td>\n",
       "    </tr>\n",
       "    <tr>\n",
       "      <th>3</th>\n",
       "      <td>536365</td>\n",
       "      <td>84029G</td>\n",
       "      <td>KNITTED UNION FLAG HOT WATER BOTTLE</td>\n",
       "      <td>6</td>\n",
       "      <td>2010-12-01 08:26:00</td>\n",
       "      <td>3.39</td>\n",
       "      <td>17850.0</td>\n",
       "      <td>United Kingdom</td>\n",
       "      <td>20.34</td>\n",
       "    </tr>\n",
       "    <tr>\n",
       "      <th>4</th>\n",
       "      <td>536365</td>\n",
       "      <td>84029E</td>\n",
       "      <td>RED WOOLLY HOTTIE WHITE HEART.</td>\n",
       "      <td>6</td>\n",
       "      <td>2010-12-01 08:26:00</td>\n",
       "      <td>3.39</td>\n",
       "      <td>17850.0</td>\n",
       "      <td>United Kingdom</td>\n",
       "      <td>20.34</td>\n",
       "    </tr>\n",
       "  </tbody>\n",
       "</table>\n",
       "</div>"
      ],
      "text/plain": [
       "  InvoiceNo StockCode                          Description  Quantity  \\\n",
       "0    536365    85123A   WHITE HANGING HEART T-LIGHT HOLDER         6   \n",
       "1    536365     71053                  WHITE METAL LANTERN         6   \n",
       "2    536365    84406B       CREAM CUPID HEARTS COAT HANGER         8   \n",
       "3    536365    84029G  KNITTED UNION FLAG HOT WATER BOTTLE         6   \n",
       "4    536365    84029E       RED WOOLLY HOTTIE WHITE HEART.         6   \n",
       "\n",
       "          InvoiceDate  UnitPrice  CustomerID         Country  Sales  \n",
       "0 2010-12-01 08:26:00       2.55     17850.0  United Kingdom  15.30  \n",
       "1 2010-12-01 08:26:00       3.39     17850.0  United Kingdom  20.34  \n",
       "2 2010-12-01 08:26:00       2.75     17850.0  United Kingdom  22.00  \n",
       "3 2010-12-01 08:26:00       3.39     17850.0  United Kingdom  20.34  \n",
       "4 2010-12-01 08:26:00       3.39     17850.0  United Kingdom  20.34  "
      ]
     },
     "execution_count": 176,
     "metadata": {},
     "output_type": "execute_result"
    }
   ],
   "source": [
    "df.head()"
   ]
  },
  {
   "cell_type": "markdown",
   "id": "ed8c7818-ca3c-4094-b8d2-469b85c79ebd",
   "metadata": {},
   "source": [
    "As you might have noticed from this snapshot of the data, there are multiple\n",
    "records for one purchase order (InvoiceNo). However, what we need is the\n",
    "aggregate data for each order, so that one record in the DataFrame represents one"
   ]
  },
  {
   "cell_type": "markdown",
   "id": "e60c84c8-e696-43e0-b802-d034ba4562d0",
   "metadata": {},
   "source": [
    "purchase order. We can aggregate this raw data for each InvoiceNo by using the\n",
    "following code:"
   ]
  },
  {
   "cell_type": "code",
   "execution_count": 177,
   "id": "4d099e9c-0d3f-4255-be2d-46aa889bf887",
   "metadata": {},
   "outputs": [],
   "source": [
    "invoice_customer_df = df.groupby(\n",
    "by=['InvoiceNo', 'InvoiceDate']\n",
    ").agg({\n",
    "'Sales': sum,\n",
    "'CustomerID': max,\n",
    "'Country': max,\n",
    "}).reset_index()\n"
   ]
  },
  {
   "cell_type": "code",
   "execution_count": 181,
   "id": "f6a1b59e-1216-4e8a-b5cd-a0fb3c8cacbe",
   "metadata": {},
   "outputs": [
    {
     "data": {
      "text/html": [
       "<div>\n",
       "<style scoped>\n",
       "    .dataframe tbody tr th:only-of-type {\n",
       "        vertical-align: middle;\n",
       "    }\n",
       "\n",
       "    .dataframe tbody tr th {\n",
       "        vertical-align: top;\n",
       "    }\n",
       "\n",
       "    .dataframe thead th {\n",
       "        text-align: right;\n",
       "    }\n",
       "</style>\n",
       "<table border=\"1\" class=\"dataframe\">\n",
       "  <thead>\n",
       "    <tr style=\"text-align: right;\">\n",
       "      <th></th>\n",
       "      <th>InvoiceNo</th>\n",
       "      <th>InvoiceDate</th>\n",
       "      <th>Sales</th>\n",
       "      <th>CustomerID</th>\n",
       "      <th>Country</th>\n",
       "    </tr>\n",
       "  </thead>\n",
       "  <tbody>\n",
       "    <tr>\n",
       "      <th>0</th>\n",
       "      <td>536365</td>\n",
       "      <td>2010-12-01 08:26:00</td>\n",
       "      <td>139.12</td>\n",
       "      <td>17850.0</td>\n",
       "      <td>United Kingdom</td>\n",
       "    </tr>\n",
       "    <tr>\n",
       "      <th>1</th>\n",
       "      <td>536366</td>\n",
       "      <td>2010-12-01 08:28:00</td>\n",
       "      <td>22.20</td>\n",
       "      <td>17850.0</td>\n",
       "      <td>United Kingdom</td>\n",
       "    </tr>\n",
       "    <tr>\n",
       "      <th>2</th>\n",
       "      <td>536367</td>\n",
       "      <td>2010-12-01 08:34:00</td>\n",
       "      <td>278.73</td>\n",
       "      <td>13047.0</td>\n",
       "      <td>United Kingdom</td>\n",
       "    </tr>\n",
       "    <tr>\n",
       "      <th>3</th>\n",
       "      <td>536368</td>\n",
       "      <td>2010-12-01 08:34:00</td>\n",
       "      <td>70.05</td>\n",
       "      <td>13047.0</td>\n",
       "      <td>United Kingdom</td>\n",
       "    </tr>\n",
       "    <tr>\n",
       "      <th>4</th>\n",
       "      <td>536369</td>\n",
       "      <td>2010-12-01 08:35:00</td>\n",
       "      <td>17.85</td>\n",
       "      <td>13047.0</td>\n",
       "      <td>United Kingdom</td>\n",
       "    </tr>\n",
       "  </tbody>\n",
       "</table>\n",
       "</div>"
      ],
      "text/plain": [
       "  InvoiceNo         InvoiceDate   Sales  CustomerID         Country\n",
       "0    536365 2010-12-01 08:26:00  139.12     17850.0  United Kingdom\n",
       "1    536366 2010-12-01 08:28:00   22.20     17850.0  United Kingdom\n",
       "2    536367 2010-12-01 08:34:00  278.73     13047.0  United Kingdom\n",
       "3    536368 2010-12-01 08:34:00   70.05     13047.0  United Kingdom\n",
       "4    536369 2010-12-01 08:35:00   17.85     13047.0  United Kingdom"
      ]
     },
     "execution_count": 181,
     "metadata": {},
     "output_type": "execute_result"
    }
   ],
   "source": [
    "invoice_customer_df.head()"
   ]
  },
  {
   "cell_type": "markdown",
   "id": "7add918d-6f3c-4bd1-9f4c-8dd8b19632a3",
   "metadata": {},
   "source": [
    "As you can see from this code, we are grouping the DataFrame, df, by InvoiceNo\n",
    "and InvoiceDate and summing up all the Sales. This way, our new DataFrame,\n",
    "invoice_customer_df, has one record for each purchase order. The resulting\n",
    "DataFrame looks like the following:\n"
   ]
  },
  {
   "cell_type": "markdown",
   "id": "f3d95eb4-09b4-4b34-b939-ca0ef8e024e5",
   "metadata": {},
   "source": [
    "As you can see here, each record in the DataFrame now has all the information\n",
    "we need for each order. Now, we need to aggregate this data per month and\n",
    "compute the number of customers who made more than one purchase in a\n",
    "given month. Take a look at the following code:\n"
   ]
  },
  {
   "cell_type": "code",
   "execution_count": 182,
   "id": "88f0ca1e-790d-464d-af42-d9b741f49488",
   "metadata": {},
   "outputs": [],
   "source": [
    "monthly_repeat_customers_df = invoice_customer_df.set_index('InvoiceDate').groupby([\n",
    "pd.Grouper(freq='M'), 'CustomerID'\n",
    "]).filter(lambda x: len(x) > 1).resample('M').nunique()['CustomerID']"
   ]
  },
  {
   "cell_type": "markdown",
   "id": "19b6f3eb-1391-4772-a3a1-692617f332c4",
   "metadata": {},
   "source": [
    "et's take a closer look at the groupby function in this code. Here, we group by\n",
    "two conditions—pd.Grouper(freq='M') and CustomerID. The first groupby\n",
    "condition, pd.Grouper(freq='M'), groups the data by the index, InvoiceDate, into\n",
    "each month. Then, we group this data by each CustomerID. Using the filter\n",
    "function, we can subselect the data by a custom rule. Here, the filtering\n",
    "rule, lambda x: len(x) > 1, means we want to retrieve those with more than one\n",
    "record in the group. In other words, we want to retrieve only those customers\n",
    "with more than one order in a given month. Lastly, we resample and aggregate\n",
    "by each month and count the number of unique customers in each month by\n",
    "using resample('M') and nunique.\n"
   ]
  },
  {
   "cell_type": "markdown",
   "id": "d153b20c-aa92-4c1b-b62f-49428ed9aa66",
   "metadata": {},
   "source": [
    "The resulting data looks like the following:"
   ]
  },
  {
   "cell_type": "code",
   "execution_count": 183,
   "id": "3cf20b2b-5194-4ca8-93ea-e18e05800132",
   "metadata": {},
   "outputs": [
    {
     "data": {
      "text/plain": [
       "InvoiceDate\n",
       "2010-12-31    263\n",
       "2011-01-31    153\n",
       "2011-02-28    153\n",
       "2011-03-31    203\n",
       "2011-04-30    170\n",
       "2011-05-31    281\n",
       "2011-06-30    220\n",
       "2011-07-31    227\n",
       "2011-08-31    198\n",
       "2011-09-30    272\n",
       "2011-10-31    324\n",
       "2011-11-30    541\n",
       "Freq: M, Name: CustomerID, dtype: int64"
      ]
     },
     "execution_count": 183,
     "metadata": {},
     "output_type": "execute_result"
    }
   ],
   "source": [
    "monthly_repeat_customers_df"
   ]
  },
  {
   "cell_type": "markdown",
   "id": "8363d5e6-e358-4de5-add2-89c753516674",
   "metadata": {},
   "source": [
    "Let's now compare these numbers against the total number of monthly\n",
    "customers. You can use the following code to compute the total number of\n",
    "monthly customers:"
   ]
  },
  {
   "cell_type": "code",
   "execution_count": 187,
   "id": "e37c457e-9269-40f4-8130-dbb1ed6e8fcb",
   "metadata": {},
   "outputs": [],
   "source": [
    "monthly_unique_customers_df = df.set_index('InvoiceDate')['CustomerID'].resample('M').nunique()"
   ]
  },
  {
   "cell_type": "code",
   "execution_count": null,
   "id": "1eae79df-7190-49c5-9d8a-4c617581afa7",
   "metadata": {},
   "outputs": [],
   "source": [
    "And the resulting data looks like the following:\n"
   ]
  },
  {
   "cell_type": "code",
   "execution_count": 188,
   "id": "29a10060-5523-4227-a57a-8fc44470a17c",
   "metadata": {},
   "outputs": [
    {
     "data": {
      "text/plain": [
       "InvoiceDate\n",
       "2010-12-31     885\n",
       "2011-01-31     741\n",
       "2011-02-28     758\n",
       "2011-03-31     974\n",
       "2011-04-30     856\n",
       "2011-05-31    1056\n",
       "2011-06-30     991\n",
       "2011-07-31     949\n",
       "2011-08-31     935\n",
       "2011-09-30    1266\n",
       "2011-10-31    1364\n",
       "2011-11-30    1665\n",
       "Freq: M, Name: CustomerID, dtype: int64"
      ]
     },
     "execution_count": 188,
     "metadata": {},
     "output_type": "execute_result"
    }
   ],
   "source": [
    "monthly_unique_customers_df"
   ]
  },
  {
   "cell_type": "markdown",
   "id": "13082037-d1a0-4000-a01b-397b9c525690",
   "metadata": {},
   "source": [
    "If you compare these two sets of numbers, roughly about 20 to 30% of the\n",
    "customers are repeat customers. You can use the following code to calculate\n",
    "the percentages of repeat customers for each month:\n"
   ]
  },
  {
   "cell_type": "code",
   "execution_count": 193,
   "id": "9c00d432-00bc-4207-ad61-e9daeade1b6a",
   "metadata": {},
   "outputs": [],
   "source": [
    "monthly_repeat_percentage = monthly_repeat_customers_df/monthly_unique_customers_df*100.0"
   ]
  },
  {
   "cell_type": "code",
   "execution_count": 194,
   "id": "91de60e1-51ef-4930-a118-21be5b26dc56",
   "metadata": {},
   "outputs": [
    {
     "data": {
      "text/plain": [
       "InvoiceDate\n",
       "2010-12-31    29.717514\n",
       "2011-01-31    20.647773\n",
       "2011-02-28    20.184697\n",
       "2011-03-31    20.841889\n",
       "2011-04-30    19.859813\n",
       "2011-05-31    26.609848\n",
       "2011-06-30    22.199798\n",
       "2011-07-31    23.919916\n",
       "2011-08-31    21.176471\n",
       "2011-09-30    21.484992\n",
       "2011-10-31    23.753666\n",
       "2011-11-30    32.492492\n",
       "Freq: M, Name: CustomerID, dtype: float64"
      ]
     },
     "execution_count": 194,
     "metadata": {},
     "output_type": "execute_result"
    }
   ],
   "source": [
    "monthly_repeat_percentage"
   ]
  },
  {
   "cell_type": "markdown",
   "id": "020904bd-5df4-4776-8131-77ddf3f35a9b",
   "metadata": {},
   "source": [
    "Let's visualize all of this data in one chart:"
   ]
  },
  {
   "cell_type": "code",
   "execution_count": 195,
   "id": "5b390390-4f97-416e-b969-e198532b5850",
   "metadata": {},
   "outputs": [
    {
     "data": {
      "image/png": "[encoded data removed]",
      "text/plain": [
       "<Figure size 720x504 with 2 Axes>"
      ]
     },
     "metadata": {
      "needs_background": "light"
     },
     "output_type": "display_data"
    }
   ],
   "source": [
    "ax = pd.DataFrame(monthly_repeat_customers_df.values).plot(\n",
    "figsize=(10,7)\n",
    ")\n",
    "pd.DataFrame(monthly_unique_customers_df.values).plot(\n",
    "ax=ax,\n",
    "grid=True\n",
    ")\n",
    "ax2 = pd.DataFrame(monthly_repeat_percentage.values).plot.bar(\n",
    "ax=ax,\n",
    "grid=True,\n",
    "secondary_y=True,\n",
    "color='green',\n",
    "alpha=0.2\n",
    ")\n",
    "ax.set_xlabel('date')\n",
    "ax.set_ylabel('number of customers')\n",
    "ax.set_title('Number of All vs. Repeat Customers Over Time')\n",
    "ax2.set_ylabel('percentage (%)')\n",
    "ax.legend(['Repeat Customers', 'All Customers'])\n",
    "ax2.legend(['Percentage of Repeat'], loc='upper right')\n",
    "ax.set_ylim([0, monthly_unique_customers_df.values.max()+100])\n",
    "ax2.set_ylim([0, 100])\n",
    "plt.xticks(\n",
    "range(len(monthly_repeat_customers_df.index)),\n",
    "[x.strftime('%m.%Y') for x in monthly_repeat_customers_df.index],\n",
    "rotation=45\n",
    ")\n",
    "plt.show()\n"
   ]
  },
  {
   "cell_type": "markdown",
   "id": "d52ba7c3-71d2-499d-9b36-2dd5cfccf2d9",
   "metadata": {},
   "source": [
    "In this code, you will notice a new flag, secondary_y=True, to the plot function. As\n",
    "the name suggests, if you set this secondary_y flag to True, then it will create a\n",
    "new y axis on the right side of the chart. This is especially useful when you\n",
    "want to visualize two sets of data with different scales. In our case, the scale\n",
    "for one set of our data is the number of users, and the scale for another set of\n",
    "our data is the percentage. Using this secondary_y flag, we can easily visualize\n",
    "data with different scales in one plot.\n",
    "Once you run this code, you will see the following chart:"
   ]
  },
  {
   "cell_type": "markdown",
   "id": "ee3829f9-280e-471d-b881-c3c3bda7ef1c",
   "metadata": {},
   "source": [
    "As you can see from this chart, the numbers of both repeat and all customers\n",
    "start to rise significantly from September 2011. The percentage of Repeat\n",
    "Customers seems to stay pretty consistent at about 20 to 30%. This online\n",
    "retail business will benefit from this steady stream of Repeat Customers, as\n",
    "they will help the business to generate a stable stream of sales. Let's now"
   ]
  },
  {
   "cell_type": "markdown",
   "id": "4ee7bcdc-211d-454d-8f7d-d6010dc08960",
   "metadata": {},
   "source": [
    "analyze how much of the monthly revenue comes from these Repeat\n",
    "Customers.\n",
    "The following code shows how to compute the monthly revenue from Repeat\n",
    "Customers:"
   ]
  },
  {
   "cell_type": "markdown",
   "id": "b260a1ac-06d1-44a2-b7cb-feace4223033",
   "metadata": {},
   "source": [
    "### Revenue from Repeat Customers"
   ]
  },
  {
   "cell_type": "code",
   "execution_count": 200,
   "id": "ad417cd5-1e9a-48b9-b18d-311dea4921fc",
   "metadata": {},
   "outputs": [],
   "source": [
    "monthly_rev_repeat_customers_df = invoice_customer_df.set_index('InvoiceDate').groupby([\n",
    "pd.Grouper(freq='M'), 'CustomerID'\n",
    "]).filter(lambda x: len(x) > 1).resample('M').sum()['Sales']"
   ]
  },
  {
   "cell_type": "code",
   "execution_count": 202,
   "id": "13b75128-4ba5-46be-a719-2992f4580640",
   "metadata": {},
   "outputs": [
    {
     "data": {
      "text/plain": [
       "InvoiceDate\n",
       "2010-12-31    359170.60\n",
       "2011-01-31    222124.00\n",
       "2011-02-28    191229.37\n",
       "2011-03-31    267390.48\n",
       "2011-04-30    195474.18\n",
       "2011-05-31    378197.04\n",
       "2011-06-30    376307.26\n",
       "2011-07-31    317475.00\n",
       "2011-08-31    317134.25\n",
       "2011-09-30    500663.36\n",
       "2011-10-31    574006.87\n",
       "2011-11-30    713775.85\n",
       "Freq: M, Name: Sales, dtype: float64"
      ]
     },
     "execution_count": 202,
     "metadata": {},
     "output_type": "execute_result"
    }
   ],
   "source": [
    "monthly_rev_repeat_customers_df"
   ]
  },
  {
   "cell_type": "code",
   "execution_count": 201,
   "id": "2fdb0bb3-0cf1-4179-b872-c497066dbd90",
   "metadata": {},
   "outputs": [],
   "source": [
    "monthly_rev_perc_repeat_customers_df = monthly_rev_repeat_customers_df/monthly_revenue_df * 100.0\n"
   ]
  },
  {
   "cell_type": "code",
   "execution_count": 203,
   "id": "f6fc89a6-ea7b-4bc7-b697-ff6d26eec670",
   "metadata": {},
   "outputs": [
    {
     "data": {
      "text/plain": [
       "InvoiceDate\n",
       "2010-12-31    43.602098\n",
       "2011-01-31    32.128346\n",
       "2011-02-28    36.519810\n",
       "2011-03-31    37.259729\n",
       "2011-04-30    36.346420\n",
       "2011-05-31    49.082331\n",
       "2011-06-30    49.401017\n",
       "2011-07-31    44.141497\n",
       "2011-08-31    43.029595\n",
       "2011-09-30    47.295296\n",
       "2011-10-31    49.698455\n",
       "2011-11-30    47.285696\n",
       "Freq: M, Name: Sales, dtype: float64"
      ]
     },
     "execution_count": 203,
     "metadata": {},
     "output_type": "execute_result"
    }
   ],
   "source": [
    "monthly_rev_perc_repeat_customers_df"
   ]
  },
  {
   "cell_type": "markdown",
   "id": "7e614605-0182-483e-9141-71cdd96e9246",
   "metadata": {},
   "source": [
    "The only difference between this code and the previous code is the aggregate\n",
    "function, sum, that follows resample('M'). In the previous case, when we were\n",
    "computing the number of monthly repeat customers, we used the nunique\n",
    "function. However, this time we are using the sum function to add all the sales\n",
    "from repeat customers for a given month. For visualization, you can use the\n",
    "following code:\n"
   ]
  },
  {
   "cell_type": "code",
   "execution_count": 204,
   "id": "2983131f-1f2e-4f9d-a770-847ab8b116b3",
   "metadata": {},
   "outputs": [
    {
     "data": {
      "image/png": "[encoded data removed]",
      "text/plain": [
       "<Figure size 864x648 with 2 Axes>"
      ]
     },
     "metadata": {
      "needs_background": "light"
     },
     "output_type": "display_data"
    }
   ],
   "source": [
    "ax = pd.DataFrame(monthly_revenue_df.values).plot(figsize=(12,9))\n",
    "pd.DataFrame(monthly_rev_repeat_customers_df.values).plot(\n",
    "ax=ax,\n",
    "grid=True,\n",
    ")\n",
    "ax.set_xlabel('date')\n",
    "ax.set_ylabel('sales')\n",
    "ax.set_title('Total Revenue vs. Revenue from Repeat Customers')\n",
    "ax.legend(['Total Revenue', 'Repeat Customer Revenue'])\n",
    "ax.set_ylim([0, max(monthly_revenue_df.values)+100000])\n",
    "ax2 = ax.twinx()\n",
    "pd.DataFrame(monthly_rev_perc_repeat_customers_df.values).plot(\n",
    "ax=ax2,\n",
    "kind='bar',\n",
    "color='g',\n",
    "alpha=0.2\n",
    ")\n",
    "ax2.set_ylim([0, max(monthly_rev_perc_repeat_customers_df.values)+30])\n",
    "ax2.set_ylabel('percentage (%)')\n",
    "ax2.legend(['Repeat Revenue Percentage'])\n",
    "ax2.set_xticklabels([x.strftime('%m.%Y') for x in monthly_rev_perc_repeat_customers_df.index\n",
    "])\n",
    "plt.show()"
   ]
  },
  {
   "cell_type": "markdown",
   "id": "d6dca1e2-232e-44b8-a459-475df47423f1",
   "metadata": {},
   "source": [
    "One thing to note in this code is the line, ax2 = ax.twinx(). This essentially does\n",
    "the same job as the secondary_y flag that we discussed previously. The twinx\n",
    "function simply creates a twin y axis that shares the same x axis and has the\n",
    "same effect as the secondary_y flag. The resulting graph looks like the following"
   ]
  },
  {
   "cell_type": "markdown",
   "id": "6e55a1cc-b006-4015-96cb-4cfe267b4cc1",
   "metadata": {},
   "source": [
    "We see a similar pattern as before, where there is a significant increase in the\n",
    "revenue from September 2011. One interesting thing to notice here is the\n",
    "percentage of the monthly revenue from repeat customers. We have seen that\n",
    "roughly 20-30% of the customers who made purchases are repeat customers.\n",
    "However, in this graph, we can see that roughly 40-50% of the Total\n",
    "Revenue is from repeat customers. In other words, roughly half of the revenue\n",
    "was driven by the 20-30% of the customer base who are repeat customers.\n",
    "This shows how important it is to retain existing customers."
   ]
  },
  {
   "cell_type": "markdown",
   "id": "779e9b4c-36dc-4ae4-ab3f-1b95595bcf8f",
   "metadata": {},
   "source": [
    "### Trending items over time"
   ]
  },
  {
   "cell_type": "markdown",
   "id": "6f4aee6e-41f3-4036-8af4-6ff64e8e375f",
   "metadata": {},
   "source": [
    "So far, we have analyzed the overall time series patterns and how customers\n",
    "engage with the overall business, but not how customers engage with\n",
    "individual products. In this section, we are going to explore and analyze how\n",
    "customers interact with individual products that are sold. More specifically,\n",
    "we will take a look at the trends of the top five best-sellers over time.\n"
   ]
  },
  {
   "cell_type": "markdown",
   "id": "e3d92a50-ffc0-459a-96fa-b37f0196f681",
   "metadata": {},
   "source": [
    "For time series trending-item analysis, let's count the number of items sold for\n",
    "each product for each period. Take a look at the following code:\n"
   ]
  },
  {
   "cell_type": "code",
   "execution_count": 207,
   "id": "a0ae98ca-1f45-4df1-836d-5d605bd5290a",
   "metadata": {},
   "outputs": [],
   "source": [
    "date_item_df = df.set_index('InvoiceDate').groupby([\n",
    "pd.Grouper(freq='M'), 'StockCode'\n",
    "])['Quantity'].sum()"
   ]
  },
  {
   "cell_type": "code",
   "execution_count": 208,
   "id": "013cebf5-ac9b-470b-92c8-b8caff497959",
   "metadata": {},
   "outputs": [
    {
     "data": {
      "text/plain": [
       "InvoiceDate  StockCode\n",
       "2010-12-31   10002         251\n",
       "             10120          16\n",
       "             10125         154\n",
       "             10133         130\n",
       "             10135         411\n",
       "                          ... \n",
       "2011-11-30   C2            173\n",
       "             DCGSSGIRL       1\n",
       "             DOT            47\n",
       "             M            3894\n",
       "             POST         1262\n",
       "Name: Quantity, Length: 31701, dtype: int64"
      ]
     },
     "execution_count": 208,
     "metadata": {},
     "output_type": "execute_result"
    }
   ],
   "source": [
    "date_item_df"
   ]
  },
  {
   "cell_type": "markdown",
   "id": "e8d69fb4-0f1f-4b7f-90f9-97de312d3d7c",
   "metadata": {},
   "source": [
    "As you can see from this code snippet, we are grouping the DataFrame, df, by\n",
    "month with StockCode, which is the unique code for each product, and then\n",
    "summing up the quantities sold for each month and StockCode. The first nine\n",
    "records of the result look like the following"
   ]
  },
  {
   "cell_type": "markdown",
   "id": "8ccf8c1d-0336-46d9-ade2-a39710e37185",
   "metadata": {},
   "source": [
    "With this data in data_item_df, let's see what items were sold the most on\n",
    "November 30, 2011. Take a look at the following code:"
   ]
  },
  {
   "cell_type": "code",
   "execution_count": 221,
   "id": "74551644-44e0-4704-b84d-efe80f3a42bb",
   "metadata": {},
   "outputs": [
    {
     "ename": "TypeError",
     "evalue": "sort_values() got an unexpected keyword argument 'by'",
     "output_type": "error",
     "traceback": [
      "\u001b[1;31m---------------------------------------------------------------------------\u001b[0m",
      "\u001b[1;31mTypeError\u001b[0m                                 Traceback (most recent call last)",
      "\u001b[1;32m~\\AppData\\Local\\Temp/ipykernel_1056/2223180157.py\u001b[0m in \u001b[0;36m<module>\u001b[1;34m\u001b[0m\n\u001b[0;32m      1\u001b[0m \u001b[1;31m# Rank items by the last month sales\u001b[0m\u001b[1;33m\u001b[0m\u001b[1;33m\u001b[0m\u001b[0m\n\u001b[1;32m----> 2\u001b[1;33m last_month_sorted_df = date_item_df.loc['2011-11-30'].sort_values(\n\u001b[0m\u001b[0;32m      3\u001b[0m     \u001b[0mby\u001b[0m\u001b[1;33m=\u001b[0m\u001b[1;34m'Quantity'\u001b[0m\u001b[1;33m,\u001b[0m \u001b[0mascending\u001b[0m\u001b[1;33m=\u001b[0m\u001b[1;32mFalse\u001b[0m\u001b[1;33m\u001b[0m\u001b[1;33m\u001b[0m\u001b[0m\n\u001b[0;32m      4\u001b[0m ).reset_index()\n",
      "\u001b[1;32m~\\anaconda3\\lib\\site-packages\\pandas\\util\\_decorators.py\u001b[0m in \u001b[0;36mwrapper\u001b[1;34m(*args, **kwargs)\u001b[0m\n\u001b[0;32m    309\u001b[0m                     \u001b[0mstacklevel\u001b[0m\u001b[1;33m=\u001b[0m\u001b[0mstacklevel\u001b[0m\u001b[1;33m,\u001b[0m\u001b[1;33m\u001b[0m\u001b[1;33m\u001b[0m\u001b[0m\n\u001b[0;32m    310\u001b[0m                 )\n\u001b[1;32m--> 311\u001b[1;33m             \u001b[1;32mreturn\u001b[0m \u001b[0mfunc\u001b[0m\u001b[1;33m(\u001b[0m\u001b[1;33m*\u001b[0m\u001b[0margs\u001b[0m\u001b[1;33m,\u001b[0m \u001b[1;33m**\u001b[0m\u001b[0mkwargs\u001b[0m\u001b[1;33m)\u001b[0m\u001b[1;33m\u001b[0m\u001b[1;33m\u001b[0m\u001b[0m\n\u001b[0m\u001b[0;32m    312\u001b[0m \u001b[1;33m\u001b[0m\u001b[0m\n\u001b[0;32m    313\u001b[0m         \u001b[1;32mreturn\u001b[0m \u001b[0mwrapper\u001b[0m\u001b[1;33m\u001b[0m\u001b[1;33m\u001b[0m\u001b[0m\n",
      "\u001b[1;31mTypeError\u001b[0m: sort_values() got an unexpected keyword argument 'by'"
     ]
    }
   ],
   "source": [
    "# Rank items by the last month sales\n",
    "last_month_sorted_df = date_item_df.loc['2011-11-30'].sort_values(\n",
    "    by='Quantity', ascending=False\n",
    ").reset_index()"
   ]
  },
  {
   "cell_type": "code",
   "execution_count": null,
   "id": "51b73a3f-931b-484e-a76b-fe664d7cdbd5",
   "metadata": {},
   "outputs": [],
   "source": [
    "last_month_sorted_df"
   ]
  },
  {
   "cell_type": "markdown",
   "id": "1832f5f1-f2f7-4786-ace4-c5180760cbb3",
   "metadata": {},
   "source": [
    "As you can see from this code, we can use the sort_values function to sort a\n",
    "pandas DataFrame by any column we want by providing the column name in the\n",
    "input argument, by. Here, we are sorting the data by the column, Quantity, in\n",
    "descending order, by setting the ascending flag to False. The result looks like the\n",
    "following:\n"
   ]
  },
  {
   "cell_type": "code",
   "execution_count": null,
   "id": "e8e5b1a8-920d-4657-9c5a-c11b727128e3",
   "metadata": {},
   "outputs": [],
   "source": [
    "As you can see from this result, the products with the codes 23084, 84826,\n",
    "22197, 22086, and 85099B were the top five best-sellers in the month of\n",
    "November 2011.\n",
    "\n",
    "Now that we know what the top five best-sellers were in November 2011,\n",
    "let's aggregate the monthly sales data for these five products again. Take a\n",
    "look at the following code"
   ]
  },
  {
   "cell_type": "code",
   "execution_count": 210,
   "id": "632992f7-9b51-4a89-836c-f3162b350ab8",
   "metadata": {},
   "outputs": [],
   "source": [
    "date_item_df = df.loc[\n",
    "df['StockCode'].isin([23084, 84826, 22197, 22086, '85099B'])\n",
    "].set_index('InvoiceDate').groupby([\n",
    "pd.Grouper(freq='M'), 'StockCode'\n",
    "])['Quantity'].sum()"
   ]
  },
  {
   "cell_type": "markdown",
   "id": "71cc2647-a437-4f8e-94fd-5b4d5aa3672f",
   "metadata": {},
   "source": [
    "As you can see from this code, we are still grouping the data by each month\n",
    "and StockCode, and summing up the quantities sold. However, one thing to note\n",
    "here is the isin operator. The isin operator within the loc operator checks\n",
    "whether each record matches with one of the elements in the array. In our\n",
    "case, we are checking if the StockCode of each record matches with the top five\n",
    "best-sellers' item codes. Using this code, we can aggregate the data by month\n",
    "and product just for the top five best-sellers in November 2011. The first few\n",
    "records of the result look like the following"
   ]
  },
  {
   "cell_type": "code",
   "execution_count": 211,
   "id": "7bf61aa6-ab3f-4f27-ba31-5680e58e6cec",
   "metadata": {},
   "outputs": [
    {
     "data": {
      "text/plain": [
       "InvoiceDate  StockCode\n",
       "2010-12-31   22086         2460\n",
       "             22197         2738\n",
       "             84826          366\n",
       "             85099B        2152\n",
       "2011-01-31   22086           24\n",
       "             22197         1824\n",
       "             84826          480\n",
       "             85099B        2747\n",
       "2011-02-28   22086            5\n",
       "             22197         2666\n",
       "             84826           66\n",
       "             85099B        3080\n",
       "2011-03-31   22086           87\n",
       "             22197         2803\n",
       "             84826           60\n",
       "             85099B        5282\n",
       "2011-04-30   22086           13\n",
       "             22197         1869\n",
       "             84826            1\n",
       "             85099B        2456\n",
       "2011-05-31   22086           17\n",
       "             22197         6849\n",
       "             23084         1131\n",
       "             85099B        3621\n",
       "2011-06-30   22086          344\n",
       "             22197         2095\n",
       "             23084         1713\n",
       "             84826            4\n",
       "             85099B        3682\n",
       "2011-07-31   22086          383\n",
       "             22197         1876\n",
       "             23084          318\n",
       "             84826            2\n",
       "             85099B        3129\n",
       "2011-08-31   22086          490\n",
       "             22197         5421\n",
       "             23084         2267\n",
       "             84826           72\n",
       "             85099B        5502\n",
       "2011-09-30   22086         2106\n",
       "             22197         4196\n",
       "             23084          680\n",
       "             85099B        4401\n",
       "2011-10-31   22086         3429\n",
       "             22197         5907\n",
       "             23084         6348\n",
       "             84826           11\n",
       "             85099B        5412\n",
       "2011-11-30   22086         7908\n",
       "             22197        12460\n",
       "             23084        14954\n",
       "             84826        12551\n",
       "             85099B        5909\n",
       "Name: Quantity, dtype: int64"
      ]
     },
     "execution_count": 211,
     "metadata": {},
     "output_type": "execute_result"
    }
   ],
   "source": [
    "date_item_df "
   ]
  },
  {
   "cell_type": "markdown",
   "id": "8627943b-2377-471d-bd38-3850a06120e3",
   "metadata": {},
   "source": [
    "Now that we have this monthly sales data for the top five products, we need to\n",
    "transform this data into a tabular format, where the columns are the individual\n",
    "item codes, the row indexes are the invoice dates, and the values are the\n",
    "number of items sold, so that we can visualize this data as a time series chart.\n",
    "The following code shows you how you can transform this data into a tabular\n",
    "format"
   ]
  },
  {
   "cell_type": "code",
   "execution_count": 214,
   "id": "498c38ae-6d50-457f-bf4a-12e7d0dcbca6",
   "metadata": {},
   "outputs": [],
   "source": [
    "trending_itmes_df = date_item_df.reset_index().pivot('InvoiceDate','StockCode').fillna(0)\n",
    "trending_itmes_df = trending_itmes_df.reset_index()\n",
    "trending_itmes_df = trending_itmes_df.set_index('InvoiceDate')\n",
    "trending_itmes_df.columns = trending_itmes_df.columns.droplevel(0)"
   ]
  },
  {
   "cell_type": "markdown",
   "id": "0e287bd7-506b-4488-ab7d-c7b666a59206",
   "metadata": {},
   "source": [
    "As you can see in this code, we are using the pivot function to pivot this\n",
    "DataFrame, where the index is the InvoiceDate and the columns are individual\n",
    "codes in the StockCode column. The result looks like the following:"
   ]
  },
  {
   "cell_type": "code",
   "execution_count": 215,
   "id": "66ba6f31-dfd8-45c2-b887-53c244cc57d9",
   "metadata": {},
   "outputs": [
    {
     "data": {
      "text/html": [
       "<div>\n",
       "<style scoped>\n",
       "    .dataframe tbody tr th:only-of-type {\n",
       "        vertical-align: middle;\n",
       "    }\n",
       "\n",
       "    .dataframe tbody tr th {\n",
       "        vertical-align: top;\n",
       "    }\n",
       "\n",
       "    .dataframe thead th {\n",
       "        text-align: right;\n",
       "    }\n",
       "</style>\n",
       "<table border=\"1\" class=\"dataframe\">\n",
       "  <thead>\n",
       "    <tr style=\"text-align: right;\">\n",
       "      <th>StockCode</th>\n",
       "      <th>22086</th>\n",
       "      <th>22197</th>\n",
       "      <th>23084</th>\n",
       "      <th>84826</th>\n",
       "      <th>85099B</th>\n",
       "    </tr>\n",
       "    <tr>\n",
       "      <th>InvoiceDate</th>\n",
       "      <th></th>\n",
       "      <th></th>\n",
       "      <th></th>\n",
       "      <th></th>\n",
       "      <th></th>\n",
       "    </tr>\n",
       "  </thead>\n",
       "  <tbody>\n",
       "    <tr>\n",
       "      <th>2010-12-31</th>\n",
       "      <td>2460.0</td>\n",
       "      <td>2738.0</td>\n",
       "      <td>0.0</td>\n",
       "      <td>366.0</td>\n",
       "      <td>2152.0</td>\n",
       "    </tr>\n",
       "    <tr>\n",
       "      <th>2011-01-31</th>\n",
       "      <td>24.0</td>\n",
       "      <td>1824.0</td>\n",
       "      <td>0.0</td>\n",
       "      <td>480.0</td>\n",
       "      <td>2747.0</td>\n",
       "    </tr>\n",
       "    <tr>\n",
       "      <th>2011-02-28</th>\n",
       "      <td>5.0</td>\n",
       "      <td>2666.0</td>\n",
       "      <td>0.0</td>\n",
       "      <td>66.0</td>\n",
       "      <td>3080.0</td>\n",
       "    </tr>\n",
       "    <tr>\n",
       "      <th>2011-03-31</th>\n",
       "      <td>87.0</td>\n",
       "      <td>2803.0</td>\n",
       "      <td>0.0</td>\n",
       "      <td>60.0</td>\n",
       "      <td>5282.0</td>\n",
       "    </tr>\n",
       "    <tr>\n",
       "      <th>2011-04-30</th>\n",
       "      <td>13.0</td>\n",
       "      <td>1869.0</td>\n",
       "      <td>0.0</td>\n",
       "      <td>1.0</td>\n",
       "      <td>2456.0</td>\n",
       "    </tr>\n",
       "    <tr>\n",
       "      <th>2011-05-31</th>\n",
       "      <td>17.0</td>\n",
       "      <td>6849.0</td>\n",
       "      <td>1131.0</td>\n",
       "      <td>0.0</td>\n",
       "      <td>3621.0</td>\n",
       "    </tr>\n",
       "    <tr>\n",
       "      <th>2011-06-30</th>\n",
       "      <td>344.0</td>\n",
       "      <td>2095.0</td>\n",
       "      <td>1713.0</td>\n",
       "      <td>4.0</td>\n",
       "      <td>3682.0</td>\n",
       "    </tr>\n",
       "    <tr>\n",
       "      <th>2011-07-31</th>\n",
       "      <td>383.0</td>\n",
       "      <td>1876.0</td>\n",
       "      <td>318.0</td>\n",
       "      <td>2.0</td>\n",
       "      <td>3129.0</td>\n",
       "    </tr>\n",
       "    <tr>\n",
       "      <th>2011-08-31</th>\n",
       "      <td>490.0</td>\n",
       "      <td>5421.0</td>\n",
       "      <td>2267.0</td>\n",
       "      <td>72.0</td>\n",
       "      <td>5502.0</td>\n",
       "    </tr>\n",
       "    <tr>\n",
       "      <th>2011-09-30</th>\n",
       "      <td>2106.0</td>\n",
       "      <td>4196.0</td>\n",
       "      <td>680.0</td>\n",
       "      <td>0.0</td>\n",
       "      <td>4401.0</td>\n",
       "    </tr>\n",
       "    <tr>\n",
       "      <th>2011-10-31</th>\n",
       "      <td>3429.0</td>\n",
       "      <td>5907.0</td>\n",
       "      <td>6348.0</td>\n",
       "      <td>11.0</td>\n",
       "      <td>5412.0</td>\n",
       "    </tr>\n",
       "    <tr>\n",
       "      <th>2011-11-30</th>\n",
       "      <td>7908.0</td>\n",
       "      <td>12460.0</td>\n",
       "      <td>14954.0</td>\n",
       "      <td>12551.0</td>\n",
       "      <td>5909.0</td>\n",
       "    </tr>\n",
       "  </tbody>\n",
       "</table>\n",
       "</div>"
      ],
      "text/plain": [
       "StockCode     22086    22197    23084    84826  85099B\n",
       "InvoiceDate                                           \n",
       "2010-12-31   2460.0   2738.0      0.0    366.0  2152.0\n",
       "2011-01-31     24.0   1824.0      0.0    480.0  2747.0\n",
       "2011-02-28      5.0   2666.0      0.0     66.0  3080.0\n",
       "2011-03-31     87.0   2803.0      0.0     60.0  5282.0\n",
       "2011-04-30     13.0   1869.0      0.0      1.0  2456.0\n",
       "2011-05-31     17.0   6849.0   1131.0      0.0  3621.0\n",
       "2011-06-30    344.0   2095.0   1713.0      4.0  3682.0\n",
       "2011-07-31    383.0   1876.0    318.0      2.0  3129.0\n",
       "2011-08-31    490.0   5421.0   2267.0     72.0  5502.0\n",
       "2011-09-30   2106.0   4196.0    680.0      0.0  4401.0\n",
       "2011-10-31   3429.0   5907.0   6348.0     11.0  5412.0\n",
       "2011-11-30   7908.0  12460.0  14954.0  12551.0  5909.0"
      ]
     },
     "execution_count": 215,
     "metadata": {},
     "output_type": "execute_result"
    }
   ],
   "source": [
    "trending_itmes_df"
   ]
  },
  {
   "cell_type": "markdown",
   "id": "7d3a1b5d-644b-4cc9-bb21-70d5b1d67889",
   "metadata": {},
   "source": [
    "With this time series data, we can now visualize the trends over time. You can\n",
    "use the following code to build a time series plot for trending items:"
   ]
  },
  {
   "cell_type": "code",
   "execution_count": 216,
   "id": "2a54e3ae-4d5f-45b9-a62d-36521b08d198",
   "metadata": {},
   "outputs": [
    {
     "data": {
      "image/png": "[encoded data removed]",
      "text/plain": [
       "<Figure size 720x504 with 1 Axes>"
      ]
     },
     "metadata": {
      "needs_background": "light"
     },
     "output_type": "display_data"
    }
   ],
   "source": [
    "ax = pd.DataFrame(trending_itmes_df.values).plot(\n",
    "figsize=(10,7),\n",
    "grid=True,\n",
    ")\n",
    "ax.set_ylabel('number of purchases')\n",
    "ax.set_xlabel('date')\n",
    "ax.set_title('Item Trends over Time')\n",
    "ax.legend(trending_itmes_df.columns, loc='upper left')\n",
    "plt.xticks(\n",
    "range(len(trending_itmes_df.index)),\n",
    "[x.strftime('%m.%Y') for x in trending_itmes_df.index],\n",
    "rotation=45\n",
    ")\n",
    "plt.show()"
   ]
  },
  {
   "cell_type": "markdown",
   "id": "420d4e3f-7c12-47da-a2c8-21b89e939bba",
   "metadata": {},
   "source": [
    "When you run this code, you should see the following chart:"
   ]
  },
  {
   "cell_type": "markdown",
   "id": "5631a0b6-2b15-481e-a4cb-de5bbc0db3a3",
   "metadata": {},
   "source": [
    "Let's take a closer look at this time series plot. The sales of these five\n",
    "products spiked in November 2011, especially, the sales of the product with\n",
    "the stock code, 85099B, which were close to 0 from February 2011 to\n",
    "October 2011. Then, it suddenly spiked in November 2011. It might be worth\n",
    "taking a closer look into what might have driven this spike. It could be an item\n",
    "that is highly sensitive to seasonality, such that this item becomes very popular\n",
    "during November, or it could also be due to a genuine change in trends that\n",
    "led this item to become suddenly more popular than before."
   ]
  },
  {
   "cell_type": "markdown",
   "id": "2db9efc3-f592-4153-8db6-f91c4b6af2d3",
   "metadata": {},
   "source": [
    "The popularity of the rest of the top five products, 22086, 22197, 23084, and\n",
    "84826, seem to have built up in the few months prior to November 2011. As a\n",
    "marketer, it would be worthwhile taking a closer look at the potential drivers\n",
    "behind this buildup of rising popularity for these items. You could look at\n",
    "whether these items are typically more popular in colder seasons or whether\n",
    "there is a rising trend for these specific items in the market.\n",
    "Analyzing the trends and changes in the popularity of products not only helps\n",
    "you understand what your customers like and purchase the most, but also helps\n",
    "you tailor your marketing messages. For example, you can recommend these\n",
    "items with rising popularity in your marketing emails, calls, or advertisements\n",
    "to improve customer engagement. As it has been shown that your customers\n",
    "are more interested and more likely to purchase these items, you might get\n",
    "higher marketing engagement from your customers when you market these\n",
    "items more and you might eventually get higher conversion rates when you\n",
    "target your customers with these trending items. Using these popular and\n",
    "trending items is one way to build a product recommendation engine, which\n",
    "we are going to expand on and experiment with thoroughly in the next chapter.\n",
    "The full code for Python exercises in this section can be found at: https://github.com/yoonh\n"
   ]
  },
  {
   "cell_type": "code",
   "execution_count": null,
   "id": "a6f43004-6c1a-4e2e-82b1-ea2ddffec57e",
   "metadata": {},
   "outputs": [],
   "source": [
    ": https://github.com/yoonh\n",
    "wang/hands-on-data-science-for-marketing/blob/master/ch.5/python/Product%20Analytics.ipynb."
   ]
  }
 ],
 "metadata": {
  "kernelspec": {
   "display_name": "Python 3 (ipykernel)",
   "language": "python",
   "name": "python3"
  },
  "language_info": {
   "codemirror_mode": {
    "name": "ipython",
    "version": 3
   },
   "file_extension": ".py",
   "mimetype": "text/x-python",
   "name": "python",
   "nbconvert_exporter": "python",
   "pygments_lexer": "ipython3",
   "version": "3.9.7"
  }
 },
 "nbformat": 4,
 "nbformat_minor": 5
}
